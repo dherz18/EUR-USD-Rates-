{
  "cells": [
    {
      "cell_type": "markdown",
      "source": [
        "In this Jupyter notebook, we are conducting an exploratory analysis of the daily exchange rates between the Euro and the US dollar from 1999 to 2022. The primary objective of this analysis is to study the trend in the exchange rate over the years, especially focusing on instances when the value of the US dollar exceeded the Euro. We will be utilizing the Pandas library for data manipulation and analysis, and Matplotlib for data visualization."
      ],
      "metadata": {},
      "id": "1d08e644"
    },
    {
      "cell_type": "code",
      "source": [
        "import pandas as pd\n",
        "\n",
        "df = pd.read_csv('euro-daily-hist_1999_2022.csv')\n",
        "df.head()"
      ],
      "outputs": [
        {
          "output_type": "display_data",
          "data": {
            "application/vnd.dataresource+json": {
              "schema": {
                "fields": [
                  {
                    "name": "index",
                    "type": "integer"
                  },
                  {
                    "name": "Period\\Unit:",
                    "type": "string"
                  },
                  {
                    "name": "[Australian dollar ]",
                    "type": "string"
                  },
                  {
                    "name": "[Bulgarian lev ]",
                    "type": "string"
                  },
                  {
                    "name": "[Brazilian real ]",
                    "type": "string"
                  },
                  {
                    "name": "[Canadian dollar ]",
                    "type": "string"
                  },
                  {
                    "name": "[Swiss franc ]",
                    "type": "string"
                  },
                  {
                    "name": "[Chinese yuan renminbi ]",
                    "type": "string"
                  },
                  {
                    "name": "[Cypriot pound ]",
                    "type": "string"
                  },
                  {
                    "name": "[Czech koruna ]",
                    "type": "string"
                  },
                  {
                    "name": "[Danish krone ]",
                    "type": "string"
                  },
                  {
                    "name": "[Estonian kroon ]",
                    "type": "string"
                  },
                  {
                    "name": "[UK pound sterling ]",
                    "type": "string"
                  },
                  {
                    "name": "[Greek drachma ]",
                    "type": "string"
                  },
                  {
                    "name": "[Hong Kong dollar ]",
                    "type": "string"
                  },
                  {
                    "name": "[Croatian kuna ]",
                    "type": "string"
                  },
                  {
                    "name": "[Hungarian forint ]",
                    "type": "string"
                  },
                  {
                    "name": "[Indonesian rupiah ]",
                    "type": "string"
                  },
                  {
                    "name": "[Israeli shekel ]",
                    "type": "string"
                  },
                  {
                    "name": "[Indian rupee ]",
                    "type": "string"
                  },
                  {
                    "name": "[Iceland krona ]",
                    "type": "number"
                  },
                  {
                    "name": "[Japanese yen ]",
                    "type": "string"
                  },
                  {
                    "name": "[Korean won ]",
                    "type": "string"
                  },
                  {
                    "name": "[Lithuanian litas ]",
                    "type": "string"
                  },
                  {
                    "name": "[Latvian lats ]",
                    "type": "string"
                  },
                  {
                    "name": "[Maltese lira ]",
                    "type": "string"
                  },
                  {
                    "name": "[Mexican peso ]",
                    "type": "string"
                  },
                  {
                    "name": "[Malaysian ringgit ]",
                    "type": "string"
                  },
                  {
                    "name": "[Norwegian krone ]",
                    "type": "string"
                  },
                  {
                    "name": "[New Zealand dollar ]",
                    "type": "string"
                  },
                  {
                    "name": "[Philippine peso ]",
                    "type": "string"
                  },
                  {
                    "name": "[Polish zloty ]",
                    "type": "string"
                  },
                  {
                    "name": "[Romanian leu ]",
                    "type": "number"
                  },
                  {
                    "name": "[Russian rouble ]",
                    "type": "string"
                  },
                  {
                    "name": "[Swedish krona ]",
                    "type": "string"
                  },
                  {
                    "name": "[Singapore dollar ]",
                    "type": "string"
                  },
                  {
                    "name": "[Slovenian tolar ]",
                    "type": "string"
                  },
                  {
                    "name": "[Slovak koruna ]",
                    "type": "string"
                  },
                  {
                    "name": "[Thai baht ]",
                    "type": "string"
                  },
                  {
                    "name": "[Turkish lira ]",
                    "type": "number"
                  },
                  {
                    "name": "[US dollar ]",
                    "type": "string"
                  },
                  {
                    "name": "[South African rand ]",
                    "type": "string"
                  }
                ],
                "primaryKey": [
                  "index"
                ],
                "pandas_version": "1.4.0"
              },
              "data": [
                {
                  "index": 0,
                  "Period\\Unit:": "2022-10-04",
                  "[Australian dollar ]": "1.5318",
                  "[Bulgarian lev ]": "1.9558",
                  "[Brazilian real ]": "5.0589",
                  "[Canadian dollar ]": "1.3503",
                  "[Swiss franc ]": "0.9767",
                  "[Chinese yuan renminbi ]": "7.0384",
                  "[Cypriot pound ]": null,
                  "[Czech koruna ]": "24.544",
                  "[Danish krone ]": "7.4374",
                  "[Estonian kroon ]": null,
                  "[UK pound sterling ]": "0.87273",
                  "[Greek drachma ]": null,
                  "[Hong Kong dollar ]": "7.7644",
                  "[Croatian kuna ]": "7.5230",
                  "[Hungarian forint ]": "417.68",
                  "[Indonesian rupiah ]": "15080.18",
                  "[Israeli shekel ]": "3.4885",
                  "[Indian rupee ]": "80.6995",
                  "[Iceland krona ]": 141.9,
                  "[Japanese yen ]": "143.30",
                  "[Korean won ]": "1412.20",
                  "[Lithuanian litas ]": null,
                  "[Latvian lats ]": null,
                  "[Maltese lira ]": null,
                  "[Mexican peso ]": "19.7770",
                  "[Malaysian ringgit ]": "4.5939",
                  "[Norwegian krone ]": "10.4915",
                  "[New Zealand dollar ]": "1.7368",
                  "[Philippine peso ]": "58.104",
                  "[Polish zloty ]": "4.8193",
                  "[Romanian leu ]": 4.9418,
                  "[Russian rouble ]": null,
                  "[Swedish krona ]": "10.8166",
                  "[Singapore dollar ]": "1.4148",
                  "[Slovenian tolar ]": null,
                  "[Slovak koruna ]": null,
                  "[Thai baht ]": "37.1600",
                  "[Turkish lira ]": 18.3374,
                  "[US dollar ]": "0.9891",
                  "[South African rand ]": "17.5437"
                },
                {
                  "index": 1,
                  "Period\\Unit:": "2022-10-03",
                  "[Australian dollar ]": "1.5128",
                  "[Bulgarian lev ]": "1.9558",
                  "[Brazilian real ]": "5.1780",
                  "[Canadian dollar ]": "1.3412",
                  "[Swiss franc ]": "0.9658",
                  "[Chinese yuan renminbi ]": "6.9481",
                  "[Cypriot pound ]": null,
                  "[Czech koruna ]": "24.527",
                  "[Danish krone ]": "7.4366",
                  "[Estonian kroon ]": null,
                  "[UK pound sterling ]": "0.87070",
                  "[Greek drachma ]": null,
                  "[Hong Kong dollar ]": "7.6647",
                  "[Croatian kuna ]": "7.5275",
                  "[Hungarian forint ]": "424.86",
                  "[Indonesian rupiah ]": "14969.79",
                  "[Israeli shekel ]": "3.4980",
                  "[Indian rupee ]": "79.8980",
                  "[Iceland krona ]": 141.7,
                  "[Japanese yen ]": "141.49",
                  "[Korean won ]": "1408.25",
                  "[Lithuanian litas ]": null,
                  "[Latvian lats ]": null,
                  "[Maltese lira ]": null,
                  "[Mexican peso ]": "19.6040",
                  "[Malaysian ringgit ]": "4.5383",
                  "[Norwegian krone ]": "10.5655",
                  "[New Zealand dollar ]": "1.7263",
                  "[Philippine peso ]": "57.599",
                  "[Polish zloty ]": "4.8320",
                  "[Romanian leu ]": 4.9479,
                  "[Russian rouble ]": null,
                  "[Swedish krona ]": "10.8743",
                  "[Singapore dollar ]": "1.4015",
                  "[Slovenian tolar ]": null,
                  "[Slovak koruna ]": null,
                  "[Thai baht ]": "37.1810",
                  "[Turkish lira ]": 18.124,
                  "[US dollar ]": "0.9764",
                  "[South African rand ]": "17.5871"
                },
                {
                  "index": 2,
                  "Period\\Unit:": "2022-09-30",
                  "[Australian dollar ]": "1.5076",
                  "[Bulgarian lev ]": "1.9558",
                  "[Brazilian real ]": "5.2584",
                  "[Canadian dollar ]": "1.3401",
                  "[Swiss franc ]": "0.9561",
                  "[Chinese yuan renminbi ]": "6.9368",
                  "[Cypriot pound ]": null,
                  "[Czech koruna ]": "24.549",
                  "[Danish krone ]": "7.4365",
                  "[Estonian kroon ]": null,
                  "[UK pound sterling ]": "0.88300",
                  "[Greek drachma ]": null,
                  "[Hong Kong dollar ]": "7.6521",
                  "[Croatian kuna ]": "7.5240",
                  "[Hungarian forint ]": "422.18",
                  "[Indonesian rupiah ]": "14863.26",
                  "[Israeli shekel ]": "3.4759",
                  "[Indian rupee ]": "79.4250",
                  "[Iceland krona ]": 140.9,
                  "[Japanese yen ]": "141.01",
                  "[Korean won ]": "1400.69",
                  "[Lithuanian litas ]": null,
                  "[Latvian lats ]": null,
                  "[Maltese lira ]": null,
                  "[Mexican peso ]": "19.6393",
                  "[Malaysian ringgit ]": "4.5201",
                  "[Norwegian krone ]": "10.5838",
                  "[New Zealand dollar ]": "1.7177",
                  "[Philippine peso ]": "57.276",
                  "[Polish zloty ]": "4.8483",
                  "[Romanian leu ]": 4.949,
                  "[Russian rouble ]": null,
                  "[Swedish krona ]": "10.8993",
                  "[Singapore dollar ]": "1.4001",
                  "[Slovenian tolar ]": null,
                  "[Slovak koruna ]": null,
                  "[Thai baht ]": "36.8230",
                  "[Turkish lira ]": 18.0841,
                  "[US dollar ]": "0.9748",
                  "[South African rand ]": "17.5353"
                },
                {
                  "index": 3,
                  "Period\\Unit:": "2022-09-29",
                  "[Australian dollar ]": "1.4982",
                  "[Bulgarian lev ]": "1.9558",
                  "[Brazilian real ]": "5.2521",
                  "[Canadian dollar ]": "1.3294",
                  "[Swiss franc ]": "0.9538",
                  "[Chinese yuan renminbi ]": "6.9223",
                  "[Cypriot pound ]": null,
                  "[Czech koruna ]": "24.687",
                  "[Danish krone ]": "7.4365",
                  "[Estonian kroon ]": null,
                  "[UK pound sterling ]": "0.89485",
                  "[Greek drachma ]": null,
                  "[Hong Kong dollar ]": "7.6192",
                  "[Croatian kuna ]": "7.5280",
                  "[Hungarian forint ]": "421.93",
                  "[Indonesian rupiah ]": "14735.97",
                  "[Israeli shekel ]": "3.4422",
                  "[Indian rupee ]": "79.3140",
                  "[Iceland krona ]": 140.1,
                  "[Japanese yen ]": "140.46",
                  "[Korean won ]": "1388.34",
                  "[Lithuanian litas ]": null,
                  "[Latvian lats ]": null,
                  "[Maltese lira ]": null,
                  "[Mexican peso ]": "19.5779",
                  "[Malaysian ringgit ]": "4.4992",
                  "[Norwegian krone ]": "10.4518",
                  "[New Zealand dollar ]": "1.7040",
                  "[Philippine peso ]": "56.860",
                  "[Polish zloty ]": "4.8570",
                  "[Romanian leu ]": 4.9481,
                  "[Russian rouble ]": null,
                  "[Swedish krona ]": "10.9580",
                  "[Singapore dollar ]": "1.3961",
                  "[Slovenian tolar ]": null,
                  "[Slovak koruna ]": null,
                  "[Thai baht ]": "36.9460",
                  "[Turkish lira ]": 18,
                  "[US dollar ]": "0.9706",
                  "[South African rand ]": "17.4466"
                },
                {
                  "index": 4,
                  "Period\\Unit:": "2022-09-28",
                  "[Australian dollar ]": "1.4924",
                  "[Bulgarian lev ]": "1.9558",
                  "[Brazilian real ]": "5.1728",
                  "[Canadian dollar ]": "1.3157",
                  "[Swiss franc ]": "0.9437",
                  "[Chinese yuan renminbi ]": "6.9199",
                  "[Cypriot pound ]": null,
                  "[Czech koruna ]": "24.650",
                  "[Danish krone ]": "7.4368",
                  "[Estonian kroon ]": null,
                  "[UK pound sterling ]": "0.90268",
                  "[Greek drachma ]": null,
                  "[Hong Kong dollar ]": "7.5084",
                  "[Croatian kuna ]": "7.5313",
                  "[Hungarian forint ]": "411.72",
                  "[Indonesian rupiah ]": "14622.96",
                  "[Israeli shekel ]": "3.3931",
                  "[Indian rupee ]": "78.2655",
                  "[Iceland krona ]": 139.7,
                  "[Japanese yen ]": "138.39",
                  "[Korean won ]": "1378.84",
                  "[Lithuanian litas ]": null,
                  "[Latvian lats ]": null,
                  "[Maltese lira ]": null,
                  "[Mexican peso ]": "19.5294",
                  "[Malaysian ringgit ]": "4.4281",
                  "[Norwegian krone ]": "10.4576",
                  "[New Zealand dollar ]": "1.6998",
                  "[Philippine peso ]": "56.528",
                  "[Polish zloty ]": "4.8043",
                  "[Romanian leu ]": 4.9485,
                  "[Russian rouble ]": null,
                  "[Swedish krona ]": "10.9194",
                  "[Singapore dollar ]": "1.3846",
                  "[Slovenian tolar ]": null,
                  "[Slovak koruna ]": null,
                  "[Thai baht ]": "36.6870",
                  "[Turkish lira ]": 17.7311,
                  "[US dollar ]": "0.9565",
                  "[South African rand ]": "17.2916"
                }
              ],
              "datalink": {
                "display_id": "2e6ddf76-c726-422d-b057-0abbed537dc8"
              }
            }
          },
          "metadata": {
            "application/vnd.dataresource+json": {
              "datalink": {
                "dataframe_info": {
                  "default_index_used": true,
                  "orig_size_bytes": 1680,
                  "orig_num_rows": 5,
                  "orig_num_cols": 41,
                  "truncated_string_columns": [],
                  "truncated_size_bytes": 1680,
                  "truncated_num_rows": 5,
                  "truncated_num_cols": 41
                },
                "dx_settings": {
                  "NUM_PAST_SAMPLES_TRACKED": 3,
                  "ENABLE_DATALINK": true,
                  "DISPLAY_MODE": "simple",
                  "GENERATE_DEX_METADATA": false,
                  "STRINGIFY_INDEX_VALUES": false,
                  "ALLOW_NOTEABLE_ATTRS": true,
                  "DISPLAY_MAX_COLUMNS": 100,
                  "HTML_TABLE_SCHEMA": false,
                  "SAMPLING_FACTOR": 0.1,
                  "LOG_LEVEL": 30,
                  "ENABLE_ASSIGNMENT": true,
                  "FLATTEN_INDEX_VALUES": false,
                  "DEV_MODE": false,
                  "COLUMN_SAMPLING_METHOD": "outer",
                  "FLATTEN_COLUMN_VALUES": true,
                  "DISPLAY_MAX_ROWS": 50000,
                  "ROW_SAMPLING_METHOD": "random",
                  "RANDOM_STATE": 12648430,
                  "DB_LOCATION": ":memory:",
                  "STRINGIFY_COLUMN_VALUES": true,
                  "SAMPLING_METHOD": "random",
                  "MAX_STRING_LENGTH": 250,
                  "MAX_RENDER_SIZE_BYTES": 104857600,
                  "RESET_INDEX_VALUES": false
                },
                "display_id": "2e6ddf76-c726-422d-b057-0abbed537dc8",
                "applied_filters": [],
                "sample_history": [],
                "sampling_time": "2023-06-05T20:01:23.701118",
                "variable_name": "unk_dataframe_ac5eba1061a8461bb9f588c9635bdf9a",
                "user_variable_name": null
              },
              "display_id": "2e6ddf76-c726-422d-b057-0abbed537dc8"
            }
          }
        }
      ],
      "execution_count": null,
      "metadata": {
        "noteable": {},
        "ExecuteTime": {
          "start_time": "2023-06-05T20:01:23.433711+00:00",
          "end_time": "2023-06-05T20:01:23.864967+00:00"
        },
        "datalink": {
          "2e6ddf76-c726-422d-b057-0abbed537dc8": {
            "dataframe_info": {
              "default_index_used": true,
              "orig_size_bytes": 1680,
              "orig_num_rows": 5,
              "orig_num_cols": 41,
              "truncated_string_columns": [],
              "truncated_size_bytes": 1680,
              "truncated_num_rows": 5,
              "truncated_num_cols": 41
            },
            "dx_settings": {
              "LOG_LEVEL": 30,
              "DEV_MODE": false,
              "DISPLAY_MAX_ROWS": 50000,
              "DISPLAY_MAX_COLUMNS": 100,
              "HTML_TABLE_SCHEMA": false,
              "MAX_RENDER_SIZE_BYTES": 104857600,
              "MAX_STRING_LENGTH": 250,
              "SAMPLING_FACTOR": 0.1,
              "DISPLAY_MODE": "simple",
              "SAMPLING_METHOD": "random",
              "COLUMN_SAMPLING_METHOD": "outer",
              "ROW_SAMPLING_METHOD": "random",
              "RANDOM_STATE": 12648430,
              "RESET_INDEX_VALUES": false,
              "FLATTEN_INDEX_VALUES": false,
              "FLATTEN_COLUMN_VALUES": true,
              "STRINGIFY_INDEX_VALUES": false,
              "STRINGIFY_COLUMN_VALUES": true,
              "ENABLE_DATALINK": true,
              "ENABLE_ASSIGNMENT": true,
              "NUM_PAST_SAMPLES_TRACKED": 3,
              "DB_LOCATION": ":memory:",
              "GENERATE_DEX_METADATA": false,
              "ALLOW_NOTEABLE_ATTRS": true
            },
            "display_id": "2e6ddf76-c726-422d-b057-0abbed537dc8",
            "applied_filters": [],
            "sample_history": [],
            "sampling_time": "2023-06-05T20:01:23.701118",
            "variable_name": "unk_dataframe_ac5eba1061a8461bb9f588c9635bdf9a",
            "user_variable_name": null
          }
        }
      },
      "id": "1b0ae13f"
    },
    {
      "cell_type": "code",
      "source": [
        "df.tail()"
      ],
      "outputs": [
        {
          "output_type": "display_data",
          "data": {
            "application/vnd.dataresource+json": {
              "schema": {
                "fields": [
                  {
                    "name": "index",
                    "type": "integer"
                  },
                  {
                    "name": "Period\\Unit:",
                    "type": "string"
                  },
                  {
                    "name": "[Australian dollar ]",
                    "type": "string"
                  },
                  {
                    "name": "[Bulgarian lev ]",
                    "type": "string"
                  },
                  {
                    "name": "[Brazilian real ]",
                    "type": "string"
                  },
                  {
                    "name": "[Canadian dollar ]",
                    "type": "string"
                  },
                  {
                    "name": "[Swiss franc ]",
                    "type": "string"
                  },
                  {
                    "name": "[Chinese yuan renminbi ]",
                    "type": "string"
                  },
                  {
                    "name": "[Cypriot pound ]",
                    "type": "string"
                  },
                  {
                    "name": "[Czech koruna ]",
                    "type": "string"
                  },
                  {
                    "name": "[Danish krone ]",
                    "type": "string"
                  },
                  {
                    "name": "[Estonian kroon ]",
                    "type": "string"
                  },
                  {
                    "name": "[UK pound sterling ]",
                    "type": "string"
                  },
                  {
                    "name": "[Greek drachma ]",
                    "type": "string"
                  },
                  {
                    "name": "[Hong Kong dollar ]",
                    "type": "string"
                  },
                  {
                    "name": "[Croatian kuna ]",
                    "type": "string"
                  },
                  {
                    "name": "[Hungarian forint ]",
                    "type": "string"
                  },
                  {
                    "name": "[Indonesian rupiah ]",
                    "type": "string"
                  },
                  {
                    "name": "[Israeli shekel ]",
                    "type": "string"
                  },
                  {
                    "name": "[Indian rupee ]",
                    "type": "string"
                  },
                  {
                    "name": "[Iceland krona ]",
                    "type": "number"
                  },
                  {
                    "name": "[Japanese yen ]",
                    "type": "string"
                  },
                  {
                    "name": "[Korean won ]",
                    "type": "string"
                  },
                  {
                    "name": "[Lithuanian litas ]",
                    "type": "string"
                  },
                  {
                    "name": "[Latvian lats ]",
                    "type": "string"
                  },
                  {
                    "name": "[Maltese lira ]",
                    "type": "string"
                  },
                  {
                    "name": "[Mexican peso ]",
                    "type": "string"
                  },
                  {
                    "name": "[Malaysian ringgit ]",
                    "type": "string"
                  },
                  {
                    "name": "[Norwegian krone ]",
                    "type": "string"
                  },
                  {
                    "name": "[New Zealand dollar ]",
                    "type": "string"
                  },
                  {
                    "name": "[Philippine peso ]",
                    "type": "string"
                  },
                  {
                    "name": "[Polish zloty ]",
                    "type": "string"
                  },
                  {
                    "name": "[Romanian leu ]",
                    "type": "number"
                  },
                  {
                    "name": "[Russian rouble ]",
                    "type": "string"
                  },
                  {
                    "name": "[Swedish krona ]",
                    "type": "string"
                  },
                  {
                    "name": "[Singapore dollar ]",
                    "type": "string"
                  },
                  {
                    "name": "[Slovenian tolar ]",
                    "type": "string"
                  },
                  {
                    "name": "[Slovak koruna ]",
                    "type": "string"
                  },
                  {
                    "name": "[Thai baht ]",
                    "type": "string"
                  },
                  {
                    "name": "[Turkish lira ]",
                    "type": "number"
                  },
                  {
                    "name": "[US dollar ]",
                    "type": "string"
                  },
                  {
                    "name": "[South African rand ]",
                    "type": "string"
                  }
                ],
                "primaryKey": [
                  "index"
                ],
                "pandas_version": "1.4.0"
              },
              "data": [
                {
                  "index": 6142,
                  "Period\\Unit:": "1999-01-08",
                  "[Australian dollar ]": "1.8406",
                  "[Bulgarian lev ]": null,
                  "[Brazilian real ]": null,
                  "[Canadian dollar ]": "1.7643",
                  "[Swiss franc ]": "1.6138",
                  "[Chinese yuan renminbi ]": null,
                  "[Cypriot pound ]": "0.58187",
                  "[Czech koruna ]": "34.938",
                  "[Danish krone ]": "7.4433",
                  "[Estonian kroon ]": "15.6466",
                  "[UK pound sterling ]": "0.70940",
                  "[Greek drachma ]": "324.00",
                  "[Hong Kong dollar ]": "9.0302",
                  "[Croatian kuna ]": null,
                  "[Hungarian forint ]": "250.15",
                  "[Indonesian rupiah ]": "9321.63",
                  "[Israeli shekel ]": null,
                  "[Indian rupee ]": null,
                  "[Iceland krona ]": 80.99,
                  "[Japanese yen ]": "130.09",
                  "[Korean won ]": "1366.73",
                  "[Lithuanian litas ]": "4.66430",
                  "[Latvian lats ]": "0.6654",
                  "[Maltese lira ]": "0.4419",
                  "[Mexican peso ]": "11.4414",
                  "[Malaysian ringgit ]": "4.4295",
                  "[Norwegian krone ]": "8.5900",
                  "[New Zealand dollar ]": "2.1557",
                  "[Philippine peso ]": "44.295",
                  "[Polish zloty ]": "4.0363",
                  "[Romanian leu ]": 1.3143,
                  "[Russian rouble ]": "27.2075",
                  "[Swedish krona ]": "9.1650",
                  "[Singapore dollar ]": "1.9537",
                  "[Slovenian tolar ]": "188.8400",
                  "[Slovak koruna ]": "42.560",
                  "[Thai baht ]": "42.5590",
                  "[Turkish lira ]": 0.3718,
                  "[US dollar ]": "1.1659",
                  "[South African rand ]": "6.7855"
                },
                {
                  "index": 6143,
                  "Period\\Unit:": "1999-01-07",
                  "[Australian dollar ]": "1.8474",
                  "[Bulgarian lev ]": null,
                  "[Brazilian real ]": null,
                  "[Canadian dollar ]": "1.7602",
                  "[Swiss franc ]": "1.6165",
                  "[Chinese yuan renminbi ]": null,
                  "[Cypriot pound ]": "0.58187",
                  "[Czech koruna ]": "34.886",
                  "[Danish krone ]": "7.4431",
                  "[Estonian kroon ]": "15.6466",
                  "[UK pound sterling ]": "0.70585",
                  "[Greek drachma ]": "324.40",
                  "[Hong Kong dollar ]": "9.0131",
                  "[Croatian kuna ]": null,
                  "[Hungarian forint ]": "250.09",
                  "[Indonesian rupiah ]": "9218.77",
                  "[Israeli shekel ]": null,
                  "[Indian rupee ]": null,
                  "[Iceland krona ]": 81.06,
                  "[Japanese yen ]": "129.43",
                  "[Korean won ]": "1337.16",
                  "[Lithuanian litas ]": "4.65480",
                  "[Latvian lats ]": "0.6627",
                  "[Maltese lira ]": "0.4413",
                  "[Mexican peso ]": "11.5511",
                  "[Malaysian ringgit ]": "4.4203",
                  "[Norwegian krone ]": "8.6295",
                  "[New Zealand dollar ]": "2.1531",
                  "[Philippine peso ]": "44.436",
                  "[Polish zloty ]": "4.0165",
                  "[Romanian leu ]": 1.3092,
                  "[Russian rouble ]": "26.9876",
                  "[Swedish krona ]": "9.1800",
                  "[Singapore dollar ]": "1.9436",
                  "[Slovenian tolar ]": "188.8000",
                  "[Slovak koruna ]": "42.765",
                  "[Thai baht ]": "42.1678",
                  "[Turkish lira ]": 0.3701,
                  "[US dollar ]": "1.1632",
                  "[South African rand ]": "6.8283"
                },
                {
                  "index": 6144,
                  "Period\\Unit:": "1999-01-06",
                  "[Australian dollar ]": "1.8820",
                  "[Bulgarian lev ]": null,
                  "[Brazilian real ]": null,
                  "[Canadian dollar ]": "1.7711",
                  "[Swiss franc ]": "1.6116",
                  "[Chinese yuan renminbi ]": null,
                  "[Cypriot pound ]": "0.58200",
                  "[Czech koruna ]": "34.850",
                  "[Danish krone ]": "7.4452",
                  "[Estonian kroon ]": "15.6466",
                  "[UK pound sterling ]": "0.70760",
                  "[Greek drachma ]": "324.72",
                  "[Hong Kong dollar ]": "9.1010",
                  "[Croatian kuna ]": null,
                  "[Hungarian forint ]": "250.67",
                  "[Indonesian rupiah ]": "9337.68",
                  "[Israeli shekel ]": null,
                  "[Indian rupee ]": null,
                  "[Iceland krona ]": 81.54,
                  "[Japanese yen ]": "131.42",
                  "[Korean won ]": "1359.54",
                  "[Lithuanian litas ]": "4.69940",
                  "[Latvian lats ]": "0.6649",
                  "[Maltese lira ]": "0.4420",
                  "[Mexican peso ]": "11.4705",
                  "[Malaysian ringgit ]": "4.4637",
                  "[Norwegian krone ]": "8.7335",
                  "[New Zealand dollar ]": "2.1890",
                  "[Philippine peso ]": "44.872",
                  "[Polish zloty ]": "4.0065",
                  "[Romanian leu ]": 1.3168,
                  "[Russian rouble ]": "27.4315",
                  "[Swedish krona ]": "9.3050",
                  "[Singapore dollar ]": "1.9699",
                  "[Slovenian tolar ]": "188.7000",
                  "[Slovak koruna ]": "42.778",
                  "[Thai baht ]": "42.6949",
                  "[Turkish lira ]": 0.3722,
                  "[US dollar ]": "1.1743",
                  "[South African rand ]": "6.7307"
                },
                {
                  "index": 6145,
                  "Period\\Unit:": "1999-01-05",
                  "[Australian dollar ]": "1.8944",
                  "[Bulgarian lev ]": null,
                  "[Brazilian real ]": null,
                  "[Canadian dollar ]": "1.7965",
                  "[Swiss franc ]": "1.6123",
                  "[Chinese yuan renminbi ]": null,
                  "[Cypriot pound ]": "0.58230",
                  "[Czech koruna ]": "34.917",
                  "[Danish krone ]": "7.4495",
                  "[Estonian kroon ]": "15.6466",
                  "[UK pound sterling ]": "0.71220",
                  "[Greek drachma ]": "324.70",
                  "[Hong Kong dollar ]": "9.1341",
                  "[Croatian kuna ]": null,
                  "[Hungarian forint ]": "250.80",
                  "[Indonesian rupiah ]": "9314.51",
                  "[Israeli shekel ]": null,
                  "[Indian rupee ]": null,
                  "[Iceland krona ]": 81.53,
                  "[Japanese yen ]": "130.96",
                  "[Korean won ]": "1373.01",
                  "[Lithuanian litas ]": "4.71740",
                  "[Latvian lats ]": "0.6657",
                  "[Maltese lira ]": "0.4432",
                  "[Mexican peso ]": "11.5960",
                  "[Malaysian ringgit ]": "4.4805",
                  "[Norwegian krone ]": "8.7745",
                  "[New Zealand dollar ]": "2.2011",
                  "[Philippine peso ]": "44.745",
                  "[Polish zloty ]": "4.0245",
                  "[Romanian leu ]": 1.3168,
                  "[Russian rouble ]": "26.5876",
                  "[Swedish krona ]": "9.4025",
                  "[Singapore dollar ]": "1.9655",
                  "[Slovenian tolar ]": "188.7750",
                  "[Slovak koruna ]": "42.848",
                  "[Thai baht ]": "42.5048",
                  "[Turkish lira ]": 0.3728,
                  "[US dollar ]": "1.1790",
                  "[South African rand ]": "6.7975"
                },
                {
                  "index": 6146,
                  "Period\\Unit:": "1999-01-04",
                  "[Australian dollar ]": "1.9100",
                  "[Bulgarian lev ]": null,
                  "[Brazilian real ]": null,
                  "[Canadian dollar ]": "1.8004",
                  "[Swiss franc ]": "1.6168",
                  "[Chinese yuan renminbi ]": null,
                  "[Cypriot pound ]": "0.58231",
                  "[Czech koruna ]": "35.107",
                  "[Danish krone ]": "7.4501",
                  "[Estonian kroon ]": "15.6466",
                  "[UK pound sterling ]": "0.71110",
                  "[Greek drachma ]": "327.15",
                  "[Hong Kong dollar ]": "9.1332",
                  "[Croatian kuna ]": null,
                  "[Hungarian forint ]": "251.48",
                  "[Indonesian rupiah ]": "9433.61",
                  "[Israeli shekel ]": null,
                  "[Indian rupee ]": null,
                  "[Iceland krona ]": 81.48,
                  "[Japanese yen ]": "133.73",
                  "[Korean won ]": "1398.59",
                  "[Lithuanian litas ]": "4.71700",
                  "[Latvian lats ]": "0.6668",
                  "[Maltese lira ]": "0.4432",
                  "[Mexican peso ]": "11.6446",
                  "[Malaysian ringgit ]": "4.4798",
                  "[Norwegian krone ]": "8.8550",
                  "[New Zealand dollar ]": "2.2229",
                  "[Philippine peso ]": "45.510",
                  "[Polish zloty ]": "4.0712",
                  "[Romanian leu ]": 1.3111,
                  "[Russian rouble ]": "25.2875",
                  "[Swedish krona ]": "9.4696",
                  "[Singapore dollar ]": "1.9554",
                  "[Slovenian tolar ]": "189.0450",
                  "[Slovak koruna ]": "42.991",
                  "[Thai baht ]": "42.6799",
                  "[Turkish lira ]": 0.3723,
                  "[US dollar ]": "1.1789",
                  "[South African rand ]": "6.9358"
                }
              ],
              "datalink": {
                "display_id": "9a9c9e66-71f1-4d77-80f1-c20d3fd36465"
              }
            }
          },
          "metadata": {
            "application/vnd.dataresource+json": {
              "datalink": {
                "dataframe_info": {
                  "default_index_used": true,
                  "orig_size_bytes": 1680,
                  "orig_num_rows": 5,
                  "orig_num_cols": 41,
                  "truncated_string_columns": [],
                  "truncated_size_bytes": 1680,
                  "truncated_num_rows": 5,
                  "truncated_num_cols": 41
                },
                "dx_settings": {
                  "NUM_PAST_SAMPLES_TRACKED": 3,
                  "ENABLE_DATALINK": true,
                  "DISPLAY_MODE": "simple",
                  "GENERATE_DEX_METADATA": false,
                  "STRINGIFY_INDEX_VALUES": false,
                  "ALLOW_NOTEABLE_ATTRS": true,
                  "DISPLAY_MAX_COLUMNS": 100,
                  "HTML_TABLE_SCHEMA": false,
                  "SAMPLING_FACTOR": 0.1,
                  "LOG_LEVEL": 30,
                  "ENABLE_ASSIGNMENT": true,
                  "FLATTEN_INDEX_VALUES": false,
                  "DEV_MODE": false,
                  "COLUMN_SAMPLING_METHOD": "outer",
                  "FLATTEN_COLUMN_VALUES": true,
                  "DISPLAY_MAX_ROWS": 50000,
                  "ROW_SAMPLING_METHOD": "random",
                  "RANDOM_STATE": 12648430,
                  "DB_LOCATION": ":memory:",
                  "STRINGIFY_COLUMN_VALUES": true,
                  "SAMPLING_METHOD": "random",
                  "MAX_STRING_LENGTH": 250,
                  "MAX_RENDER_SIZE_BYTES": 104857600,
                  "RESET_INDEX_VALUES": false
                },
                "display_id": "9a9c9e66-71f1-4d77-80f1-c20d3fd36465",
                "applied_filters": [],
                "sample_history": [],
                "sampling_time": "2023-06-05T20:01:28.797612",
                "variable_name": "unk_dataframe_852a963930e34d8396de2f9adf7612d2",
                "user_variable_name": null
              },
              "display_id": "9a9c9e66-71f1-4d77-80f1-c20d3fd36465"
            }
          }
        }
      ],
      "execution_count": null,
      "metadata": {
        "noteable": {},
        "ExecuteTime": {
          "start_time": "2023-06-05T20:01:28.601621+00:00",
          "end_time": "2023-06-05T20:01:28.960612+00:00"
        },
        "datalink": {
          "9a9c9e66-71f1-4d77-80f1-c20d3fd36465": {
            "dataframe_info": {
              "default_index_used": true,
              "orig_size_bytes": 1680,
              "orig_num_rows": 5,
              "orig_num_cols": 41,
              "truncated_string_columns": [],
              "truncated_size_bytes": 1680,
              "truncated_num_rows": 5,
              "truncated_num_cols": 41
            },
            "dx_settings": {
              "LOG_LEVEL": 30,
              "DEV_MODE": false,
              "DISPLAY_MAX_ROWS": 50000,
              "DISPLAY_MAX_COLUMNS": 100,
              "HTML_TABLE_SCHEMA": false,
              "MAX_RENDER_SIZE_BYTES": 104857600,
              "MAX_STRING_LENGTH": 250,
              "SAMPLING_FACTOR": 0.1,
              "DISPLAY_MODE": "simple",
              "SAMPLING_METHOD": "random",
              "COLUMN_SAMPLING_METHOD": "outer",
              "ROW_SAMPLING_METHOD": "random",
              "RANDOM_STATE": 12648430,
              "RESET_INDEX_VALUES": false,
              "FLATTEN_INDEX_VALUES": false,
              "FLATTEN_COLUMN_VALUES": true,
              "STRINGIFY_INDEX_VALUES": false,
              "STRINGIFY_COLUMN_VALUES": true,
              "ENABLE_DATALINK": true,
              "ENABLE_ASSIGNMENT": true,
              "NUM_PAST_SAMPLES_TRACKED": 3,
              "DB_LOCATION": ":memory:",
              "GENERATE_DEX_METADATA": false,
              "ALLOW_NOTEABLE_ATTRS": true
            },
            "display_id": "9a9c9e66-71f1-4d77-80f1-c20d3fd36465",
            "applied_filters": [],
            "sample_history": [],
            "sampling_time": "2023-06-05T20:01:28.797612",
            "variable_name": "unk_dataframe_852a963930e34d8396de2f9adf7612d2",
            "user_variable_name": null
          }
        }
      },
      "id": "191c9e14"
    },
    {
      "cell_type": "code",
      "source": [
        "df.info()"
      ],
      "outputs": [
        {
          "output_type": "stream",
          "name": "stdout",
          "text": [
            "<class 'pandas.core.frame.DataFrame'>\n",
            "RangeIndex: 6147 entries, 0 to 6146\n",
            "Data columns (total 41 columns):\n",
            " #   Column                    Non-Null Count  Dtype  \n",
            "---  ------                    --------------  -----  \n",
            " 0   Period\\Unit:              6147 non-null   object \n",
            " 1   [Australian dollar ]      6147 non-null   object \n",
            " 2   [Bulgarian lev ]          5745 non-null   object \n",
            " 3   [Brazilian real ]         5879 non-null   object \n",
            " 4   [Canadian dollar ]        6147 non-null   object \n",
            " 5   [Swiss franc ]            6147 non-null   object \n",
            " 6   [Chinese yuan renminbi ]  5879 non-null   object \n",
            " 7   [Cypriot pound ]          2346 non-null   object \n",
            " 8   [Czech koruna ]           6147 non-null   object \n",
            " 9   [Danish krone ]           6147 non-null   object \n",
            " 10  [Estonian kroon ]         3130 non-null   object \n",
            " 11  [UK pound sterling ]      6147 non-null   object \n",
            " 12  [Greek drachma ]          520 non-null    object \n",
            " 13  [Hong Kong dollar ]       6147 non-null   object \n",
            " 14  [Croatian kuna ]          5879 non-null   object \n",
            " 15  [Hungarian forint ]       6147 non-null   object \n",
            " 16  [Indonesian rupiah ]      6147 non-null   object \n",
            " 17  [Israeli shekel ]         5879 non-null   object \n",
            " 18  [Indian rupee ]           5879 non-null   object \n",
            " 19  [Iceland krona ]          3740 non-null   float64\n",
            " 20  [Japanese yen ]           6147 non-null   object \n",
            " 21  [Korean won ]             6147 non-null   object \n",
            " 22  [Lithuanian litas ]       4159 non-null   object \n",
            " 23  [Latvian lats ]           3904 non-null   object \n",
            " 24  [Maltese lira ]           2346 non-null   object \n",
            " 25  [Mexican peso ]           6147 non-null   object \n",
            " 26  [Malaysian ringgit ]      6147 non-null   object \n",
            " 27  [Norwegian krone ]        6147 non-null   object \n",
            " 28  [New Zealand dollar ]     6147 non-null   object \n",
            " 29  [Philippine peso ]        6147 non-null   object \n",
            " 30  [Polish zloty ]           6147 non-null   object \n",
            " 31  [Romanian leu ]           6085 non-null   float64\n",
            " 32  [Russian rouble ]         5994 non-null   object \n",
            " 33  [Swedish krona ]          6147 non-null   object \n",
            " 34  [Singapore dollar ]       6147 non-null   object \n",
            " 35  [Slovenian tolar ]        2085 non-null   object \n",
            " 36  [Slovak koruna ]          2608 non-null   object \n",
            " 37  [Thai baht ]              6147 non-null   object \n",
            " 38  [Turkish lira ]           6085 non-null   float64\n",
            " 39  [US dollar ]              6147 non-null   object \n",
            " 40  [South African rand ]     6147 non-null   object \n",
            "dtypes: float64(3), object(38)\n",
            "memory usage: 1.9+ MB\n"
          ]
        }
      ],
      "execution_count": null,
      "metadata": {
        "noteable": {},
        "ExecuteTime": {
          "start_time": "2023-06-05T20:01:30.978938+00:00",
          "end_time": "2023-06-05T20:01:31.178643+00:00"
        }
      },
      "id": "9fa99cd6"
    },
    {
      "cell_type": "code",
      "source": [
        "df.rename(columns={'[US dollar ]': 'USD', 'Period\\\\Unit:': 'Time'},inplace=True)\n",
        "df.head()\n",
        "df['Time'] = pd.to_datetime(df['Time'])\n",
        "df.sort_values('Time',inplace = True)\n",
        "df.reset_index(drop=True,inplace=True)\n",
        "df.head()"
      ],
      "outputs": [
        {
          "output_type": "display_data",
          "data": {
            "application/vnd.dataresource+json": {
              "schema": {
                "fields": [
                  {
                    "name": "index",
                    "type": "integer"
                  },
                  {
                    "name": "Time",
                    "type": "datetime"
                  },
                  {
                    "name": "[Australian dollar ]",
                    "type": "string"
                  },
                  {
                    "name": "[Bulgarian lev ]",
                    "type": "string"
                  },
                  {
                    "name": "[Brazilian real ]",
                    "type": "string"
                  },
                  {
                    "name": "[Canadian dollar ]",
                    "type": "string"
                  },
                  {
                    "name": "[Swiss franc ]",
                    "type": "string"
                  },
                  {
                    "name": "[Chinese yuan renminbi ]",
                    "type": "string"
                  },
                  {
                    "name": "[Cypriot pound ]",
                    "type": "string"
                  },
                  {
                    "name": "[Czech koruna ]",
                    "type": "string"
                  },
                  {
                    "name": "[Danish krone ]",
                    "type": "string"
                  },
                  {
                    "name": "[Estonian kroon ]",
                    "type": "string"
                  },
                  {
                    "name": "[UK pound sterling ]",
                    "type": "string"
                  },
                  {
                    "name": "[Greek drachma ]",
                    "type": "string"
                  },
                  {
                    "name": "[Hong Kong dollar ]",
                    "type": "string"
                  },
                  {
                    "name": "[Croatian kuna ]",
                    "type": "string"
                  },
                  {
                    "name": "[Hungarian forint ]",
                    "type": "string"
                  },
                  {
                    "name": "[Indonesian rupiah ]",
                    "type": "string"
                  },
                  {
                    "name": "[Israeli shekel ]",
                    "type": "string"
                  },
                  {
                    "name": "[Indian rupee ]",
                    "type": "string"
                  },
                  {
                    "name": "[Iceland krona ]",
                    "type": "number"
                  },
                  {
                    "name": "[Japanese yen ]",
                    "type": "string"
                  },
                  {
                    "name": "[Korean won ]",
                    "type": "string"
                  },
                  {
                    "name": "[Lithuanian litas ]",
                    "type": "string"
                  },
                  {
                    "name": "[Latvian lats ]",
                    "type": "string"
                  },
                  {
                    "name": "[Maltese lira ]",
                    "type": "string"
                  },
                  {
                    "name": "[Mexican peso ]",
                    "type": "string"
                  },
                  {
                    "name": "[Malaysian ringgit ]",
                    "type": "string"
                  },
                  {
                    "name": "[Norwegian krone ]",
                    "type": "string"
                  },
                  {
                    "name": "[New Zealand dollar ]",
                    "type": "string"
                  },
                  {
                    "name": "[Philippine peso ]",
                    "type": "string"
                  },
                  {
                    "name": "[Polish zloty ]",
                    "type": "string"
                  },
                  {
                    "name": "[Romanian leu ]",
                    "type": "number"
                  },
                  {
                    "name": "[Russian rouble ]",
                    "type": "string"
                  },
                  {
                    "name": "[Swedish krona ]",
                    "type": "string"
                  },
                  {
                    "name": "[Singapore dollar ]",
                    "type": "string"
                  },
                  {
                    "name": "[Slovenian tolar ]",
                    "type": "string"
                  },
                  {
                    "name": "[Slovak koruna ]",
                    "type": "string"
                  },
                  {
                    "name": "[Thai baht ]",
                    "type": "string"
                  },
                  {
                    "name": "[Turkish lira ]",
                    "type": "number"
                  },
                  {
                    "name": "USD",
                    "type": "string"
                  },
                  {
                    "name": "[South African rand ]",
                    "type": "string"
                  }
                ],
                "primaryKey": [
                  "index"
                ],
                "pandas_version": "1.4.0"
              },
              "data": [
                {
                  "index": 0,
                  "Time": "1999-01-04T00:00:00Z",
                  "[Australian dollar ]": "1.9100",
                  "[Bulgarian lev ]": null,
                  "[Brazilian real ]": null,
                  "[Canadian dollar ]": "1.8004",
                  "[Swiss franc ]": "1.6168",
                  "[Chinese yuan renminbi ]": null,
                  "[Cypriot pound ]": "0.58231",
                  "[Czech koruna ]": "35.107",
                  "[Danish krone ]": "7.4501",
                  "[Estonian kroon ]": "15.6466",
                  "[UK pound sterling ]": "0.71110",
                  "[Greek drachma ]": "327.15",
                  "[Hong Kong dollar ]": "9.1332",
                  "[Croatian kuna ]": null,
                  "[Hungarian forint ]": "251.48",
                  "[Indonesian rupiah ]": "9433.61",
                  "[Israeli shekel ]": null,
                  "[Indian rupee ]": null,
                  "[Iceland krona ]": 81.48,
                  "[Japanese yen ]": "133.73",
                  "[Korean won ]": "1398.59",
                  "[Lithuanian litas ]": "4.71700",
                  "[Latvian lats ]": "0.6668",
                  "[Maltese lira ]": "0.4432",
                  "[Mexican peso ]": "11.6446",
                  "[Malaysian ringgit ]": "4.4798",
                  "[Norwegian krone ]": "8.8550",
                  "[New Zealand dollar ]": "2.2229",
                  "[Philippine peso ]": "45.510",
                  "[Polish zloty ]": "4.0712",
                  "[Romanian leu ]": 1.3111,
                  "[Russian rouble ]": "25.2875",
                  "[Swedish krona ]": "9.4696",
                  "[Singapore dollar ]": "1.9554",
                  "[Slovenian tolar ]": "189.0450",
                  "[Slovak koruna ]": "42.991",
                  "[Thai baht ]": "42.6799",
                  "[Turkish lira ]": 0.3723,
                  "USD": "1.1789",
                  "[South African rand ]": "6.9358"
                },
                {
                  "index": 1,
                  "Time": "1999-01-05T00:00:00Z",
                  "[Australian dollar ]": "1.8944",
                  "[Bulgarian lev ]": null,
                  "[Brazilian real ]": null,
                  "[Canadian dollar ]": "1.7965",
                  "[Swiss franc ]": "1.6123",
                  "[Chinese yuan renminbi ]": null,
                  "[Cypriot pound ]": "0.58230",
                  "[Czech koruna ]": "34.917",
                  "[Danish krone ]": "7.4495",
                  "[Estonian kroon ]": "15.6466",
                  "[UK pound sterling ]": "0.71220",
                  "[Greek drachma ]": "324.70",
                  "[Hong Kong dollar ]": "9.1341",
                  "[Croatian kuna ]": null,
                  "[Hungarian forint ]": "250.80",
                  "[Indonesian rupiah ]": "9314.51",
                  "[Israeli shekel ]": null,
                  "[Indian rupee ]": null,
                  "[Iceland krona ]": 81.53,
                  "[Japanese yen ]": "130.96",
                  "[Korean won ]": "1373.01",
                  "[Lithuanian litas ]": "4.71740",
                  "[Latvian lats ]": "0.6657",
                  "[Maltese lira ]": "0.4432",
                  "[Mexican peso ]": "11.5960",
                  "[Malaysian ringgit ]": "4.4805",
                  "[Norwegian krone ]": "8.7745",
                  "[New Zealand dollar ]": "2.2011",
                  "[Philippine peso ]": "44.745",
                  "[Polish zloty ]": "4.0245",
                  "[Romanian leu ]": 1.3168,
                  "[Russian rouble ]": "26.5876",
                  "[Swedish krona ]": "9.4025",
                  "[Singapore dollar ]": "1.9655",
                  "[Slovenian tolar ]": "188.7750",
                  "[Slovak koruna ]": "42.848",
                  "[Thai baht ]": "42.5048",
                  "[Turkish lira ]": 0.3728,
                  "USD": "1.1790",
                  "[South African rand ]": "6.7975"
                },
                {
                  "index": 2,
                  "Time": "1999-01-06T00:00:00Z",
                  "[Australian dollar ]": "1.8820",
                  "[Bulgarian lev ]": null,
                  "[Brazilian real ]": null,
                  "[Canadian dollar ]": "1.7711",
                  "[Swiss franc ]": "1.6116",
                  "[Chinese yuan renminbi ]": null,
                  "[Cypriot pound ]": "0.58200",
                  "[Czech koruna ]": "34.850",
                  "[Danish krone ]": "7.4452",
                  "[Estonian kroon ]": "15.6466",
                  "[UK pound sterling ]": "0.70760",
                  "[Greek drachma ]": "324.72",
                  "[Hong Kong dollar ]": "9.1010",
                  "[Croatian kuna ]": null,
                  "[Hungarian forint ]": "250.67",
                  "[Indonesian rupiah ]": "9337.68",
                  "[Israeli shekel ]": null,
                  "[Indian rupee ]": null,
                  "[Iceland krona ]": 81.54,
                  "[Japanese yen ]": "131.42",
                  "[Korean won ]": "1359.54",
                  "[Lithuanian litas ]": "4.69940",
                  "[Latvian lats ]": "0.6649",
                  "[Maltese lira ]": "0.4420",
                  "[Mexican peso ]": "11.4705",
                  "[Malaysian ringgit ]": "4.4637",
                  "[Norwegian krone ]": "8.7335",
                  "[New Zealand dollar ]": "2.1890",
                  "[Philippine peso ]": "44.872",
                  "[Polish zloty ]": "4.0065",
                  "[Romanian leu ]": 1.3168,
                  "[Russian rouble ]": "27.4315",
                  "[Swedish krona ]": "9.3050",
                  "[Singapore dollar ]": "1.9699",
                  "[Slovenian tolar ]": "188.7000",
                  "[Slovak koruna ]": "42.778",
                  "[Thai baht ]": "42.6949",
                  "[Turkish lira ]": 0.3722,
                  "USD": "1.1743",
                  "[South African rand ]": "6.7307"
                },
                {
                  "index": 3,
                  "Time": "1999-01-07T00:00:00Z",
                  "[Australian dollar ]": "1.8474",
                  "[Bulgarian lev ]": null,
                  "[Brazilian real ]": null,
                  "[Canadian dollar ]": "1.7602",
                  "[Swiss franc ]": "1.6165",
                  "[Chinese yuan renminbi ]": null,
                  "[Cypriot pound ]": "0.58187",
                  "[Czech koruna ]": "34.886",
                  "[Danish krone ]": "7.4431",
                  "[Estonian kroon ]": "15.6466",
                  "[UK pound sterling ]": "0.70585",
                  "[Greek drachma ]": "324.40",
                  "[Hong Kong dollar ]": "9.0131",
                  "[Croatian kuna ]": null,
                  "[Hungarian forint ]": "250.09",
                  "[Indonesian rupiah ]": "9218.77",
                  "[Israeli shekel ]": null,
                  "[Indian rupee ]": null,
                  "[Iceland krona ]": 81.06,
                  "[Japanese yen ]": "129.43",
                  "[Korean won ]": "1337.16",
                  "[Lithuanian litas ]": "4.65480",
                  "[Latvian lats ]": "0.6627",
                  "[Maltese lira ]": "0.4413",
                  "[Mexican peso ]": "11.5511",
                  "[Malaysian ringgit ]": "4.4203",
                  "[Norwegian krone ]": "8.6295",
                  "[New Zealand dollar ]": "2.1531",
                  "[Philippine peso ]": "44.436",
                  "[Polish zloty ]": "4.0165",
                  "[Romanian leu ]": 1.3092,
                  "[Russian rouble ]": "26.9876",
                  "[Swedish krona ]": "9.1800",
                  "[Singapore dollar ]": "1.9436",
                  "[Slovenian tolar ]": "188.8000",
                  "[Slovak koruna ]": "42.765",
                  "[Thai baht ]": "42.1678",
                  "[Turkish lira ]": 0.3701,
                  "USD": "1.1632",
                  "[South African rand ]": "6.8283"
                },
                {
                  "index": 4,
                  "Time": "1999-01-08T00:00:00Z",
                  "[Australian dollar ]": "1.8406",
                  "[Bulgarian lev ]": null,
                  "[Brazilian real ]": null,
                  "[Canadian dollar ]": "1.7643",
                  "[Swiss franc ]": "1.6138",
                  "[Chinese yuan renminbi ]": null,
                  "[Cypriot pound ]": "0.58187",
                  "[Czech koruna ]": "34.938",
                  "[Danish krone ]": "7.4433",
                  "[Estonian kroon ]": "15.6466",
                  "[UK pound sterling ]": "0.70940",
                  "[Greek drachma ]": "324.00",
                  "[Hong Kong dollar ]": "9.0302",
                  "[Croatian kuna ]": null,
                  "[Hungarian forint ]": "250.15",
                  "[Indonesian rupiah ]": "9321.63",
                  "[Israeli shekel ]": null,
                  "[Indian rupee ]": null,
                  "[Iceland krona ]": 80.99,
                  "[Japanese yen ]": "130.09",
                  "[Korean won ]": "1366.73",
                  "[Lithuanian litas ]": "4.66430",
                  "[Latvian lats ]": "0.6654",
                  "[Maltese lira ]": "0.4419",
                  "[Mexican peso ]": "11.4414",
                  "[Malaysian ringgit ]": "4.4295",
                  "[Norwegian krone ]": "8.5900",
                  "[New Zealand dollar ]": "2.1557",
                  "[Philippine peso ]": "44.295",
                  "[Polish zloty ]": "4.0363",
                  "[Romanian leu ]": 1.3143,
                  "[Russian rouble ]": "27.2075",
                  "[Swedish krona ]": "9.1650",
                  "[Singapore dollar ]": "1.9537",
                  "[Slovenian tolar ]": "188.8400",
                  "[Slovak koruna ]": "42.560",
                  "[Thai baht ]": "42.5590",
                  "[Turkish lira ]": 0.3718,
                  "USD": "1.1659",
                  "[South African rand ]": "6.7855"
                }
              ],
              "datalink": {
                "display_id": "649b55f4-c50b-43c8-af0b-e5f4f14575a0"
              }
            }
          },
          "metadata": {
            "application/vnd.dataresource+json": {
              "datalink": {
                "dataframe_info": {
                  "default_index_used": true,
                  "orig_size_bytes": 1680,
                  "orig_num_rows": 5,
                  "orig_num_cols": 41,
                  "truncated_string_columns": [],
                  "truncated_size_bytes": 1680,
                  "truncated_num_rows": 5,
                  "truncated_num_cols": 41
                },
                "dx_settings": {
                  "NUM_PAST_SAMPLES_TRACKED": 3,
                  "ENABLE_DATALINK": true,
                  "DISPLAY_MODE": "simple",
                  "GENERATE_DEX_METADATA": false,
                  "STRINGIFY_INDEX_VALUES": false,
                  "ALLOW_NOTEABLE_ATTRS": true,
                  "DISPLAY_MAX_COLUMNS": 100,
                  "HTML_TABLE_SCHEMA": false,
                  "SAMPLING_FACTOR": 0.1,
                  "LOG_LEVEL": 30,
                  "ENABLE_ASSIGNMENT": true,
                  "FLATTEN_INDEX_VALUES": false,
                  "DEV_MODE": false,
                  "COLUMN_SAMPLING_METHOD": "outer",
                  "FLATTEN_COLUMN_VALUES": true,
                  "DISPLAY_MAX_ROWS": 50000,
                  "ROW_SAMPLING_METHOD": "random",
                  "RANDOM_STATE": 12648430,
                  "DB_LOCATION": ":memory:",
                  "STRINGIFY_COLUMN_VALUES": true,
                  "SAMPLING_METHOD": "random",
                  "MAX_STRING_LENGTH": 250,
                  "MAX_RENDER_SIZE_BYTES": 104857600,
                  "RESET_INDEX_VALUES": false
                },
                "display_id": "649b55f4-c50b-43c8-af0b-e5f4f14575a0",
                "applied_filters": [],
                "sample_history": [],
                "sampling_time": "2023-06-05T20:01:34.970950",
                "variable_name": "unk_dataframe_b4e20c889c2a44148aa01bb22e1cdfbe",
                "user_variable_name": null
              },
              "display_id": "649b55f4-c50b-43c8-af0b-e5f4f14575a0"
            }
          }
        }
      ],
      "execution_count": null,
      "metadata": {
        "noteable": {},
        "ExecuteTime": {
          "start_time": "2023-06-05T20:01:34.782071+00:00",
          "end_time": "2023-06-05T20:01:35.136531+00:00"
        },
        "datalink": {
          "649b55f4-c50b-43c8-af0b-e5f4f14575a0": {
            "dataframe_info": {
              "default_index_used": true,
              "orig_size_bytes": 1680,
              "orig_num_rows": 5,
              "orig_num_cols": 41,
              "truncated_string_columns": [],
              "truncated_size_bytes": 1680,
              "truncated_num_rows": 5,
              "truncated_num_cols": 41
            },
            "dx_settings": {
              "LOG_LEVEL": 30,
              "DEV_MODE": false,
              "DISPLAY_MAX_ROWS": 50000,
              "DISPLAY_MAX_COLUMNS": 100,
              "HTML_TABLE_SCHEMA": false,
              "MAX_RENDER_SIZE_BYTES": 104857600,
              "MAX_STRING_LENGTH": 250,
              "SAMPLING_FACTOR": 0.1,
              "DISPLAY_MODE": "simple",
              "SAMPLING_METHOD": "random",
              "COLUMN_SAMPLING_METHOD": "outer",
              "ROW_SAMPLING_METHOD": "random",
              "RANDOM_STATE": 12648430,
              "RESET_INDEX_VALUES": false,
              "FLATTEN_INDEX_VALUES": false,
              "FLATTEN_COLUMN_VALUES": true,
              "STRINGIFY_INDEX_VALUES": false,
              "STRINGIFY_COLUMN_VALUES": true,
              "ENABLE_DATALINK": true,
              "ENABLE_ASSIGNMENT": true,
              "NUM_PAST_SAMPLES_TRACKED": 3,
              "DB_LOCATION": ":memory:",
              "GENERATE_DEX_METADATA": false,
              "ALLOW_NOTEABLE_ATTRS": true
            },
            "display_id": "649b55f4-c50b-43c8-af0b-e5f4f14575a0",
            "applied_filters": [],
            "sample_history": [],
            "sampling_time": "2023-06-05T20:01:34.970950",
            "variable_name": "unk_dataframe_b4e20c889c2a44148aa01bb22e1cdfbe",
            "user_variable_name": null
          }
        }
      },
      "id": "37d80920"
    },
    {
      "cell_type": "code",
      "source": [
        "euro_to_dollar = df[['Time','USD']].copy()\n",
        "df['USD'].value_counts() #62 '-' characters"
      ],
      "outputs": [
        {
          "output_type": "display_data",
          "data": {
            "application/vnd.dataresource+json": {
              "schema": {
                "fields": [
                  {
                    "name": "index",
                    "type": "string"
                  },
                  {
                    "name": "USD",
                    "type": "integer"
                  }
                ],
                "primaryKey": [
                  "index"
                ],
                "pandas_version": "1.4.0"
              },
              "data": [
                {
                  "index": "-",
                  "USD": 62
                },
                {
                  "index": "1.2276",
                  "USD": 9
                },
                {
                  "index": "1.1215",
                  "USD": 8
                },
                {
                  "index": "1.1268",
                  "USD": 7
                },
                {
                  "index": "1.1305",
                  "USD": 7
                },
                {
                  "index": "1.3532",
                  "USD": 6
                },
                {
                  "index": "1.1346",
                  "USD": 6
                },
                {
                  "index": "1.1797",
                  "USD": 6
                },
                {
                  "index": "1.3373",
                  "USD": 6
                },
                {
                  "index": "1.1218",
                  "USD": 6
                },
                {
                  "index": "1.1193",
                  "USD": 6
                },
                {
                  "index": "1.1354",
                  "USD": 6
                },
                {
                  "index": "1.0867",
                  "USD": 6
                },
                {
                  "index": "1.0888",
                  "USD": 6
                },
                {
                  "index": "1.3086",
                  "USD": 6
                },
                {
                  "index": "1.1579",
                  "USD": 6
                },
                {
                  "index": "1.1345",
                  "USD": 6
                },
                {
                  "index": "1.1765",
                  "USD": 6
                },
                {
                  "index": "1.1279",
                  "USD": 6
                },
                {
                  "index": "1.2143",
                  "USD": 6
                },
                {
                  "index": "1.2713",
                  "USD": 6
                },
                {
                  "index": "1.1933",
                  "USD": 5
                },
                {
                  "index": "1.2737",
                  "USD": 5
                },
                {
                  "index": "1.3260",
                  "USD": 5
                },
                {
                  "index": "1.1370",
                  "USD": 5
                },
                {
                  "index": "1.3246",
                  "USD": 5
                },
                {
                  "index": "1.0737",
                  "USD": 5
                },
                {
                  "index": "1.2309",
                  "USD": 5
                },
                {
                  "index": "1.1138",
                  "USD": 5
                },
                {
                  "index": "1.1284",
                  "USD": 5
                },
                {
                  "index": "1.2850",
                  "USD": 5
                },
                {
                  "index": "1.0572",
                  "USD": 5
                },
                {
                  "index": "1.1318",
                  "USD": 5
                },
                {
                  "index": "1.1236",
                  "USD": 5
                },
                {
                  "index": "1.1187",
                  "USD": 5
                },
                {
                  "index": "0.8803",
                  "USD": 5
                },
                {
                  "index": "1.0592",
                  "USD": 5
                },
                {
                  "index": "1.1221",
                  "USD": 5
                },
                {
                  "index": "1.1168",
                  "USD": 5
                },
                {
                  "index": "1.1389",
                  "USD": 5
                },
                {
                  "index": "1.1787",
                  "USD": 5
                },
                {
                  "index": "1.1115",
                  "USD": 5
                },
                {
                  "index": "1.1146",
                  "USD": 5
                },
                {
                  "index": "1.1336",
                  "USD": 5
                },
                {
                  "index": "1.1185",
                  "USD": 5
                },
                {
                  "index": "1.1569",
                  "USD": 5
                },
                {
                  "index": "1.3574",
                  "USD": 5
                },
                {
                  "index": "1.3200",
                  "USD": 5
                },
                {
                  "index": "1.1342",
                  "USD": 5
                },
                {
                  "index": "1.1312",
                  "USD": 5
                },
                {
                  "index": "1.1328",
                  "USD": 5
                },
                {
                  "index": "1.1154",
                  "USD": 5
                },
                {
                  "index": "1.1348",
                  "USD": 5
                },
                {
                  "index": "1.1025",
                  "USD": 5
                },
                {
                  "index": "1.3035",
                  "USD": 5
                },
                {
                  "index": "1.3615",
                  "USD": 5
                },
                {
                  "index": "1.1156",
                  "USD": 5
                },
                {
                  "index": "1.1403",
                  "USD": 5
                },
                {
                  "index": "1.3588",
                  "USD": 5
                },
                {
                  "index": "1.3596",
                  "USD": 5
                },
                {
                  "index": "1.2219",
                  "USD": 5
                },
                {
                  "index": "1.1813",
                  "USD": 5
                },
                {
                  "index": "1.3327",
                  "USD": 4
                },
                {
                  "index": "1.1375",
                  "USD": 4
                },
                {
                  "index": "1.1174",
                  "USD": 4
                },
                {
                  "index": "1.1795",
                  "USD": 4
                },
                {
                  "index": "1.0963",
                  "USD": 4
                },
                {
                  "index": "1.1766",
                  "USD": 4
                },
                {
                  "index": "1.2930",
                  "USD": 4
                },
                {
                  "index": "1.1562",
                  "USD": 4
                },
                {
                  "index": "1.1802",
                  "USD": 4
                },
                {
                  "index": "1.1090",
                  "USD": 4
                },
                {
                  "index": "1.1888",
                  "USD": 4
                },
                {
                  "index": "1.0808",
                  "USD": 4
                },
                {
                  "index": "1.1823",
                  "USD": 4
                },
                {
                  "index": "1.1775",
                  "USD": 4
                },
                {
                  "index": "1.3607",
                  "USD": 4
                },
                {
                  "index": "1.3145",
                  "USD": 4
                },
                {
                  "index": "1.0816",
                  "USD": 4
                },
                {
                  "index": "1.1578",
                  "USD": 4
                },
                {
                  "index": "1.3850",
                  "USD": 4
                },
                {
                  "index": "1.2756",
                  "USD": 4
                },
                {
                  "index": "1.1194",
                  "USD": 4
                },
                {
                  "index": "1.1767",
                  "USD": 4
                },
                {
                  "index": "1.1785",
                  "USD": 4
                },
                {
                  "index": "1.2418",
                  "USD": 4
                },
                {
                  "index": "1.3266",
                  "USD": 4
                },
                {
                  "index": "1.3612",
                  "USD": 4
                },
                {
                  "index": "1.1852",
                  "USD": 4
                },
                {
                  "index": "1.2187",
                  "USD": 4
                },
                {
                  "index": "1.2239",
                  "USD": 4
                },
                {
                  "index": "1.3192",
                  "USD": 4
                },
                {
                  "index": "1.0517",
                  "USD": 4
                },
                {
                  "index": "1.2258",
                  "USD": 4
                },
                {
                  "index": "1.3352",
                  "USD": 4
                },
                {
                  "index": "1.1781",
                  "USD": 4
                },
                {
                  "index": "1.1736",
                  "USD": 4
                },
                {
                  "index": "0.9857",
                  "USD": 4
                },
                {
                  "index": "1.0927",
                  "USD": 4
                },
                {
                  "index": "1.1109",
                  "USD": 4
                },
                {
                  "index": "1.0973",
                  "USD": 4
                },
                {
                  "index": "1.1295",
                  "USD": 4
                },
                {
                  "index": "1.1173",
                  "USD": 4
                },
                {
                  "index": "1.1200",
                  "USD": 4
                },
                {
                  "index": "1.4488",
                  "USD": 4
                },
                {
                  "index": "1.4089",
                  "USD": 4
                },
                {
                  "index": "1.1355",
                  "USD": 4
                },
                {
                  "index": "1.1427",
                  "USD": 4
                },
                {
                  "index": "1.1326",
                  "USD": 4
                },
                {
                  "index": "1.3349",
                  "USD": 4
                },
                {
                  "index": "1.2818",
                  "USD": 4
                },
                {
                  "index": "1.1226",
                  "USD": 4
                },
                {
                  "index": "1.3658",
                  "USD": 4
                },
                {
                  "index": "1.2736",
                  "USD": 4
                },
                {
                  "index": "1.1172",
                  "USD": 4
                },
                {
                  "index": "1.1217",
                  "USD": 4
                },
                {
                  "index": "1.0631",
                  "USD": 4
                },
                {
                  "index": "1.1139",
                  "USD": 4
                },
                {
                  "index": "1.2346",
                  "USD": 4
                },
                {
                  "index": "1.0982",
                  "USD": 4
                },
                {
                  "index": "1.3803",
                  "USD": 4
                },
                {
                  "index": "1.1150",
                  "USD": 4
                },
                {
                  "index": "1.1806",
                  "USD": 4
                },
                {
                  "index": "1.1008",
                  "USD": 4
                },
                {
                  "index": "1.1290",
                  "USD": 4
                },
                {
                  "index": "1.1692",
                  "USD": 4
                },
                {
                  "index": "1.0868",
                  "USD": 4
                },
                {
                  "index": "1.2596",
                  "USD": 4
                },
                {
                  "index": "1.1761",
                  "USD": 4
                },
                {
                  "index": "1.1740",
                  "USD": 4
                },
                {
                  "index": "1.2817",
                  "USD": 4
                },
                {
                  "index": "1.1188",
                  "USD": 4
                },
                {
                  "index": "1.3547",
                  "USD": 4
                },
                {
                  "index": "1.0667",
                  "USD": 4
                },
                {
                  "index": "1.2066",
                  "USD": 4
                },
                {
                  "index": "1.3627",
                  "USD": 4
                },
                {
                  "index": "1.2762",
                  "USD": 4
                },
                {
                  "index": "1.2958",
                  "USD": 4
                },
                {
                  "index": "1.1244",
                  "USD": 4
                },
                {
                  "index": "1.2063",
                  "USD": 4
                },
                {
                  "index": "1.1002",
                  "USD": 4
                },
                {
                  "index": "1.1983",
                  "USD": 4
                },
                {
                  "index": "1.0630",
                  "USD": 4
                },
                {
                  "index": "1.1117",
                  "USD": 4
                },
                {
                  "index": "1.2944",
                  "USD": 4
                },
                {
                  "index": "1.2948",
                  "USD": 4
                },
                {
                  "index": "1.1885",
                  "USD": 4
                },
                {
                  "index": "1.3608",
                  "USD": 4
                },
                {
                  "index": "1.2301",
                  "USD": 4
                },
                {
                  "index": "1.3280",
                  "USD": 4
                },
                {
                  "index": "1.0668",
                  "USD": 4
                },
                {
                  "index": "1.3667",
                  "USD": 4
                },
                {
                  "index": "1.2198",
                  "USD": 4
                },
                {
                  "index": "0.8919",
                  "USD": 4
                },
                {
                  "index": "1.3115",
                  "USD": 4
                },
                {
                  "index": "1.0860",
                  "USD": 4
                },
                {
                  "index": "1.3057",
                  "USD": 4
                },
                {
                  "index": "1.2168",
                  "USD": 4
                },
                {
                  "index": "1.2993",
                  "USD": 4
                },
                {
                  "index": "1.1298",
                  "USD": 4
                },
                {
                  "index": "1.3040",
                  "USD": 4
                },
                {
                  "index": "1.2953",
                  "USD": 4
                },
                {
                  "index": "1.0772",
                  "USD": 4
                },
                {
                  "index": "1.1387",
                  "USD": 4
                },
                {
                  "index": "1.0726",
                  "USD": 4
                },
                {
                  "index": "1.1031",
                  "USD": 4
                },
                {
                  "index": "1.0818",
                  "USD": 4
                },
                {
                  "index": "1.3773",
                  "USD": 4
                },
                {
                  "index": "1.2312",
                  "USD": 4
                },
                {
                  "index": "1.0891",
                  "USD": 4
                },
                {
                  "index": "1.2017",
                  "USD": 4
                },
                {
                  "index": "1.1301",
                  "USD": 4
                },
                {
                  "index": "1.1741",
                  "USD": 4
                },
                {
                  "index": "1.1697",
                  "USD": 4
                },
                {
                  "index": "1.1588",
                  "USD": 4
                },
                {
                  "index": "1.0388",
                  "USD": 4
                },
                {
                  "index": "1.2088",
                  "USD": 4
                },
                {
                  "index": "1.2792",
                  "USD": 4
                },
                {
                  "index": "1.2060",
                  "USD": 4
                },
                {
                  "index": "1.1202",
                  "USD": 4
                },
                {
                  "index": "1.1162",
                  "USD": 4
                },
                {
                  "index": "1.2271",
                  "USD": 4
                },
                {
                  "index": "1.3641",
                  "USD": 4
                },
                {
                  "index": "1.1198",
                  "USD": 4
                },
                {
                  "index": "1.1602",
                  "USD": 4
                },
                {
                  "index": "1.3394",
                  "USD": 4
                },
                {
                  "index": "1.2118",
                  "USD": 4
                },
                {
                  "index": "1.1883",
                  "USD": 4
                },
                {
                  "index": "1.3384",
                  "USD": 4
                },
                {
                  "index": "1.3788",
                  "USD": 3
                },
                {
                  "index": "1.3160",
                  "USD": 3
                },
                {
                  "index": "0.9146",
                  "USD": 3
                },
                {
                  "index": "1.3460",
                  "USD": 3
                },
                {
                  "index": "1.0822",
                  "USD": 3
                },
                {
                  "index": "1.3505",
                  "USD": 3
                },
                {
                  "index": "1.2939",
                  "USD": 3
                },
                {
                  "index": "1.3768",
                  "USD": 3
                },
                {
                  "index": "1.3594",
                  "USD": 3
                },
                {
                  "index": "0.8840",
                  "USD": 3
                },
                {
                  "index": "1.3707",
                  "USD": 3
                },
                {
                  "index": "1.3566",
                  "USD": 3
                },
                {
                  "index": "1.0748",
                  "USD": 3
                },
                {
                  "index": "1.3771",
                  "USD": 3
                },
                {
                  "index": "1.3113",
                  "USD": 3
                },
                {
                  "index": "1.3659",
                  "USD": 3
                },
                {
                  "index": "1.3454",
                  "USD": 3
                },
                {
                  "index": "1.3549",
                  "USD": 3
                },
                {
                  "index": "1.3225",
                  "USD": 3
                },
                {
                  "index": "1.3129",
                  "USD": 3
                },
                {
                  "index": "1.3606",
                  "USD": 3
                },
                {
                  "index": "1.3582",
                  "USD": 3
                },
                {
                  "index": "1.0422",
                  "USD": 3
                },
                {
                  "index": "1.3649",
                  "USD": 3
                },
                {
                  "index": "0.9064",
                  "USD": 3
                },
                {
                  "index": "1.3794",
                  "USD": 3
                },
                {
                  "index": "1.2260",
                  "USD": 3
                },
                {
                  "index": "1.3535",
                  "USD": 3
                },
                {
                  "index": "1.3348",
                  "USD": 3
                },
                {
                  "index": "1.2436",
                  "USD": 3
                },
                {
                  "index": "1.3131",
                  "USD": 3
                },
                {
                  "index": "1.3118",
                  "USD": 3
                },
                {
                  "index": "1.3517",
                  "USD": 3
                },
                {
                  "index": "0.8889",
                  "USD": 3
                },
                {
                  "index": "0.9213",
                  "USD": 3
                },
                {
                  "index": "0.9927",
                  "USD": 3
                },
                {
                  "index": "1.3388",
                  "USD": 3
                },
                {
                  "index": "1.3155",
                  "USD": 3
                },
                {
                  "index": "1.3092",
                  "USD": 3
                },
                {
                  "index": "1.3726",
                  "USD": 3
                },
                {
                  "index": "1.4814",
                  "USD": 3
                },
                {
                  "index": "1.3631",
                  "USD": 3
                },
                {
                  "index": "1.3494",
                  "USD": 3
                },
                {
                  "index": "1.3611",
                  "USD": 3
                },
                {
                  "index": "1.4270",
                  "USD": 3
                },
                {
                  "index": "0.8817",
                  "USD": 3
                },
                {
                  "index": "1.3323",
                  "USD": 3
                },
                {
                  "index": "1.3684",
                  "USD": 3
                },
                {
                  "index": "1.3262",
                  "USD": 3
                },
                {
                  "index": "1.3120",
                  "USD": 3
                },
                {
                  "index": "1.3074",
                  "USD": 3
                },
                {
                  "index": "1.2127",
                  "USD": 3
                },
                {
                  "index": "1.2910",
                  "USD": 3
                },
                {
                  "index": "1.2942",
                  "USD": 3
                },
                {
                  "index": "1.2428",
                  "USD": 3
                },
                {
                  "index": "1.3360",
                  "USD": 3
                },
                {
                  "index": "1.2492",
                  "USD": 3
                },
                {
                  "index": "1.3315",
                  "USD": 3
                },
                {
                  "index": "1.3518",
                  "USD": 3
                },
                {
                  "index": "1.3290",
                  "USD": 3
                },
                {
                  "index": "1.3356",
                  "USD": 3
                },
                {
                  "index": "1.3901",
                  "USD": 3
                },
                {
                  "index": "1.4220",
                  "USD": 3
                },
                {
                  "index": "1.3668",
                  "USD": 3
                },
                {
                  "index": "1.4207",
                  "USD": 3
                },
                {
                  "index": "1.3525",
                  "USD": 3
                },
                {
                  "index": "1.3519",
                  "USD": 3
                },
                {
                  "index": "1.3647",
                  "USD": 3
                },
                {
                  "index": "1.3510",
                  "USD": 3
                },
                {
                  "index": "1.3705",
                  "USD": 3
                },
                {
                  "index": "1.3817",
                  "USD": 3
                },
                {
                  "index": "1.3795",
                  "USD": 3
                },
                {
                  "index": "1.3975",
                  "USD": 3
                },
                {
                  "index": "0.8778",
                  "USD": 3
                },
                {
                  "index": "1.4166",
                  "USD": 3
                },
                {
                  "index": "1.3676",
                  "USD": 3
                },
                {
                  "index": "1.3337",
                  "USD": 3
                },
                {
                  "index": "0.9910",
                  "USD": 3
                },
                {
                  "index": "0.8768",
                  "USD": 3
                },
                {
                  "index": "1.3656",
                  "USD": 3
                },
                {
                  "index": "1.4229",
                  "USD": 3
                },
                {
                  "index": "1.4874",
                  "USD": 3
                },
                {
                  "index": "1.0024",
                  "USD": 3
                },
                {
                  "index": "1.3340",
                  "USD": 3
                },
                {
                  "index": "0.9873",
                  "USD": 3
                },
                {
                  "index": "1.4385",
                  "USD": 3
                },
                {
                  "index": "1.1790",
                  "USD": 3
                },
                {
                  "index": "1.4705",
                  "USD": 3
                },
                {
                  "index": "1.3834",
                  "USD": 3
                },
                {
                  "index": "1.3731",
                  "USD": 3
                },
                {
                  "index": "1.3745",
                  "USD": 3
                },
                {
                  "index": "1.2935",
                  "USD": 3
                },
                {
                  "index": "1.3472",
                  "USD": 3
                },
                {
                  "index": "1.2961",
                  "USD": 3
                },
                {
                  "index": "1.3136",
                  "USD": 3
                },
                {
                  "index": "1.3856",
                  "USD": 3
                },
                {
                  "index": "1.1543",
                  "USD": 3
                },
                {
                  "index": "1.3132",
                  "USD": 3
                },
                {
                  "index": "1.2285",
                  "USD": 3
                },
                {
                  "index": "1.2082",
                  "USD": 3
                },
                {
                  "index": "1.2092",
                  "USD": 3
                },
                {
                  "index": "1.1932",
                  "USD": 3
                },
                {
                  "index": "1.2044",
                  "USD": 3
                },
                {
                  "index": "1.1926",
                  "USD": 3
                },
                {
                  "index": "1.1873",
                  "USD": 3
                },
                {
                  "index": "1.2069",
                  "USD": 3
                },
                {
                  "index": "1.2272",
                  "USD": 3
                },
                {
                  "index": "1.1904",
                  "USD": 3
                },
                {
                  "index": "1.2061",
                  "USD": 3
                },
                {
                  "index": "1.2073",
                  "USD": 3
                },
                {
                  "index": "1.2548",
                  "USD": 3
                },
                {
                  "index": "1.2023",
                  "USD": 3
                },
                {
                  "index": "1.1922",
                  "USD": 3
                },
                {
                  "index": "1.2947",
                  "USD": 3
                },
                {
                  "index": "1.2954",
                  "USD": 3
                },
                {
                  "index": "1.1894",
                  "USD": 3
                },
                {
                  "index": "1.2132",
                  "USD": 3
                },
                {
                  "index": "1.2203",
                  "USD": 3
                },
                {
                  "index": "1.1992",
                  "USD": 3
                },
                {
                  "index": "1.1769",
                  "USD": 3
                },
                {
                  "index": "1.2493",
                  "USD": 3
                },
                {
                  "index": "1.1763",
                  "USD": 3
                },
                {
                  "index": "1.1783",
                  "USD": 3
                },
                {
                  "index": "1.2607",
                  "USD": 3
                },
                {
                  "index": "1.1824",
                  "USD": 3
                },
                {
                  "index": "1.2384",
                  "USD": 3
                },
                {
                  "index": "1.2524",
                  "USD": 3
                },
                {
                  "index": "1.2166",
                  "USD": 3
                },
                {
                  "index": "1.2680",
                  "USD": 3
                },
                {
                  "index": "1.2824",
                  "USD": 3
                },
                {
                  "index": "1.2225",
                  "USD": 3
                },
                {
                  "index": "1.2541",
                  "USD": 3
                },
                {
                  "index": "1.2307",
                  "USD": 3
                },
                {
                  "index": "1.2213",
                  "USD": 3
                },
                {
                  "index": "1.2065",
                  "USD": 3
                },
                {
                  "index": "1.2246",
                  "USD": 3
                },
                {
                  "index": "1.2294",
                  "USD": 3
                },
                {
                  "index": "1.2828",
                  "USD": 3
                },
                {
                  "index": "1.3191",
                  "USD": 3
                },
                {
                  "index": "1.2315",
                  "USD": 3
                },
                {
                  "index": "1.3183",
                  "USD": 3
                },
                {
                  "index": "1.3507",
                  "USD": 3
                },
                {
                  "index": "1.3604",
                  "USD": 3
                },
                {
                  "index": "1.3527",
                  "USD": 3
                },
                {
                  "index": "1.2377",
                  "USD": 3
                },
                {
                  "index": "1.3383",
                  "USD": 3
                },
                {
                  "index": "1.2874",
                  "USD": 3
                },
                {
                  "index": "1.3005",
                  "USD": 3
                },
                {
                  "index": "1.3300",
                  "USD": 3
                },
                {
                  "index": "1.2911",
                  "USD": 3
                },
                {
                  "index": "1.3295",
                  "USD": 3
                },
                {
                  "index": "1.3238",
                  "USD": 3
                },
                {
                  "index": "1.2971",
                  "USD": 3
                },
                {
                  "index": "1.3024",
                  "USD": 3
                },
                {
                  "index": "1.3020",
                  "USD": 3
                },
                {
                  "index": "1.2158",
                  "USD": 3
                },
                {
                  "index": "1.2139",
                  "USD": 3
                },
                {
                  "index": "1.2905",
                  "USD": 3
                },
                {
                  "index": "1.2296",
                  "USD": 3
                },
                {
                  "index": "1.3077",
                  "USD": 3
                },
                {
                  "index": "1.2045",
                  "USD": 3
                },
                {
                  "index": "1.2042",
                  "USD": 3
                },
                {
                  "index": "1.2112",
                  "USD": 3
                },
                {
                  "index": "1.2820",
                  "USD": 3
                },
                {
                  "index": "1.2810",
                  "USD": 3
                },
                {
                  "index": "1.2372",
                  "USD": 3
                },
                {
                  "index": "1.3203",
                  "USD": 3
                },
                {
                  "index": "1.2967",
                  "USD": 3
                },
                {
                  "index": "1.2039",
                  "USD": 3
                },
                {
                  "index": "1.2022",
                  "USD": 3
                },
                {
                  "index": "1.2064",
                  "USD": 3
                },
                {
                  "index": "1.3039",
                  "USD": 3
                },
                {
                  "index": "1.2279",
                  "USD": 3
                },
                {
                  "index": "1.2338",
                  "USD": 3
                },
                {
                  "index": "1.2331",
                  "USD": 3
                },
                {
                  "index": "1.2692",
                  "USD": 3
                },
                {
                  "index": "1.2634",
                  "USD": 3
                },
                {
                  "index": "1.3119",
                  "USD": 3
                },
                {
                  "index": "1.1644",
                  "USD": 3
                },
                {
                  "index": "1.3244",
                  "USD": 3
                },
                {
                  "index": "1.3114",
                  "USD": 3
                },
                {
                  "index": "1.1344",
                  "USD": 3
                },
                {
                  "index": "1.1435",
                  "USD": 3
                },
                {
                  "index": "1.1466",
                  "USD": 3
                },
                {
                  "index": "1.2776",
                  "USD": 3
                },
                {
                  "index": "1.1652",
                  "USD": 3
                },
                {
                  "index": "1.1738",
                  "USD": 3
                },
                {
                  "index": "1.0836",
                  "USD": 3
                },
                {
                  "index": "1.2660",
                  "USD": 3
                },
                {
                  "index": "1.2768",
                  "USD": 3
                },
                {
                  "index": "1.1726",
                  "USD": 3
                },
                {
                  "index": "1.1699",
                  "USD": 3
                },
                {
                  "index": "1.1854",
                  "USD": 3
                },
                {
                  "index": "1.1655",
                  "USD": 3
                },
                {
                  "index": "1.2800",
                  "USD": 3
                },
                {
                  "index": "1.3274",
                  "USD": 3
                },
                {
                  "index": "1.3276",
                  "USD": 3
                },
                {
                  "index": "1.2424",
                  "USD": 3
                },
                {
                  "index": "1.3178",
                  "USD": 3
                },
                {
                  "index": "1.2984",
                  "USD": 3
                },
                {
                  "index": "1.2988",
                  "USD": 3
                },
                {
                  "index": "1.3006",
                  "USD": 3
                },
                {
                  "index": "1.3270",
                  "USD": 3
                },
                {
                  "index": "1.3173",
                  "USD": 3
                },
                {
                  "index": "1.0800",
                  "USD": 3
                },
                {
                  "index": "1.0919",
                  "USD": 3
                },
                {
                  "index": "1.1080",
                  "USD": 3
                },
                {
                  "index": "1.0702",
                  "USD": 3
                },
                {
                  "index": "1.3106",
                  "USD": 3
                },
                {
                  "index": "1.0801",
                  "USD": 3
                },
                {
                  "index": "1.0570",
                  "USD": 3
                },
                {
                  "index": "1.0723",
                  "USD": 3
                },
                {
                  "index": "1.0730",
                  "USD": 3
                },
                {
                  "index": "1.0895",
                  "USD": 3
                },
                {
                  "index": "1.0830",
                  "USD": 3
                },
                {
                  "index": "1.1413",
                  "USD": 3
                },
                {
                  "index": "1.1315",
                  "USD": 3
                },
                {
                  "index": "1.2679",
                  "USD": 3
                },
                {
                  "index": "1.1875",
                  "USD": 3
                },
                {
                  "index": "1.1969",
                  "USD": 3
                },
                {
                  "index": "1.2185",
                  "USD": 3
                },
                {
                  "index": "1.1920",
                  "USD": 3
                },
                {
                  "index": "1.1424",
                  "USD": 3
                },
                {
                  "index": "1.1948",
                  "USD": 3
                },
                {
                  "index": "1.2277",
                  "USD": 3
                },
                {
                  "index": "1.2125",
                  "USD": 3
                },
                {
                  "index": "1.1825",
                  "USD": 3
                },
                {
                  "index": "1.1694",
                  "USD": 3
                },
                {
                  "index": "1.2087",
                  "USD": 3
                },
                {
                  "index": "1.2254",
                  "USD": 3
                },
                {
                  "index": "1.2339",
                  "USD": 3
                },
                {
                  "index": "1.2337",
                  "USD": 3
                },
                {
                  "index": "1.2392",
                  "USD": 3
                },
                {
                  "index": "1.1925",
                  "USD": 3
                },
                {
                  "index": "1.1710",
                  "USD": 3
                },
                {
                  "index": "1.2084",
                  "USD": 3
                },
                {
                  "index": "1.2262",
                  "USD": 3
                },
                {
                  "index": "1.1299",
                  "USD": 3
                },
                {
                  "index": "1.2735",
                  "USD": 3
                },
                {
                  "index": "1.1343",
                  "USD": 3
                },
                {
                  "index": "1.2531",
                  "USD": 3
                },
                {
                  "index": "1.1169",
                  "USD": 3
                },
                {
                  "index": "1.2790",
                  "USD": 3
                },
                {
                  "index": "1.1277",
                  "USD": 3
                },
                {
                  "index": "1.1009",
                  "USD": 3
                },
                {
                  "index": "1.2659",
                  "USD": 3
                },
                {
                  "index": "1.0783",
                  "USD": 3
                },
                {
                  "index": "1.1634",
                  "USD": 3
                },
                {
                  "index": "1.2767",
                  "USD": 3
                },
                {
                  "index": "1.2770",
                  "USD": 3
                },
                {
                  "index": "1.1212",
                  "USD": 3
                },
                {
                  "index": "1.2697",
                  "USD": 3
                },
                {
                  "index": "1.1671",
                  "USD": 3
                },
                {
                  "index": "1.1768",
                  "USD": 3
                },
                {
                  "index": "1.1788",
                  "USD": 3
                },
                {
                  "index": "1.3592",
                  "USD": 3
                },
                {
                  "index": "1.1789",
                  "USD": 3
                },
                {
                  "index": "1.3033",
                  "USD": 3
                },
                {
                  "index": "0.8973",
                  "USD": 3
                },
                {
                  "index": "1.0634",
                  "USD": 3
                },
                {
                  "index": "1.1034",
                  "USD": 3
                },
                {
                  "index": "1.0861",
                  "USD": 3
                },
                {
                  "index": "1.0666",
                  "USD": 3
                },
                {
                  "index": "1.1077",
                  "USD": 3
                },
                {
                  "index": "0.8909",
                  "USD": 3
                },
                {
                  "index": "1.1003",
                  "USD": 3
                },
                {
                  "index": "1.0564",
                  "USD": 3
                },
                {
                  "index": "1.1104",
                  "USD": 3
                },
                {
                  "index": "1.1076",
                  "USD": 3
                },
                {
                  "index": "0.8922",
                  "USD": 3
                },
                {
                  "index": "1.1106",
                  "USD": 3
                },
                {
                  "index": "1.1220",
                  "USD": 3
                },
                {
                  "index": "1.1316",
                  "USD": 3
                },
                {
                  "index": "1.1213",
                  "USD": 3
                },
                {
                  "index": "1.1199",
                  "USD": 3
                },
                {
                  "index": "0.9118",
                  "USD": 3
                },
                {
                  "index": "1.1206",
                  "USD": 3
                },
                {
                  "index": "1.0627",
                  "USD": 3
                },
                {
                  "index": "1.1091",
                  "USD": 3
                },
                {
                  "index": "1.0586",
                  "USD": 3
                },
                {
                  "index": "1.1005",
                  "USD": 3
                },
                {
                  "index": "1.0692",
                  "USD": 3
                },
                {
                  "index": "1.1286",
                  "USD": 3
                },
                {
                  "index": "1.0864",
                  "USD": 3
                },
                {
                  "index": "1.0089",
                  "USD": 3
                },
                {
                  "index": "1.0629",
                  "USD": 3
                },
                {
                  "index": "1.0843",
                  "USD": 3
                },
                {
                  "index": "0.8947",
                  "USD": 3
                },
                {
                  "index": "1.0898",
                  "USD": 3
                },
                {
                  "index": "0.8952",
                  "USD": 3
                },
                {
                  "index": "1.0711",
                  "USD": 3
                },
                {
                  "index": "0.8818",
                  "USD": 3
                },
                {
                  "index": "1.0743",
                  "USD": 3
                },
                {
                  "index": "1.0742",
                  "USD": 3
                },
                {
                  "index": "1.1230",
                  "USD": 3
                },
                {
                  "index": "1.1075",
                  "USD": 3
                },
                {
                  "index": "1.1180",
                  "USD": 3
                },
                {
                  "index": "1.0893",
                  "USD": 3
                },
                {
                  "index": "1.1133",
                  "USD": 3
                },
                {
                  "index": "1.0786",
                  "USD": 3
                },
                {
                  "index": "1.1273",
                  "USD": 3
                },
                {
                  "index": "1.0875",
                  "USD": 3
                },
                {
                  "index": "1.0950",
                  "USD": 3
                },
                {
                  "index": "1.1278",
                  "USD": 3
                },
                {
                  "index": "1.1362",
                  "USD": 3
                },
                {
                  "index": "1.1254",
                  "USD": 3
                },
                {
                  "index": "1.2007",
                  "USD": 3
                },
                {
                  "index": "1.1574",
                  "USD": 3
                },
                {
                  "index": "1.1160",
                  "USD": 3
                },
                {
                  "index": "1.1707",
                  "USD": 3
                },
                {
                  "index": "1.1155",
                  "USD": 3
                },
                {
                  "index": "1.1171",
                  "USD": 3
                },
                {
                  "index": "1.0146",
                  "USD": 3
                },
                {
                  "index": "1.1810",
                  "USD": 3
                },
                {
                  "index": "1.1759",
                  "USD": 3
                },
                {
                  "index": "1.0665",
                  "USD": 3
                },
                {
                  "index": "1.1645",
                  "USD": 3
                },
                {
                  "index": "1.1153",
                  "USD": 3
                },
                {
                  "index": "1.1203",
                  "USD": 3
                },
                {
                  "index": "1.1817",
                  "USD": 3
                },
                {
                  "index": "1.1250",
                  "USD": 3
                },
                {
                  "index": "1.1151",
                  "USD": 3
                },
                {
                  "index": "1.0613",
                  "USD": 3
                },
                {
                  "index": "1.0951",
                  "USD": 3
                },
                {
                  "index": "1.1030",
                  "USD": 3
                },
                {
                  "index": "1.1058",
                  "USD": 3
                },
                {
                  "index": "1.0408",
                  "USD": 3
                },
                {
                  "index": "1.1291",
                  "USD": 3
                },
                {
                  "index": "1.1222",
                  "USD": 3
                },
                {
                  "index": "1.1325",
                  "USD": 3
                },
                {
                  "index": "1.1066",
                  "USD": 3
                },
                {
                  "index": "1.1329",
                  "USD": 3
                },
                {
                  "index": "1.1096",
                  "USD": 3
                },
                {
                  "index": "1.1417",
                  "USD": 3
                },
                {
                  "index": "1.0385",
                  "USD": 3
                },
                {
                  "index": "1.1260",
                  "USD": 3
                },
                {
                  "index": "1.1439",
                  "USD": 3
                },
                {
                  "index": "1.1085",
                  "USD": 3
                },
                {
                  "index": "1.1812",
                  "USD": 3
                },
                {
                  "index": "1.1084",
                  "USD": 3
                },
                {
                  "index": "1.1814",
                  "USD": 3
                },
                {
                  "index": "1.1771",
                  "USD": 3
                },
                {
                  "index": "1.0889",
                  "USD": 3
                },
                {
                  "index": "1.0758",
                  "USD": 3
                },
                {
                  "index": "1.1285",
                  "USD": 3
                },
                {
                  "index": "1.0985",
                  "USD": 3
                },
                {
                  "index": "1.1718",
                  "USD": 3
                },
                {
                  "index": "1.1593",
                  "USD": 3
                },
                {
                  "index": "1.1409",
                  "USD": 3
                },
                {
                  "index": "1.1447",
                  "USD": 3
                },
                {
                  "index": "1.1253",
                  "USD": 3
                },
                {
                  "index": "1.1232",
                  "USD": 3
                },
                {
                  "index": "0.9934",
                  "USD": 3
                },
                {
                  "index": "1.1275",
                  "USD": 3
                },
                {
                  "index": "1.1616",
                  "USD": 3
                },
                {
                  "index": "1.1314",
                  "USD": 3
                },
                {
                  "index": "1.0991",
                  "USD": 3
                },
                {
                  "index": "1.1338",
                  "USD": 3
                },
                {
                  "index": "1.1161",
                  "USD": 3
                },
                {
                  "index": "1.0969",
                  "USD": 3
                },
                {
                  "index": "1.1219",
                  "USD": 3
                },
                {
                  "index": "1.1408",
                  "USD": 3
                },
                {
                  "index": "0.9725",
                  "USD": 3
                },
                {
                  "index": "1.1303",
                  "USD": 3
                },
                {
                  "index": "1.1306",
                  "USD": 3
                },
                {
                  "index": "1.1317",
                  "USD": 3
                },
                {
                  "index": "1.1363",
                  "USD": 3
                },
                {
                  "index": "1.1337",
                  "USD": 3
                },
                {
                  "index": "1.1884",
                  "USD": 3
                },
                {
                  "index": "1.1410",
                  "USD": 3
                },
                {
                  "index": "1.1838",
                  "USD": 3
                },
                {
                  "index": "1.1276",
                  "USD": 3
                },
                {
                  "index": "1.1891",
                  "USD": 3
                },
                {
                  "index": "1.1333",
                  "USD": 3
                },
                {
                  "index": "0.9835",
                  "USD": 3
                },
                {
                  "index": "1.1367",
                  "USD": 3
                },
                {
                  "index": "1.1321",
                  "USD": 3
                },
                {
                  "index": "0.9748",
                  "USD": 3
                },
                {
                  "index": "1.1708",
                  "USD": 3
                },
                {
                  "index": "1.1296",
                  "USD": 3
                },
                {
                  "index": "1.1271",
                  "USD": 3
                },
                {
                  "index": "1.1372",
                  "USD": 3
                },
                {
                  "index": "1.1612",
                  "USD": 3
                },
                {
                  "index": "1.0887",
                  "USD": 3
                },
                {
                  "index": "0.8763",
                  "USD": 3
                },
                {
                  "index": "1.1304",
                  "USD": 3
                },
                {
                  "index": "0.8786",
                  "USD": 3
                },
                {
                  "index": "1.2259",
                  "USD": 3
                },
                {
                  "index": "1.0993",
                  "USD": 3
                },
                {
                  "index": "1.0199",
                  "USD": 3
                },
                {
                  "index": "1.1744",
                  "USD": 3
                },
                {
                  "index": "1.0901",
                  "USD": 3
                },
                {
                  "index": "1.0966",
                  "USD": 3
                },
                {
                  "index": "1.0578",
                  "USD": 3
                },
                {
                  "index": "1.1349",
                  "USD": 3
                },
                {
                  "index": "1.1136",
                  "USD": 3
                },
                {
                  "index": "1.0981",
                  "USD": 3
                },
                {
                  "index": "1.1698",
                  "USD": 3
                },
                {
                  "index": "1.1038",
                  "USD": 3
                },
                {
                  "index": "0.9193",
                  "USD": 3
                },
                {
                  "index": "1.2826",
                  "USD": 2
                },
                {
                  "index": "1.1630",
                  "USD": 2
                },
                {
                  "index": "1.1727",
                  "USD": 2
                },
                {
                  "index": "1.1808",
                  "USD": 2
                },
                {
                  "index": "1.1184",
                  "USD": 2
                },
                {
                  "index": "1.1860",
                  "USD": 2
                },
                {
                  "index": "1.2537",
                  "USD": 2
                },
                {
                  "index": "1.1590",
                  "USD": 2
                },
                {
                  "index": "1.1970",
                  "USD": 2
                },
                {
                  "index": "1.1868",
                  "USD": 2
                },
                {
                  "index": "1.1972",
                  "USD": 2
                },
                {
                  "index": "1.1087",
                  "USD": 2
                },
                {
                  "index": "1.2864",
                  "USD": 2
                },
                {
                  "index": "1.1035",
                  "USD": 2
                },
                {
                  "index": "1.3265",
                  "USD": 2
                },
                {
                  "index": "1.1799",
                  "USD": 2
                },
                {
                  "index": "1.3177",
                  "USD": 2
                },
                {
                  "index": "1.1654",
                  "USD": 2
                },
                {
                  "index": "1.2643",
                  "USD": 2
                },
                {
                  "index": "1.3078",
                  "USD": 2
                },
                {
                  "index": "1.1898",
                  "USD": 2
                },
                {
                  "index": "1.2048",
                  "USD": 2
                },
                {
                  "index": "1.1906",
                  "USD": 2
                },
                {
                  "index": "1.2174",
                  "USD": 2
                },
                {
                  "index": "1.1856",
                  "USD": 2
                },
                {
                  "index": "1.1830",
                  "USD": 2
                },
                {
                  "index": "1.1749",
                  "USD": 2
                },
                {
                  "index": "1.2025",
                  "USD": 2
                },
                {
                  "index": "1.1914",
                  "USD": 2
                },
                {
                  "index": "1.1746",
                  "USD": 2
                },
                {
                  "index": "1.2104",
                  "USD": 2
                },
                {
                  "index": "1.3297",
                  "USD": 2
                },
                {
                  "index": "1.1896",
                  "USD": 2
                },
                {
                  "index": "1.1015",
                  "USD": 2
                },
                {
                  "index": "1.1742",
                  "USD": 2
                },
                {
                  "index": "1.1113",
                  "USD": 2
                },
                {
                  "index": "1.2105",
                  "USD": 2
                },
                {
                  "index": "1.0997",
                  "USD": 2
                },
                {
                  "index": "1.2252",
                  "USD": 2
                },
                {
                  "index": "1.1863",
                  "USD": 2
                },
                {
                  "index": "1.1753",
                  "USD": 2
                },
                {
                  "index": "1.1834",
                  "USD": 2
                },
                {
                  "index": "1.2425",
                  "USD": 2
                },
                {
                  "index": "1.1890",
                  "USD": 2
                },
                {
                  "index": "1.1858",
                  "USD": 2
                },
                {
                  "index": "1.1905",
                  "USD": 2
                },
                {
                  "index": "1.3147",
                  "USD": 2
                },
                {
                  "index": "1.1729",
                  "USD": 2
                },
                {
                  "index": "1.0925",
                  "USD": 2
                },
                {
                  "index": "1.1648",
                  "USD": 2
                },
                {
                  "index": "1.0790",
                  "USD": 2
                },
                {
                  "index": "1.2543",
                  "USD": 2
                },
                {
                  "index": "1.1140",
                  "USD": 2
                },
                {
                  "index": "1.2879",
                  "USD": 2
                },
                {
                  "index": "1.2603",
                  "USD": 2
                },
                {
                  "index": "1.0807",
                  "USD": 2
                },
                {
                  "index": "1.2721",
                  "USD": 2
                },
                {
                  "index": "1.1973",
                  "USD": 2
                },
                {
                  "index": "1.2857",
                  "USD": 2
                },
                {
                  "index": "1.2718",
                  "USD": 2
                },
                {
                  "index": "1.1020",
                  "USD": 2
                },
                {
                  "index": "1.2684",
                  "USD": 2
                },
                {
                  "index": "1.0616",
                  "USD": 2
                },
                {
                  "index": "1.2725",
                  "USD": 2
                },
                {
                  "index": "1.0712",
                  "USD": 2
                },
                {
                  "index": "1.0661",
                  "USD": 2
                },
                {
                  "index": "1.2798",
                  "USD": 2
                },
                {
                  "index": "1.0541",
                  "USD": 2
                },
                {
                  "index": "1.2793",
                  "USD": 2
                },
                {
                  "index": "1.0994",
                  "USD": 2
                },
                {
                  "index": "1.2812",
                  "USD": 2
                },
                {
                  "index": "1.2831",
                  "USD": 2
                },
                {
                  "index": "1.0979",
                  "USD": 2
                },
                {
                  "index": "1.2665",
                  "USD": 2
                },
                {
                  "index": "1.0559",
                  "USD": 2
                },
                {
                  "index": "1.0576",
                  "USD": 2
                },
                {
                  "index": "1.2675",
                  "USD": 2
                },
                {
                  "index": "1.2808",
                  "USD": 2
                },
                {
                  "index": "1.2731",
                  "USD": 2
                },
                {
                  "index": "1.2852",
                  "USD": 2
                },
                {
                  "index": "1.0904",
                  "USD": 2
                },
                {
                  "index": "1.0938",
                  "USD": 2
                },
                {
                  "index": "1.2664",
                  "USD": 2
                },
                {
                  "index": "1.2841",
                  "USD": 2
                },
                {
                  "index": "1.2796",
                  "USD": 2
                },
                {
                  "index": "1.2851",
                  "USD": 2
                },
                {
                  "index": "1.2755",
                  "USD": 2
                },
                {
                  "index": "1.1158",
                  "USD": 2
                },
                {
                  "index": "1.2839",
                  "USD": 2
                },
                {
                  "index": "1.1642",
                  "USD": 2
                },
                {
                  "index": "1.1533",
                  "USD": 2
                },
                {
                  "index": "1.1555",
                  "USD": 2
                },
                {
                  "index": "1.1405",
                  "USD": 2
                },
                {
                  "index": "1.2572",
                  "USD": 2
                },
                {
                  "index": "1.1095",
                  "USD": 2
                },
                {
                  "index": "1.1412",
                  "USD": 2
                },
                {
                  "index": "1.2591",
                  "USD": 2
                },
                {
                  "index": "1.1339",
                  "USD": 2
                },
                {
                  "index": "1.2546",
                  "USD": 2
                },
                {
                  "index": "1.2760",
                  "USD": 2
                },
                {
                  "index": "1.2587",
                  "USD": 2
                },
                {
                  "index": "1.2561",
                  "USD": 2
                },
                {
                  "index": "1.1147",
                  "USD": 2
                },
                {
                  "index": "1.2757",
                  "USD": 2
                },
                {
                  "index": "1.2696",
                  "USD": 2
                },
                {
                  "index": "1.1214",
                  "USD": 2
                },
                {
                  "index": "1.2567",
                  "USD": 2
                },
                {
                  "index": "1.1167",
                  "USD": 2
                },
                {
                  "index": "1.2666",
                  "USD": 2
                },
                {
                  "index": "1.1262",
                  "USD": 2
                },
                {
                  "index": "1.2653",
                  "USD": 2
                },
                {
                  "index": "1.1243",
                  "USD": 2
                },
                {
                  "index": "1.1059",
                  "USD": 2
                },
                {
                  "index": "1.2618",
                  "USD": 2
                },
                {
                  "index": "1.0876",
                  "USD": 2
                },
                {
                  "index": "1.0556",
                  "USD": 2
                },
                {
                  "index": "1.1428",
                  "USD": 2
                },
                {
                  "index": "1.1848",
                  "USD": 2
                },
                {
                  "index": "1.1448",
                  "USD": 2
                },
                {
                  "index": "1.2959",
                  "USD": 2
                },
                {
                  "index": "1.2964",
                  "USD": 2
                },
                {
                  "index": "1.2982",
                  "USD": 2
                },
                {
                  "index": "1.3050",
                  "USD": 2
                },
                {
                  "index": "1.3175",
                  "USD": 2
                },
                {
                  "index": "1.3199",
                  "USD": 2
                },
                {
                  "index": "1.1444",
                  "USD": 2
                },
                {
                  "index": "1.3346",
                  "USD": 2
                },
                {
                  "index": "1.3257",
                  "USD": 2
                },
                {
                  "index": "1.2523",
                  "USD": 2
                },
                {
                  "index": "1.1725",
                  "USD": 2
                },
                {
                  "index": "1.1833",
                  "USD": 2
                },
                {
                  "index": "1.1850",
                  "USD": 2
                },
                {
                  "index": "1.3193",
                  "USD": 2
                },
                {
                  "index": "1.1861",
                  "USD": 2
                },
                {
                  "index": "1.1892",
                  "USD": 2
                },
                {
                  "index": "1.1702",
                  "USD": 2
                },
                {
                  "index": "1.1832",
                  "USD": 2
                },
                {
                  "index": "1.2883",
                  "USD": 2
                },
                {
                  "index": "1.1330",
                  "USD": 2
                },
                {
                  "index": "1.2860",
                  "USD": 2
                },
                {
                  "index": "1.2923",
                  "USD": 2
                },
                {
                  "index": "1.2616",
                  "USD": 2
                },
                {
                  "index": "1.2771",
                  "USD": 2
                },
                {
                  "index": "1.2882",
                  "USD": 2
                },
                {
                  "index": "1.2854",
                  "USD": 2
                },
                {
                  "index": "1.1023",
                  "USD": 2
                },
                {
                  "index": "1.1094",
                  "USD": 2
                },
                {
                  "index": "1.2863",
                  "USD": 2
                },
                {
                  "index": "1.1126",
                  "USD": 2
                },
                {
                  "index": "1.2957",
                  "USD": 2
                },
                {
                  "index": "1.1052",
                  "USD": 2
                },
                {
                  "index": "1.0842",
                  "USD": 2
                },
                {
                  "index": "1.2981",
                  "USD": 2
                },
                {
                  "index": "1.2966",
                  "USD": 2
                },
                {
                  "index": "1.3058",
                  "USD": 2
                },
                {
                  "index": "1.0977",
                  "USD": 2
                },
                {
                  "index": "1.2868",
                  "USD": 2
                },
                {
                  "index": "1.2922",
                  "USD": 2
                },
                {
                  "index": "1.2114",
                  "USD": 2
                },
                {
                  "index": "1.2162",
                  "USD": 2
                },
                {
                  "index": "1.3016",
                  "USD": 2
                },
                {
                  "index": "1.1807",
                  "USD": 2
                },
                {
                  "index": "1.3378",
                  "USD": 2
                },
                {
                  "index": "1.3401",
                  "USD": 2
                },
                {
                  "index": "1.1603",
                  "USD": 2
                },
                {
                  "index": "1.0524",
                  "USD": 2
                },
                {
                  "index": "1.3317",
                  "USD": 2
                },
                {
                  "index": "1.3268",
                  "USD": 2
                },
                {
                  "index": "1.3305",
                  "USD": 2
                },
                {
                  "index": "1.3456",
                  "USD": 2
                },
                {
                  "index": "1.3435",
                  "USD": 2
                },
                {
                  "index": "1.0455",
                  "USD": 2
                },
                {
                  "index": "1.0131",
                  "USD": 2
                },
                {
                  "index": "1.3314",
                  "USD": 2
                },
                {
                  "index": "1.3213",
                  "USD": 2
                },
                {
                  "index": "1.0233",
                  "USD": 2
                },
                {
                  "index": "1.3146",
                  "USD": 2
                },
                {
                  "index": "0.9986",
                  "USD": 2
                },
                {
                  "index": "0.9990",
                  "USD": 2
                },
                {
                  "index": "1.1780",
                  "USD": 2
                },
                {
                  "index": "1.1772",
                  "USD": 2
                },
                {
                  "index": "1.2777",
                  "USD": 2
                },
                {
                  "index": "1.2212",
                  "USD": 2
                },
                {
                  "index": "1.2124",
                  "USD": 2
                },
                {
                  "index": "1.2123",
                  "USD": 2
                },
                {
                  "index": "1.2844",
                  "USD": 2
                },
                {
                  "index": "1.2108",
                  "USD": 2
                },
                {
                  "index": "1.3025",
                  "USD": 2
                },
                {
                  "index": "1.3065",
                  "USD": 2
                },
                {
                  "index": "1.2936",
                  "USD": 2
                },
                {
                  "index": "1.3083",
                  "USD": 2
                },
                {
                  "index": "1.3060",
                  "USD": 2
                },
                {
                  "index": "1.3085",
                  "USD": 2
                },
                {
                  "index": "1.3091",
                  "USD": 2
                },
                {
                  "index": "1.2129",
                  "USD": 2
                },
                {
                  "index": "1.3232",
                  "USD": 2
                },
                {
                  "index": "1.1866",
                  "USD": 2
                },
                {
                  "index": "1.3365",
                  "USD": 2
                },
                {
                  "index": "1.3621",
                  "USD": 2
                },
                {
                  "index": "1.3633",
                  "USD": 2
                },
                {
                  "index": "1.2636",
                  "USD": 2
                },
                {
                  "index": "1.2551",
                  "USD": 2
                },
                {
                  "index": "1.1827",
                  "USD": 2
                },
                {
                  "index": "1.1713",
                  "USD": 2
                },
                {
                  "index": "1.1670",
                  "USD": 2
                },
                {
                  "index": "1.1745",
                  "USD": 2
                },
                {
                  "index": "1.1716",
                  "USD": 2
                },
                {
                  "index": "1.1696",
                  "USD": 2
                },
                {
                  "index": "1.1617",
                  "USD": 2
                },
                {
                  "index": "1.1456",
                  "USD": 2
                },
                {
                  "index": "1.1502",
                  "USD": 2
                },
                {
                  "index": "1.1667",
                  "USD": 2
                },
                {
                  "index": "1.1773",
                  "USD": 2
                },
                {
                  "index": "1.2263",
                  "USD": 2
                },
                {
                  "index": "1.1478",
                  "USD": 2
                },
                {
                  "index": "1.1416",
                  "USD": 2
                },
                {
                  "index": "1.1128",
                  "USD": 2
                },
                {
                  "index": "1.1265",
                  "USD": 2
                },
                {
                  "index": "1.2059",
                  "USD": 2
                },
                {
                  "index": "1.1261",
                  "USD": 2
                },
                {
                  "index": "1.1371",
                  "USD": 2
                },
                {
                  "index": "1.2012",
                  "USD": 2
                },
                {
                  "index": "1.1658",
                  "USD": 2
                },
                {
                  "index": "1.1730",
                  "USD": 2
                },
                {
                  "index": "1.1737",
                  "USD": 2
                },
                {
                  "index": "1.1558",
                  "USD": 2
                },
                {
                  "index": "1.1849",
                  "USD": 2
                },
                {
                  "index": "1.1865",
                  "USD": 2
                },
                {
                  "index": "1.1916",
                  "USD": 2
                },
                {
                  "index": "1.1847",
                  "USD": 2
                },
                {
                  "index": "1.1845",
                  "USD": 2
                },
                {
                  "index": "1.1853",
                  "USD": 2
                },
                {
                  "index": "1.1934",
                  "USD": 2
                },
                {
                  "index": "1.2421",
                  "USD": 2
                },
                {
                  "index": "1.2411",
                  "USD": 2
                },
                {
                  "index": "1.1859",
                  "USD": 2
                },
                {
                  "index": "1.2070",
                  "USD": 2
                },
                {
                  "index": "1.1872",
                  "USD": 2
                },
                {
                  "index": "1.2020",
                  "USD": 2
                },
                {
                  "index": "1.1870",
                  "USD": 2
                },
                {
                  "index": "1.1784",
                  "USD": 2
                },
                {
                  "index": "1.1764",
                  "USD": 2
                },
                {
                  "index": "1.1675",
                  "USD": 2
                },
                {
                  "index": "1.1950",
                  "USD": 2
                },
                {
                  "index": "1.1341",
                  "USD": 2
                },
                {
                  "index": "1.1937",
                  "USD": 2
                },
                {
                  "index": "1.2217",
                  "USD": 2
                },
                {
                  "index": "1.1987",
                  "USD": 2
                },
                {
                  "index": "1.1308",
                  "USD": 2
                },
                {
                  "index": "1.1245",
                  "USD": 2
                },
                {
                  "index": "1.1123",
                  "USD": 2
                },
                {
                  "index": "1.1957",
                  "USD": 2
                },
                {
                  "index": "1.1913",
                  "USD": 2
                },
                {
                  "index": "1.2054",
                  "USD": 2
                },
                {
                  "index": "1.1323",
                  "USD": 2
                },
                {
                  "index": "1.1234",
                  "USD": 2
                },
                {
                  "index": "1.2177",
                  "USD": 2
                },
                {
                  "index": "1.1223",
                  "USD": 2
                },
                {
                  "index": "1.1216",
                  "USD": 2
                },
                {
                  "index": "1.2115",
                  "USD": 2
                },
                {
                  "index": "1.1083",
                  "USD": 2
                },
                {
                  "index": "1.2229",
                  "USD": 2
                },
                {
                  "index": "1.1116",
                  "USD": 2
                },
                {
                  "index": "1.2289",
                  "USD": 2
                },
                {
                  "index": "1.2093",
                  "USD": 2
                },
                {
                  "index": "1.2308",
                  "USD": 2
                },
                {
                  "index": "1.1999",
                  "USD": 2
                },
                {
                  "index": "1.2370",
                  "USD": 2
                },
                {
                  "index": "1.1980",
                  "USD": 2
                },
                {
                  "index": "1.2008",
                  "USD": 2
                },
                {
                  "index": "1.1377",
                  "USD": 2
                },
                {
                  "index": "1.1414",
                  "USD": 2
                },
                {
                  "index": "1.2144",
                  "USD": 2
                },
                {
                  "index": "1.1938",
                  "USD": 2
                },
                {
                  "index": "1.1445",
                  "USD": 2
                },
                {
                  "index": "1.2005",
                  "USD": 2
                },
                {
                  "index": "1.1394",
                  "USD": 2
                },
                {
                  "index": "1.2223",
                  "USD": 2
                },
                {
                  "index": "1.2483",
                  "USD": 2
                },
                {
                  "index": "1.1309",
                  "USD": 2
                },
                {
                  "index": "1.2538",
                  "USD": 2
                },
                {
                  "index": "1.2388",
                  "USD": 2
                },
                {
                  "index": "1.1294",
                  "USD": 2
                },
                {
                  "index": "1.2313",
                  "USD": 2
                },
                {
                  "index": "1.2457",
                  "USD": 2
                },
                {
                  "index": "1.1053",
                  "USD": 2
                },
                {
                  "index": "1.2410",
                  "USD": 2
                },
                {
                  "index": "1.1157",
                  "USD": 2
                },
                {
                  "index": "1.0978",
                  "USD": 2
                },
                {
                  "index": "1.0926",
                  "USD": 2
                },
                {
                  "index": "1.0970",
                  "USD": 2
                },
                {
                  "index": "1.1029",
                  "USD": 2
                },
                {
                  "index": "1.2693",
                  "USD": 2
                },
                {
                  "index": "1.2611",
                  "USD": 2
                },
                {
                  "index": "1.2704",
                  "USD": 2
                },
                {
                  "index": "1.3133",
                  "USD": 2
                },
                {
                  "index": "1.3176",
                  "USD": 2
                },
                {
                  "index": "1.3206",
                  "USD": 2
                },
                {
                  "index": "1.3069",
                  "USD": 2
                },
                {
                  "index": "1.2931",
                  "USD": 2
                },
                {
                  "index": "1.3000",
                  "USD": 2
                },
                {
                  "index": "1.2579",
                  "USD": 2
                },
                {
                  "index": "1.1134",
                  "USD": 2
                },
                {
                  "index": "1.2249",
                  "USD": 2
                },
                {
                  "index": "1.1249",
                  "USD": 2
                },
                {
                  "index": "1.2255",
                  "USD": 2
                },
                {
                  "index": "1.1204",
                  "USD": 2
                },
                {
                  "index": "1.2746",
                  "USD": 2
                },
                {
                  "index": "1.3412",
                  "USD": 2
                },
                {
                  "index": "1.3780",
                  "USD": 2
                },
                {
                  "index": "1.3311",
                  "USD": 2
                },
                {
                  "index": "1.3874",
                  "USD": 2
                },
                {
                  "index": "1.3440",
                  "USD": 2
                },
                {
                  "index": "1.3635",
                  "USD": 2
                },
                {
                  "index": "1.0824",
                  "USD": 2
                },
                {
                  "index": "1.3755",
                  "USD": 2
                },
                {
                  "index": "1.3710",
                  "USD": 2
                },
                {
                  "index": "1.3506",
                  "USD": 2
                },
                {
                  "index": "1.2973",
                  "USD": 2
                },
                {
                  "index": "1.1142",
                  "USD": 2
                },
                {
                  "index": "1.1419",
                  "USD": 2
                },
                {
                  "index": "1.3064",
                  "USD": 2
                },
                {
                  "index": "1.3267",
                  "USD": 2
                },
                {
                  "index": "1.3214",
                  "USD": 2
                },
                {
                  "index": "1.3674",
                  "USD": 2
                },
                {
                  "index": "1.1164",
                  "USD": 2
                },
                {
                  "index": "1.3481",
                  "USD": 2
                },
                {
                  "index": "1.3700",
                  "USD": 2
                },
                {
                  "index": "1.3945",
                  "USD": 2
                },
                {
                  "index": "1.3857",
                  "USD": 2
                },
                {
                  "index": "1.3861",
                  "USD": 2
                },
                {
                  "index": "1.3321",
                  "USD": 2
                },
                {
                  "index": "1.3339",
                  "USD": 2
                },
                {
                  "index": "1.0579",
                  "USD": 2
                },
                {
                  "index": "1.4864",
                  "USD": 2
                },
                {
                  "index": "1.4780",
                  "USD": 2
                },
                {
                  "index": "1.4658",
                  "USD": 2
                },
                {
                  "index": "1.1049",
                  "USD": 2
                },
                {
                  "index": "1.4272",
                  "USD": 2
                },
                {
                  "index": "1.4330",
                  "USD": 2
                },
                {
                  "index": "1.4101",
                  "USD": 2
                },
                {
                  "index": "1.4072",
                  "USD": 2
                },
                {
                  "index": "1.4170",
                  "USD": 2
                },
                {
                  "index": "1.4202",
                  "USD": 2
                },
                {
                  "index": "1.4357",
                  "USD": 2
                },
                {
                  "index": "1.4227",
                  "USD": 2
                },
                {
                  "index": "1.4090",
                  "USD": 2
                },
                {
                  "index": "1.4130",
                  "USD": 2
                },
                {
                  "index": "1.4096",
                  "USD": 2
                },
                {
                  "index": "1.3840",
                  "USD": 2
                },
                {
                  "index": "1.0852",
                  "USD": 2
                },
                {
                  "index": "1.4004",
                  "USD": 2
                },
                {
                  "index": "1.0902",
                  "USD": 2
                },
                {
                  "index": "1.0883",
                  "USD": 2
                },
                {
                  "index": "1.4768",
                  "USD": 2
                },
                {
                  "index": "1.4918",
                  "USD": 2
                },
                {
                  "index": "1.3432",
                  "USD": 2
                },
                {
                  "index": "1.4279",
                  "USD": 2
                },
                {
                  "index": "1.3338",
                  "USD": 2
                },
                {
                  "index": "1.3471",
                  "USD": 2
                },
                {
                  "index": "1.3723",
                  "USD": 2
                },
                {
                  "index": "1.3765",
                  "USD": 2
                },
                {
                  "index": "1.3662",
                  "USD": 2
                },
                {
                  "index": "1.1189",
                  "USD": 2
                },
                {
                  "index": "1.1100",
                  "USD": 2
                },
                {
                  "index": "1.3548",
                  "USD": 2
                },
                {
                  "index": "1.3089",
                  "USD": 2
                },
                {
                  "index": "1.3626",
                  "USD": 2
                },
                {
                  "index": "1.3567",
                  "USD": 2
                },
                {
                  "index": "1.1024",
                  "USD": 2
                },
                {
                  "index": "1.3572",
                  "USD": 2
                },
                {
                  "index": "1.3760",
                  "USD": 2
                },
                {
                  "index": "1.3675",
                  "USD": 2
                },
                {
                  "index": "1.3913",
                  "USD": 2
                },
                {
                  "index": "1.4369",
                  "USD": 2
                },
                {
                  "index": "1.4486",
                  "USD": 2
                },
                {
                  "index": "1.4433",
                  "USD": 2
                },
                {
                  "index": "1.0700",
                  "USD": 2
                },
                {
                  "index": "1.3762",
                  "USD": 2
                },
                {
                  "index": "1.1072",
                  "USD": 2
                },
                {
                  "index": "1.3186",
                  "USD": 2
                },
                {
                  "index": "1.1605",
                  "USD": 2
                },
                {
                  "index": "1.3537",
                  "USD": 2
                },
                {
                  "index": "1.3433",
                  "USD": 2
                },
                {
                  "index": "1.3368",
                  "USD": 2
                },
                {
                  "index": "1.3277",
                  "USD": 2
                },
                {
                  "index": "1.3012",
                  "USD": 2
                },
                {
                  "index": "1.3194",
                  "USD": 2
                },
                {
                  "index": "1.3209",
                  "USD": 2
                },
                {
                  "index": "1.3081",
                  "USD": 2
                },
                {
                  "index": "1.3072",
                  "USD": 2
                },
                {
                  "index": "1.2994",
                  "USD": 2
                },
                {
                  "index": "1.2805",
                  "USD": 2
                },
                {
                  "index": "1.2845",
                  "USD": 2
                },
                {
                  "index": "1.3002",
                  "USD": 2
                },
                {
                  "index": "1.2638",
                  "USD": 2
                },
                {
                  "index": "1.2448",
                  "USD": 2
                },
                {
                  "index": "1.2352",
                  "USD": 2
                },
                {
                  "index": "1.1618",
                  "USD": 2
                },
                {
                  "index": "1.2379",
                  "USD": 2
                },
                {
                  "index": "1.3374",
                  "USD": 2
                },
                {
                  "index": "1.3034",
                  "USD": 2
                },
                {
                  "index": "1.2234",
                  "USD": 2
                },
                {
                  "index": "1.2929",
                  "USD": 2
                },
                {
                  "index": "1.2514",
                  "USD": 2
                },
                {
                  "index": "1.3620",
                  "USD": 2
                },
                {
                  "index": "1.3774",
                  "USD": 2
                },
                {
                  "index": "1.3638",
                  "USD": 2
                },
                {
                  "index": "1.3791",
                  "USD": 2
                },
                {
                  "index": "1.3702",
                  "USD": 2
                },
                {
                  "index": "1.3749",
                  "USD": 2
                },
                {
                  "index": "1.2369",
                  "USD": 2
                },
                {
                  "index": "1.1915",
                  "USD": 2
                },
                {
                  "index": "1.1831",
                  "USD": 2
                },
                {
                  "index": "1.3515",
                  "USD": 2
                },
                {
                  "index": "1.3514",
                  "USD": 2
                },
                {
                  "index": "1.3284",
                  "USD": 2
                },
                {
                  "index": "1.3202",
                  "USD": 2
                },
                {
                  "index": "1.3180",
                  "USD": 2
                },
                {
                  "index": "1.1782",
                  "USD": 2
                },
                {
                  "index": "1.3107",
                  "USD": 2
                },
                {
                  "index": "1.3080",
                  "USD": 2
                },
                {
                  "index": "1.3037",
                  "USD": 2
                },
                {
                  "index": "1.2317",
                  "USD": 2
                },
                {
                  "index": "1.2281",
                  "USD": 2
                },
                {
                  "index": "1.3809",
                  "USD": 2
                },
                {
                  "index": "1.3480",
                  "USD": 2
                },
                {
                  "index": "1.0776",
                  "USD": 2
                },
                {
                  "index": "1.3776",
                  "USD": 2
                },
                {
                  "index": "1.3807",
                  "USD": 2
                },
                {
                  "index": "1.3727",
                  "USD": 2
                },
                {
                  "index": "1.3593",
                  "USD": 2
                },
                {
                  "index": "1.3181",
                  "USD": 2
                },
                {
                  "index": "1.3645",
                  "USD": 2
                },
                {
                  "index": "1.0856",
                  "USD": 2
                },
                {
                  "index": "1.4402",
                  "USD": 2
                },
                {
                  "index": "1.4260",
                  "USD": 2
                },
                {
                  "index": "1.4160",
                  "USD": 2
                },
                {
                  "index": "1.4265",
                  "USD": 2
                },
                {
                  "index": "1.4143",
                  "USD": 2
                },
                {
                  "index": "1.4397",
                  "USD": 2
                },
                {
                  "index": "1.4450",
                  "USD": 2
                },
                {
                  "index": "1.4401",
                  "USD": 2
                },
                {
                  "index": "1.4300",
                  "USD": 2
                },
                {
                  "index": "1.3884",
                  "USD": 2
                },
                {
                  "index": "1.0755",
                  "USD": 2
                },
                {
                  "index": "1.3927",
                  "USD": 2
                },
                {
                  "index": "1.3576",
                  "USD": 2
                },
                {
                  "index": "1.1310",
                  "USD": 2
                },
                {
                  "index": "1.3229",
                  "USD": 2
                },
                {
                  "index": "1.2426",
                  "USD": 2
                },
                {
                  "index": "1.2475",
                  "USD": 2
                },
                {
                  "index": "1.2539",
                  "USD": 2
                },
                {
                  "index": "1.2544",
                  "USD": 2
                },
                {
                  "index": "1.3123",
                  "USD": 2
                },
                {
                  "index": "1.3093",
                  "USD": 2
                },
                {
                  "index": "1.1381",
                  "USD": 2
                },
                {
                  "index": "1.3142",
                  "USD": 2
                },
                {
                  "index": "1.3242",
                  "USD": 2
                },
                {
                  "index": "1.3153",
                  "USD": 2
                },
                {
                  "index": "1.1415",
                  "USD": 2
                },
                {
                  "index": "1.1240",
                  "USD": 2
                },
                {
                  "index": "1.3017",
                  "USD": 2
                },
                {
                  "index": "1.2902",
                  "USD": 2
                },
                {
                  "index": "1.2669",
                  "USD": 2
                },
                {
                  "index": "1.1069",
                  "USD": 2
                },
                {
                  "index": "1.2889",
                  "USD": 2
                },
                {
                  "index": "1.3054",
                  "USD": 2
                },
                {
                  "index": "1.0635",
                  "USD": 2
                },
                {
                  "index": "1.0885",
                  "USD": 2
                },
                {
                  "index": "1.3563",
                  "USD": 2
                },
                {
                  "index": "1.3363",
                  "USD": 2
                },
                {
                  "index": "1.0746",
                  "USD": 2
                },
                {
                  "index": "1.3403",
                  "USD": 2
                },
                {
                  "index": "1.3404",
                  "USD": 2
                },
                {
                  "index": "1.3304",
                  "USD": 2
                },
                {
                  "index": "1.3345",
                  "USD": 2
                },
                {
                  "index": "1.3355",
                  "USD": 2
                },
                {
                  "index": "1.3482",
                  "USD": 2
                },
                {
                  "index": "1.3436",
                  "USD": 2
                },
                {
                  "index": "1.3453",
                  "USD": 2
                },
                {
                  "index": "1.3441",
                  "USD": 2
                },
                {
                  "index": "1.3448",
                  "USD": 2
                },
                {
                  "index": "1.0914",
                  "USD": 2
                },
                {
                  "index": "1.3444",
                  "USD": 2
                },
                {
                  "index": "1.3477",
                  "USD": 2
                },
                {
                  "index": "1.3516",
                  "USD": 2
                },
                {
                  "index": "1.3486",
                  "USD": 2
                },
                {
                  "index": "1.0892",
                  "USD": 2
                },
                {
                  "index": "1.3558",
                  "USD": 2
                },
                {
                  "index": "1.0837",
                  "USD": 2
                },
                {
                  "index": "1.3561",
                  "USD": 2
                },
                {
                  "index": "1.3438",
                  "USD": 2
                },
                {
                  "index": "1.3618",
                  "USD": 2
                },
                {
                  "index": "1.0903",
                  "USD": 2
                },
                {
                  "index": "1.0916",
                  "USD": 2
                },
                {
                  "index": "1.3632",
                  "USD": 2
                },
                {
                  "index": "1.0764",
                  "USD": 2
                },
                {
                  "index": "1.3610",
                  "USD": 2
                },
                {
                  "index": "1.0651",
                  "USD": 2
                },
                {
                  "index": "1.0612",
                  "USD": 2
                },
                {
                  "index": "1.3493",
                  "USD": 2
                },
                {
                  "index": "1.3508",
                  "USD": 2
                },
                {
                  "index": "1.3476",
                  "USD": 2
                },
                {
                  "index": "1.3650",
                  "USD": 2
                },
                {
                  "index": "1.3729",
                  "USD": 2
                },
                {
                  "index": "1.3664",
                  "USD": 2
                },
                {
                  "index": "1.0990",
                  "USD": 2
                },
                {
                  "index": "1.0933",
                  "USD": 2
                },
                {
                  "index": "1.3651",
                  "USD": 2
                },
                {
                  "index": "1.3722",
                  "USD": 2
                },
                {
                  "index": "1.3833",
                  "USD": 2
                },
                {
                  "index": "1.3820",
                  "USD": 2
                },
                {
                  "index": "1.0952",
                  "USD": 2
                },
                {
                  "index": "1.3781",
                  "USD": 2
                },
                {
                  "index": "1.3613",
                  "USD": 2
                },
                {
                  "index": "1.1101",
                  "USD": 2
                },
                {
                  "index": "1.3275",
                  "USD": 2
                },
                {
                  "index": "1.2480",
                  "USD": 2
                },
                {
                  "index": "1.1380",
                  "USD": 2
                },
                {
                  "index": "1.3134",
                  "USD": 2
                },
                {
                  "index": "1.1390",
                  "USD": 2
                },
                {
                  "index": "1.2956",
                  "USD": 2
                },
                {
                  "index": "1.3007",
                  "USD": 2
                },
                {
                  "index": "1.2925",
                  "USD": 2
                },
                {
                  "index": "1.2909",
                  "USD": 2
                },
                {
                  "index": "1.2893",
                  "USD": 2
                },
                {
                  "index": "1.1396",
                  "USD": 2
                },
                {
                  "index": "1.1379",
                  "USD": 2
                },
                {
                  "index": "1.1264",
                  "USD": 2
                },
                {
                  "index": "1.3231",
                  "USD": 2
                },
                {
                  "index": "1.1287",
                  "USD": 2
                },
                {
                  "index": "1.1358",
                  "USD": 2
                },
                {
                  "index": "1.1505",
                  "USD": 2
                },
                {
                  "index": "1.3159",
                  "USD": 2
                },
                {
                  "index": "1.3095",
                  "USD": 2
                },
                {
                  "index": "1.1225",
                  "USD": 2
                },
                {
                  "index": "1.1332",
                  "USD": 2
                },
                {
                  "index": "1.1385",
                  "USD": 2
                },
                {
                  "index": "1.1311",
                  "USD": 2
                },
                {
                  "index": "1.1257",
                  "USD": 2
                },
                {
                  "index": "1.3230",
                  "USD": 2
                },
                {
                  "index": "1.3557",
                  "USD": 2
                },
                {
                  "index": "1.1166",
                  "USD": 2
                },
                {
                  "index": "1.3601",
                  "USD": 2
                },
                {
                  "index": "1.3577",
                  "USD": 2
                },
                {
                  "index": "1.3550",
                  "USD": 2
                },
                {
                  "index": "1.1026",
                  "USD": 2
                },
                {
                  "index": "1.3467",
                  "USD": 2
                },
                {
                  "index": "1.3418",
                  "USD": 2
                },
                {
                  "index": "1.1027",
                  "USD": 2
                },
                {
                  "index": "1.1006",
                  "USD": 2
                },
                {
                  "index": "1.3347",
                  "USD": 2
                },
                {
                  "index": "1.0872",
                  "USD": 2
                },
                {
                  "index": "1.3296",
                  "USD": 2
                },
                {
                  "index": "1.3303",
                  "USD": 2
                },
                {
                  "index": "1.3325",
                  "USD": 2
                },
                {
                  "index": "1.3218",
                  "USD": 2
                },
                {
                  "index": "1.1119",
                  "USD": 2
                },
                {
                  "index": "1.3135",
                  "USD": 2
                },
                {
                  "index": "1.1064",
                  "USD": 2
                },
                {
                  "index": "1.3696",
                  "USD": 2
                },
                {
                  "index": "1.0935",
                  "USD": 2
                },
                {
                  "index": "1.3897",
                  "USD": 2
                },
                {
                  "index": "1.1402",
                  "USD": 2
                },
                {
                  "index": "1.3866",
                  "USD": 2
                },
                {
                  "index": "1.3917",
                  "USD": 2
                },
                {
                  "index": "1.4098",
                  "USD": 2
                },
                {
                  "index": "1.1229",
                  "USD": 2
                },
                {
                  "index": "1.3978",
                  "USD": 2
                },
                {
                  "index": "1.3970",
                  "USD": 2
                },
                {
                  "index": "1.3940",
                  "USD": 2
                },
                {
                  "index": "1.4616",
                  "USD": 2
                },
                {
                  "index": "1.3690",
                  "USD": 2
                },
                {
                  "index": "1.1320",
                  "USD": 2
                },
                {
                  "index": "1.3215",
                  "USD": 2
                },
                {
                  "index": "1.2727",
                  "USD": 2
                },
                {
                  "index": "1.2773",
                  "USD": 2
                },
                {
                  "index": "1.2530",
                  "USD": 2
                },
                {
                  "index": "1.2891",
                  "USD": 2
                },
                {
                  "index": "1.1170",
                  "USD": 2
                },
                {
                  "index": "1.2843",
                  "USD": 2
                },
                {
                  "index": "1.3184",
                  "USD": 2
                },
                {
                  "index": "1.3752",
                  "USD": 2
                },
                {
                  "index": "1.3595",
                  "USD": 2
                },
                {
                  "index": "1.1506",
                  "USD": 2
                },
                {
                  "index": "1.3867",
                  "USD": 2
                },
                {
                  "index": "1.1183",
                  "USD": 2
                },
                {
                  "index": "1.0941",
                  "USD": 2
                },
                {
                  "index": "1.2992",
                  "USD": 2
                },
                {
                  "index": "1.2932",
                  "USD": 2
                },
                {
                  "index": "1.3273",
                  "USD": 2
                },
                {
                  "index": "1.3496",
                  "USD": 2
                },
                {
                  "index": "1.3425",
                  "USD": 2
                },
                {
                  "index": "1.3392",
                  "USD": 2
                },
                {
                  "index": "1.0960",
                  "USD": 2
                },
                {
                  "index": "1.3042",
                  "USD": 2
                },
                {
                  "index": "1.2565",
                  "USD": 2
                },
                {
                  "index": "1.2555",
                  "USD": 2
                },
                {
                  "index": "1.2782",
                  "USD": 2
                },
                {
                  "index": "1.2763",
                  "USD": 2
                },
                {
                  "index": "1.2823",
                  "USD": 2
                },
                {
                  "index": "1.2938",
                  "USD": 2
                },
                {
                  "index": "1.3008",
                  "USD": 2
                },
                {
                  "index": "1.2990",
                  "USD": 2
                },
                {
                  "index": "1.2795",
                  "USD": 2
                },
                {
                  "index": "1.1041",
                  "USD": 2
                },
                {
                  "index": "1.3639",
                  "USD": 2
                },
                {
                  "index": "1.3579",
                  "USD": 2
                },
                {
                  "index": "1.3634",
                  "USD": 2
                },
                {
                  "index": "1.4303",
                  "USD": 2
                },
                {
                  "index": "1.4349",
                  "USD": 2
                },
                {
                  "index": "1.1266",
                  "USD": 2
                },
                {
                  "index": "1.4761",
                  "USD": 2
                },
                {
                  "index": "1.1373",
                  "USD": 2
                },
                {
                  "index": "1.4829",
                  "USD": 2
                },
                {
                  "index": "1.1313",
                  "USD": 2
                },
                {
                  "index": "1.4785",
                  "USD": 2
                },
                {
                  "index": "1.4700",
                  "USD": 2
                },
                {
                  "index": "1.4683",
                  "USD": 2
                },
                {
                  "index": "1.4666",
                  "USD": 2
                },
                {
                  "index": "1.4722",
                  "USD": 2
                },
                {
                  "index": "1.4391",
                  "USD": 2
                },
                {
                  "index": "1.4384",
                  "USD": 2
                },
                {
                  "index": "1.4309",
                  "USD": 2
                },
                {
                  "index": "1.1061",
                  "USD": 2
                },
                {
                  "index": "1.4146",
                  "USD": 2
                },
                {
                  "index": "1.4136",
                  "USD": 2
                },
                {
                  "index": "1.4049",
                  "USD": 2
                },
                {
                  "index": "1.0930",
                  "USD": 2
                },
                {
                  "index": "1.4380",
                  "USD": 2
                },
                {
                  "index": "1.4398",
                  "USD": 2
                },
                {
                  "index": "1.1224",
                  "USD": 2
                },
                {
                  "index": "1.5521",
                  "USD": 2
                },
                {
                  "index": "1.4267",
                  "USD": 2
                },
                {
                  "index": "1.4151",
                  "USD": 2
                },
                {
                  "index": "1.4066",
                  "USD": 2
                },
                {
                  "index": "1.3934",
                  "USD": 2
                },
                {
                  "index": "1.4247",
                  "USD": 2
                },
                {
                  "index": "1.4767",
                  "USD": 2
                },
                {
                  "index": "1.4907",
                  "USD": 2
                },
                {
                  "index": "1.5074",
                  "USD": 2
                },
                {
                  "index": "1.5430",
                  "USD": 2
                },
                {
                  "index": "1.4688",
                  "USD": 2
                },
                {
                  "index": "1.5458",
                  "USD": 2
                },
                {
                  "index": "1.5526",
                  "USD": 2
                },
                {
                  "index": "1.5577",
                  "USD": 2
                },
                {
                  "index": "1.5477",
                  "USD": 2
                },
                {
                  "index": "1.5417",
                  "USD": 2
                },
                {
                  "index": "1.4621",
                  "USD": 2
                },
                {
                  "index": "1.4674",
                  "USD": 2
                },
                {
                  "index": "1.4792",
                  "USD": 2
                },
                {
                  "index": "1.1324",
                  "USD": 2
                },
                {
                  "index": "1.4516",
                  "USD": 2
                },
                {
                  "index": "1.3026",
                  "USD": 2
                },
                {
                  "index": "1.0774",
                  "USD": 2
                },
                {
                  "index": "1.0474",
                  "USD": 2
                },
                {
                  "index": "1.0652",
                  "USD": 2
                },
                {
                  "index": "1.0653",
                  "USD": 2
                },
                {
                  "index": "1.0315",
                  "USD": 2
                },
                {
                  "index": "1.0382",
                  "USD": 2
                },
                {
                  "index": "1.0784",
                  "USD": 2
                },
                {
                  "index": "1.0870",
                  "USD": 2
                },
                {
                  "index": "1.0910",
                  "USD": 2
                },
                {
                  "index": "1.0716",
                  "USD": 2
                },
                {
                  "index": "1.0717",
                  "USD": 2
                },
                {
                  "index": "1.0622",
                  "USD": 2
                },
                {
                  "index": "1.0645",
                  "USD": 2
                },
                {
                  "index": "1.1689",
                  "USD": 2
                },
                {
                  "index": "1.0735",
                  "USD": 2
                },
                {
                  "index": "1.1028",
                  "USD": 2
                },
                {
                  "index": "1.0589",
                  "USD": 2
                },
                {
                  "index": "1.0691",
                  "USD": 2
                },
                {
                  "index": "1.0720",
                  "USD": 2
                },
                {
                  "index": "1.0805",
                  "USD": 2
                },
                {
                  "index": "1.0920",
                  "USD": 2
                },
                {
                  "index": "1.0597",
                  "USD": 2
                },
                {
                  "index": "1.0944",
                  "USD": 2
                },
                {
                  "index": "1.0956",
                  "USD": 2
                },
                {
                  "index": "1.1239",
                  "USD": 2
                },
                {
                  "index": "1.0577",
                  "USD": 2
                },
                {
                  "index": "1.0437",
                  "USD": 2
                },
                {
                  "index": "1.0392",
                  "USD": 2
                },
                {
                  "index": "1.0503",
                  "USD": 2
                },
                {
                  "index": "1.0682",
                  "USD": 2
                },
                {
                  "index": "1.0662",
                  "USD": 2
                },
                {
                  "index": "0.9821",
                  "USD": 2
                },
                {
                  "index": "0.9760",
                  "USD": 2
                },
                {
                  "index": "1.0573",
                  "USD": 2
                },
                {
                  "index": "1.0452",
                  "USD": 2
                },
                {
                  "index": "1.0606",
                  "USD": 2
                },
                {
                  "index": "0.9799",
                  "USD": 2
                },
                {
                  "index": "1.0553",
                  "USD": 2
                },
                {
                  "index": "0.9825",
                  "USD": 2
                },
                {
                  "index": "1.0791",
                  "USD": 2
                },
                {
                  "index": "0.9810",
                  "USD": 2
                },
                {
                  "index": "1.0698",
                  "USD": 2
                },
                {
                  "index": "0.9814",
                  "USD": 2
                },
                {
                  "index": "0.9763",
                  "USD": 2
                },
                {
                  "index": "1.0124",
                  "USD": 2
                },
                {
                  "index": "1.0182",
                  "USD": 2
                },
                {
                  "index": "1.0221",
                  "USD": 2
                },
                {
                  "index": "1.0034",
                  "USD": 2
                },
                {
                  "index": "1.0364",
                  "USD": 2
                },
                {
                  "index": "1.0067",
                  "USD": 2
                },
                {
                  "index": "1.0446",
                  "USD": 2
                },
                {
                  "index": "1.0425",
                  "USD": 2
                },
                {
                  "index": "1.0765",
                  "USD": 2
                },
                {
                  "index": "1.1720",
                  "USD": 2
                },
                {
                  "index": "1.2218",
                  "USD": 2
                },
                {
                  "index": "1.1684",
                  "USD": 2
                },
                {
                  "index": "1.1281",
                  "USD": 2
                },
                {
                  "index": "1.1235",
                  "USD": 2
                },
                {
                  "index": "1.1468",
                  "USD": 2
                },
                {
                  "index": "1.1464",
                  "USD": 2
                },
                {
                  "index": "1.1493",
                  "USD": 2
                },
                {
                  "index": "1.1487",
                  "USD": 2
                },
                {
                  "index": "1.0986",
                  "USD": 2
                },
                {
                  "index": "1.1669",
                  "USD": 2
                },
                {
                  "index": "1.1615",
                  "USD": 2
                },
                {
                  "index": "1.1623",
                  "USD": 2
                },
                {
                  "index": "1.1786",
                  "USD": 2
                },
                {
                  "index": "1.1589",
                  "USD": 2
                },
                {
                  "index": "1.0778",
                  "USD": 2
                },
                {
                  "index": "1.1449",
                  "USD": 2
                },
                {
                  "index": "1.1018",
                  "USD": 2
                },
                {
                  "index": "1.1497",
                  "USD": 2
                },
                {
                  "index": "1.1600",
                  "USD": 2
                },
                {
                  "index": "1.1778",
                  "USD": 2
                },
                {
                  "index": "1.1910",
                  "USD": 2
                },
                {
                  "index": "1.1037",
                  "USD": 2
                },
                {
                  "index": "1.1902",
                  "USD": 2
                },
                {
                  "index": "1.1163",
                  "USD": 2
                },
                {
                  "index": "1.1975",
                  "USD": 2
                },
                {
                  "index": "1.1176",
                  "USD": 2
                },
                {
                  "index": "1.1135",
                  "USD": 2
                },
                {
                  "index": "1.1071",
                  "USD": 2
                },
                {
                  "index": "1.0923",
                  "USD": 2
                },
                {
                  "index": "1.0863",
                  "USD": 2
                },
                {
                  "index": "1.1901",
                  "USD": 2
                },
                {
                  "index": "1.1822",
                  "USD": 2
                },
                {
                  "index": "1.1672",
                  "USD": 2
                },
                {
                  "index": "1.1723",
                  "USD": 2
                },
                {
                  "index": "1.0752",
                  "USD": 2
                },
                {
                  "index": "1.1748",
                  "USD": 2
                },
                {
                  "index": "1.0815",
                  "USD": 2
                },
                {
                  "index": "1.1432",
                  "USD": 2
                },
                {
                  "index": "1.1535",
                  "USD": 2
                },
                {
                  "index": "1.1360",
                  "USD": 2
                },
                {
                  "index": "1.1319",
                  "USD": 2
                },
                {
                  "index": "1.1205",
                  "USD": 2
                },
                {
                  "index": "1.1467",
                  "USD": 2
                },
                {
                  "index": "1.1462",
                  "USD": 2
                },
                {
                  "index": "1.1420",
                  "USD": 2
                },
                {
                  "index": "1.1307",
                  "USD": 2
                },
                {
                  "index": "1.0896",
                  "USD": 2
                },
                {
                  "index": "1.1353",
                  "USD": 2
                },
                {
                  "index": "1.0915",
                  "USD": 2
                },
                {
                  "index": "1.1247",
                  "USD": 2
                },
                {
                  "index": "1.1065",
                  "USD": 2
                },
                {
                  "index": "1.0907",
                  "USD": 2
                },
                {
                  "index": "1.0953",
                  "USD": 2
                },
                {
                  "index": "1.0594",
                  "USD": 2
                },
                {
                  "index": "1.0565",
                  "USD": 2
                },
                {
                  "index": "1.0406",
                  "USD": 2
                },
                {
                  "index": "0.8911",
                  "USD": 2
                },
                {
                  "index": "0.8810",
                  "USD": 2
                },
                {
                  "index": "0.8908",
                  "USD": 2
                },
                {
                  "index": "0.9042",
                  "USD": 2
                },
                {
                  "index": "0.9052",
                  "USD": 2
                },
                {
                  "index": "0.9219",
                  "USD": 2
                },
                {
                  "index": "0.9125",
                  "USD": 2
                },
                {
                  "index": "0.9062",
                  "USD": 2
                },
                {
                  "index": "0.9097",
                  "USD": 2
                },
                {
                  "index": "0.8969",
                  "USD": 2
                },
                {
                  "index": "0.8887",
                  "USD": 2
                },
                {
                  "index": "0.8474",
                  "USD": 2
                },
                {
                  "index": "0.8583",
                  "USD": 2
                },
                {
                  "index": "0.9836",
                  "USD": 2
                },
                {
                  "index": "0.8511",
                  "USD": 2
                },
                {
                  "index": "0.8961",
                  "USD": 2
                },
                {
                  "index": "0.8730",
                  "USD": 2
                },
                {
                  "index": "0.8802",
                  "USD": 2
                },
                {
                  "index": "0.8832",
                  "USD": 2
                },
                {
                  "index": "0.8693",
                  "USD": 2
                },
                {
                  "index": "0.8735",
                  "USD": 2
                },
                {
                  "index": "0.8676",
                  "USD": 2
                },
                {
                  "index": "0.8886",
                  "USD": 2
                },
                {
                  "index": "0.8902",
                  "USD": 2
                },
                {
                  "index": "0.8795",
                  "USD": 2
                },
                {
                  "index": "0.9144",
                  "USD": 2
                },
                {
                  "index": "0.8943",
                  "USD": 2
                },
                {
                  "index": "0.8853",
                  "USD": 2
                },
                {
                  "index": "0.8895",
                  "USD": 2
                },
                {
                  "index": "0.8791",
                  "USD": 2
                },
                {
                  "index": "0.8827",
                  "USD": 2
                },
                {
                  "index": "0.9032",
                  "USD": 2
                },
                {
                  "index": "0.8845",
                  "USD": 2
                },
                {
                  "index": "0.9020",
                  "USD": 2
                },
                {
                  "index": "0.8850",
                  "USD": 2
                },
                {
                  "index": "0.9202",
                  "USD": 2
                },
                {
                  "index": "0.9269",
                  "USD": 2
                },
                {
                  "index": "0.9056",
                  "USD": 2
                },
                {
                  "index": "0.9090",
                  "USD": 2
                },
                {
                  "index": "1.2955",
                  "USD": 2
                },
                {
                  "index": "0.8552",
                  "USD": 2
                },
                {
                  "index": "0.8480",
                  "USD": 2
                },
                {
                  "index": "0.9407",
                  "USD": 2
                },
                {
                  "index": "0.8513",
                  "USD": 2
                },
                {
                  "index": "0.9412",
                  "USD": 2
                },
                {
                  "index": "0.9545",
                  "USD": 2
                },
                {
                  "index": "0.9305",
                  "USD": 2
                },
                {
                  "index": "0.8611",
                  "USD": 2
                },
                {
                  "index": "0.8903",
                  "USD": 2
                },
                {
                  "index": "0.8793",
                  "USD": 2
                },
                {
                  "index": "0.8764",
                  "USD": 2
                },
                {
                  "index": "0.8788",
                  "USD": 2
                },
                {
                  "index": "0.9012",
                  "USD": 2
                },
                {
                  "index": "0.8972",
                  "USD": 2
                },
                {
                  "index": "0.9023",
                  "USD": 2
                },
                {
                  "index": "0.9701",
                  "USD": 2
                },
                {
                  "index": "0.9647",
                  "USD": 2
                },
                {
                  "index": "0.9640",
                  "USD": 2
                },
                {
                  "index": "0.9898",
                  "USD": 2
                },
                {
                  "index": "1.0068",
                  "USD": 2
                },
                {
                  "index": "0.9452",
                  "USD": 2
                },
                {
                  "index": "1.0019",
                  "USD": 2
                },
                {
                  "index": "1.0008",
                  "USD": 2
                },
                {
                  "index": "1.0093",
                  "USD": 2
                },
                {
                  "index": "0.9417",
                  "USD": 2
                },
                {
                  "index": "1.0128",
                  "USD": 2
                },
                {
                  "index": "1.0175",
                  "USD": 2
                },
                {
                  "index": "1.0097",
                  "USD": 2
                },
                {
                  "index": "1.0194",
                  "USD": 2
                },
                {
                  "index": "1.0308",
                  "USD": 2
                },
                {
                  "index": "1.0507",
                  "USD": 2
                },
                {
                  "index": "1.0453",
                  "USD": 2
                },
                {
                  "index": "1.0552",
                  "USD": 2
                },
                {
                  "index": "1.0777",
                  "USD": 2
                },
                {
                  "index": "0.9975",
                  "USD": 2
                },
                {
                  "index": "1.0729",
                  "USD": 2
                },
                {
                  "index": "0.9780",
                  "USD": 2
                },
                {
                  "index": "0.9790",
                  "USD": 2
                },
                {
                  "index": "0.9828",
                  "USD": 2
                },
                {
                  "index": "0.9715",
                  "USD": 2
                },
                {
                  "index": "0.9712",
                  "USD": 2
                },
                {
                  "index": "0.9072",
                  "USD": 2
                },
                {
                  "index": "0.9564",
                  "USD": 2
                },
                {
                  "index": "0.9047",
                  "USD": 2
                },
                {
                  "index": "0.9031",
                  "USD": 2
                },
                {
                  "index": "0.8798",
                  "USD": 2
                },
                {
                  "index": "0.9363",
                  "USD": 2
                },
                {
                  "index": "0.9220",
                  "USD": 2
                },
                {
                  "index": "0.9216",
                  "USD": 2
                },
                {
                  "index": "0.9038",
                  "USD": 2
                },
                {
                  "index": "0.9523",
                  "USD": 2
                },
                {
                  "index": "0.9401",
                  "USD": 2
                },
                {
                  "index": "0.9565",
                  "USD": 2
                },
                {
                  "index": "0.9636",
                  "USD": 2
                },
                {
                  "index": "0.9527",
                  "USD": 2
                },
                {
                  "index": "0.8664",
                  "USD": 2
                },
                {
                  "index": "0.8794",
                  "USD": 2
                },
                {
                  "index": "0.9000",
                  "USD": 2
                },
                {
                  "index": "0.8724",
                  "USD": 2
                },
                {
                  "index": "0.8682",
                  "USD": 2
                },
                {
                  "index": "0.8649",
                  "USD": 2
                },
                {
                  "index": "0.8984",
                  "USD": 2
                },
                {
                  "index": "0.9163",
                  "USD": 2
                },
                {
                  "index": "0.9497",
                  "USD": 2
                },
                {
                  "index": "0.9537",
                  "USD": 2
                },
                {
                  "index": "0.9538",
                  "USD": 2
                },
                {
                  "index": "1.1238",
                  "USD": 2
                },
                {
                  "index": "1.0236",
                  "USD": 2
                },
                {
                  "index": "1.2230",
                  "USD": 2
                },
                {
                  "index": "1.2169",
                  "USD": 2
                },
                {
                  "index": "1.2583",
                  "USD": 2
                },
                {
                  "index": "1.1743",
                  "USD": 2
                },
                {
                  "index": "1.2235",
                  "USD": 2
                },
                {
                  "index": "1.2101",
                  "USD": 2
                },
                {
                  "index": "1.1804",
                  "USD": 2
                },
                {
                  "index": "1.2026",
                  "USD": 2
                },
                {
                  "index": "1.2034",
                  "USD": 2
                },
                {
                  "index": "1.1582",
                  "USD": 2
                },
                {
                  "index": "1.1843",
                  "USD": 2
                },
                {
                  "index": "1.2211",
                  "USD": 2
                },
                {
                  "index": "1.2079",
                  "USD": 2
                },
                {
                  "index": "1.2468",
                  "USD": 2
                },
                {
                  "index": "1.2091",
                  "USD": 2
                },
                {
                  "index": "1.2563",
                  "USD": 2
                },
                {
                  "index": "1.2856",
                  "USD": 2
                },
                {
                  "index": "1.2517",
                  "USD": 2
                },
                {
                  "index": "1.2575",
                  "USD": 2
                },
                {
                  "index": "1.2058",
                  "USD": 2
                },
                {
                  "index": "1.2233",
                  "USD": 2
                },
                {
                  "index": "1.2096",
                  "USD": 2
                },
                {
                  "index": "1.2111",
                  "USD": 2
                },
                {
                  "index": "1.2256",
                  "USD": 2
                },
                {
                  "index": "1.2245",
                  "USD": 2
                },
                {
                  "index": "1.2031",
                  "USD": 2
                },
                {
                  "index": "1.2705",
                  "USD": 2
                },
                {
                  "index": "1.1968",
                  "USD": 2
                },
                {
                  "index": "1.2748",
                  "USD": 2
                },
                {
                  "index": "1.2361",
                  "USD": 2
                },
                {
                  "index": "1.2606",
                  "USD": 2
                },
                {
                  "index": "1.2268",
                  "USD": 2
                },
                {
                  "index": "1.2138",
                  "USD": 2
                },
                {
                  "index": "1.2172",
                  "USD": 2
                },
                {
                  "index": "1.2299",
                  "USD": 2
                },
                {
                  "index": "1.2816",
                  "USD": 2
                },
                {
                  "index": "1.2595",
                  "USD": 2
                },
                {
                  "index": "1.2802",
                  "USD": 2
                },
                {
                  "index": "1.2006",
                  "USD": 2
                },
                {
                  "index": "1.2764",
                  "USD": 2
                },
                {
                  "index": "1.2323",
                  "USD": 2
                },
                {
                  "index": "1.2529",
                  "USD": 2
                },
                {
                  "index": "1.2590",
                  "USD": 2
                },
                {
                  "index": "1.2191",
                  "USD": 2
                },
                {
                  "index": "1.2147",
                  "USD": 2
                },
                {
                  "index": "1.1575",
                  "USD": 2
                },
                {
                  "index": "1.2407",
                  "USD": 2
                },
                {
                  "index": "1.2163",
                  "USD": 2
                },
                {
                  "index": "1.2238",
                  "USD": 2
                },
                {
                  "index": "1.2592",
                  "USD": 2
                },
                {
                  "index": "1.2357",
                  "USD": 2
                },
                {
                  "index": "1.1246",
                  "USD": 2
                },
                {
                  "index": "1.2496",
                  "USD": 2
                },
                {
                  "index": "1.1953",
                  "USD": 2
                },
                {
                  "index": "1.1912",
                  "USD": 2
                },
                {
                  "index": "1.2304",
                  "USD": 2
                },
                {
                  "index": "1.2085",
                  "USD": 2
                },
                {
                  "index": "1.2890",
                  "USD": 2
                },
                {
                  "index": "1.2414",
                  "USD": 2
                },
                {
                  "index": "1.2711",
                  "USD": 2
                },
                {
                  "index": "1.2319",
                  "USD": 2
                },
                {
                  "index": "1.2348",
                  "USD": 2
                },
                {
                  "index": "1.1947",
                  "USD": 2
                },
                {
                  "index": "1.2921",
                  "USD": 2
                },
                {
                  "index": "1.2403",
                  "USD": 2
                },
                {
                  "index": "1.2374",
                  "USD": 2
                },
                {
                  "index": "1.2749",
                  "USD": 2
                },
                {
                  "index": "1.2635",
                  "USD": 2
                },
                {
                  "index": "1.1907",
                  "USD": 2
                },
                {
                  "index": "1.2293",
                  "USD": 2
                },
                {
                  "index": "1.2320",
                  "USD": 2
                },
                {
                  "index": "1.1836",
                  "USD": 2
                },
                {
                  "index": "1.2231",
                  "USD": 2
                },
                {
                  "index": "1.2051",
                  "USD": 2
                },
                {
                  "index": "1.2155",
                  "USD": 2
                },
                {
                  "index": "1.2977",
                  "USD": 2
                },
                {
                  "index": "1.1632",
                  "USD": 2
                },
                {
                  "index": "1.2224",
                  "USD": 2
                },
                {
                  "index": "1.1826",
                  "USD": 2
                },
                {
                  "index": "1.2250",
                  "USD": 2
                },
                {
                  "index": "1.2081",
                  "USD": 2
                },
                {
                  "index": "1.2353",
                  "USD": 2
                },
                {
                  "index": "1.2100",
                  "USD": 2
                },
                {
                  "index": "1.1263",
                  "USD": 2
                },
                {
                  "index": "1.2173",
                  "USD": 2
                },
                {
                  "index": "1.2055",
                  "USD": 2
                },
                {
                  "index": "0.8411",
                  "USD": 1
                },
                {
                  "index": "0.8452",
                  "USD": 1
                },
                {
                  "index": "0.8496",
                  "USD": 1
                },
                {
                  "index": "0.8627",
                  "USD": 1
                },
                {
                  "index": "0.8525",
                  "USD": 1
                },
                {
                  "index": "1.0912",
                  "USD": 1
                },
                {
                  "index": "1.1227",
                  "USD": 1
                },
                {
                  "index": "0.8765",
                  "USD": 1
                },
                {
                  "index": "0.8890",
                  "USD": 1
                },
                {
                  "index": "0.8770",
                  "USD": 1
                },
                {
                  "index": "1.0814",
                  "USD": 1
                },
                {
                  "index": "0.8757",
                  "USD": 1
                },
                {
                  "index": "1.0862",
                  "USD": 1
                },
                {
                  "index": "1.0847",
                  "USD": 1
                },
                {
                  "index": "0.8861",
                  "USD": 1
                },
                {
                  "index": "1.0759",
                  "USD": 1
                },
                {
                  "index": "1.0845",
                  "USD": 1
                },
                {
                  "index": "1.0195",
                  "USD": 1
                },
                {
                  "index": "1.0164",
                  "USD": 1
                },
                {
                  "index": "0.8648",
                  "USD": 1
                },
                {
                  "index": "0.8386",
                  "USD": 1
                },
                {
                  "index": "1.0178",
                  "USD": 1
                },
                {
                  "index": "1.0677",
                  "USD": 1
                },
                {
                  "index": "0.8703",
                  "USD": 1
                },
                {
                  "index": "1.0557",
                  "USD": 1
                },
                {
                  "index": "0.8695",
                  "USD": 1
                },
                {
                  "index": "1.0738",
                  "USD": 1
                },
                {
                  "index": "0.8721",
                  "USD": 1
                },
                {
                  "index": "0.8720",
                  "USD": 1
                },
                {
                  "index": "1.1124",
                  "USD": 1
                },
                {
                  "index": "0.8377",
                  "USD": 1
                },
                {
                  "index": "0.8531",
                  "USD": 1
                },
                {
                  "index": "0.8307",
                  "USD": 1
                },
                {
                  "index": "0.8252",
                  "USD": 1
                },
                {
                  "index": "1.2456",
                  "USD": 1
                },
                {
                  "index": "1.2467",
                  "USD": 1
                },
                {
                  "index": "0.8427",
                  "USD": 1
                },
                {
                  "index": "1.2486",
                  "USD": 1
                },
                {
                  "index": "1.2393",
                  "USD": 1
                },
                {
                  "index": "1.0007",
                  "USD": 1
                },
                {
                  "index": "0.8436",
                  "USD": 1
                },
                {
                  "index": "0.8406",
                  "USD": 1
                },
                {
                  "index": "1.2598",
                  "USD": 1
                },
                {
                  "index": "1.2646",
                  "USD": 1
                },
                {
                  "index": "1.2645",
                  "USD": 1
                },
                {
                  "index": "1.2631",
                  "USD": 1
                },
                {
                  "index": "1.2701",
                  "USD": 1
                },
                {
                  "index": "1.2732",
                  "USD": 1
                },
                {
                  "index": "1.2712",
                  "USD": 1
                },
                {
                  "index": "1.2892",
                  "USD": 1
                },
                {
                  "index": "1.2872",
                  "USD": 1
                },
                {
                  "index": "1.2949",
                  "USD": 1
                },
                {
                  "index": "1.2928",
                  "USD": 1
                },
                {
                  "index": "1.3015",
                  "USD": 1
                },
                {
                  "index": "1.3151",
                  "USD": 1
                },
                {
                  "index": "1.3188",
                  "USD": 1
                },
                {
                  "index": "1.3354",
                  "USD": 1
                },
                {
                  "index": "1.3386",
                  "USD": 1
                },
                {
                  "index": "1.3382",
                  "USD": 1
                },
                {
                  "index": "1.3422",
                  "USD": 1
                },
                {
                  "index": "1.3395",
                  "USD": 1
                },
                {
                  "index": "1.3379",
                  "USD": 1
                },
                {
                  "index": "1.3429",
                  "USD": 1
                },
                {
                  "index": "1.2535",
                  "USD": 1
                },
                {
                  "index": "1.2422",
                  "USD": 1
                },
                {
                  "index": "0.8429",
                  "USD": 1
                },
                {
                  "index": "0.8620",
                  "USD": 1
                },
                {
                  "index": "0.8324",
                  "USD": 1
                },
                {
                  "index": "1.1297",
                  "USD": 1
                },
                {
                  "index": "0.8482",
                  "USD": 1
                },
                {
                  "index": "0.8417",
                  "USD": 1
                },
                {
                  "index": "1.1446",
                  "USD": 1
                },
                {
                  "index": "1.1376",
                  "USD": 1
                },
                {
                  "index": "0.8554",
                  "USD": 1
                },
                {
                  "index": "0.8646",
                  "USD": 1
                },
                {
                  "index": "0.8667",
                  "USD": 1
                },
                {
                  "index": "0.8587",
                  "USD": 1
                },
                {
                  "index": "0.8559",
                  "USD": 1
                },
                {
                  "index": "0.8476",
                  "USD": 1
                },
                {
                  "index": "0.8673",
                  "USD": 1
                },
                {
                  "index": "1.0054",
                  "USD": 1
                },
                {
                  "index": "1.2469",
                  "USD": 1
                },
                {
                  "index": "0.8596",
                  "USD": 1
                },
                {
                  "index": "0.8569",
                  "USD": 1
                },
                {
                  "index": "0.8535",
                  "USD": 1
                },
                {
                  "index": "1.2043",
                  "USD": 1
                },
                {
                  "index": "1.2141",
                  "USD": 1
                },
                {
                  "index": "1.2160",
                  "USD": 1
                },
                {
                  "index": "1.2197",
                  "USD": 1
                },
                {
                  "index": "1.0001",
                  "USD": 1
                },
                {
                  "index": "0.8488",
                  "USD": 1
                },
                {
                  "index": "1.2450",
                  "USD": 1
                },
                {
                  "index": "0.9970",
                  "USD": 1
                },
                {
                  "index": "1.2362",
                  "USD": 1
                },
                {
                  "index": "1.2311",
                  "USD": 1
                },
                {
                  "index": "0.8524",
                  "USD": 1
                },
                {
                  "index": "1.0234",
                  "USD": 1
                },
                {
                  "index": "0.8541",
                  "USD": 1
                },
                {
                  "index": "1.1017",
                  "USD": 1
                },
                {
                  "index": "1.0809",
                  "USD": 1
                },
                {
                  "index": "1.0671",
                  "USD": 1
                },
                {
                  "index": "1.0600",
                  "USD": 1
                },
                {
                  "index": "1.0580",
                  "USD": 1
                },
                {
                  "index": "0.9111",
                  "USD": 1
                },
                {
                  "index": "0.9098",
                  "USD": 1
                },
                {
                  "index": "1.0688",
                  "USD": 1
                },
                {
                  "index": "1.0687",
                  "USD": 1
                },
                {
                  "index": "1.0670",
                  "USD": 1
                },
                {
                  "index": "0.8981",
                  "USD": 1
                },
                {
                  "index": "0.9143",
                  "USD": 1
                },
                {
                  "index": "1.0976",
                  "USD": 1
                },
                {
                  "index": "1.1032",
                  "USD": 1
                },
                {
                  "index": "0.9262",
                  "USD": 1
                },
                {
                  "index": "1.0943",
                  "USD": 1
                },
                {
                  "index": "0.9359",
                  "USD": 1
                },
                {
                  "index": "0.9303",
                  "USD": 1
                },
                {
                  "index": "1.1520",
                  "USD": 1
                },
                {
                  "index": "1.1011",
                  "USD": 1
                },
                {
                  "index": "0.9330",
                  "USD": 1
                },
                {
                  "index": "0.9355",
                  "USD": 1
                },
                {
                  "index": "0.9433",
                  "USD": 1
                },
                {
                  "index": "0.9485",
                  "USD": 1
                },
                {
                  "index": "1.1374",
                  "USD": 1
                },
                {
                  "index": "0.9554",
                  "USD": 1
                },
                {
                  "index": "0.9668",
                  "USD": 1
                },
                {
                  "index": "0.9490",
                  "USD": 1
                },
                {
                  "index": "1.0190",
                  "USD": 1
                },
                {
                  "index": "1.0245",
                  "USD": 1
                },
                {
                  "index": "1.1653",
                  "USD": 1
                },
                {
                  "index": "0.9524",
                  "USD": 1
                },
                {
                  "index": "0.8913",
                  "USD": 1
                },
                {
                  "index": "0.9576",
                  "USD": 1
                },
                {
                  "index": "1.0857",
                  "USD": 1
                },
                {
                  "index": "1.0163",
                  "USD": 1
                },
                {
                  "index": "0.9540",
                  "USD": 1
                },
                {
                  "index": "0.9573",
                  "USD": 1
                },
                {
                  "index": "1.0098",
                  "USD": 1
                },
                {
                  "index": "0.9461",
                  "USD": 1
                },
                {
                  "index": "0.9376",
                  "USD": 1
                },
                {
                  "index": "0.9302",
                  "USD": 1
                },
                {
                  "index": "1.1347",
                  "USD": 1
                },
                {
                  "index": "0.9085",
                  "USD": 1
                },
                {
                  "index": "1.0884",
                  "USD": 1
                },
                {
                  "index": "0.9116",
                  "USD": 1
                },
                {
                  "index": "1.0042",
                  "USD": 1
                },
                {
                  "index": "1.0059",
                  "USD": 1
                },
                {
                  "index": "0.8978",
                  "USD": 1
                },
                {
                  "index": "0.9107",
                  "USD": 1
                },
                {
                  "index": "0.9079",
                  "USD": 1
                },
                {
                  "index": "0.9029",
                  "USD": 1
                },
                {
                  "index": "1.0962",
                  "USD": 1
                },
                {
                  "index": "1.0947",
                  "USD": 1
                },
                {
                  "index": "0.9147",
                  "USD": 1
                },
                {
                  "index": "0.9065",
                  "USD": 1
                },
                {
                  "index": "1.0841",
                  "USD": 1
                },
                {
                  "index": "0.8942",
                  "USD": 1
                },
                {
                  "index": "0.8875",
                  "USD": 1
                },
                {
                  "index": "1.0983",
                  "USD": 1
                },
                {
                  "index": "1.0005",
                  "USD": 1
                },
                {
                  "index": "0.9583",
                  "USD": 1
                },
                {
                  "index": "1.0152",
                  "USD": 1
                },
                {
                  "index": "1.1152",
                  "USD": 1
                },
                {
                  "index": "1.1404",
                  "USD": 1
                },
                {
                  "index": "0.9243",
                  "USD": 1
                },
                {
                  "index": "0.9264",
                  "USD": 1
                },
                {
                  "index": "1.1054",
                  "USD": 1
                },
                {
                  "index": "0.9142",
                  "USD": 1
                },
                {
                  "index": "1.0931",
                  "USD": 1
                },
                {
                  "index": "0.9028",
                  "USD": 1
                },
                {
                  "index": "1.0224",
                  "USD": 1
                },
                {
                  "index": "0.9084",
                  "USD": 1
                },
                {
                  "index": "1.0181",
                  "USD": 1
                },
                {
                  "index": "0.9132",
                  "USD": 1
                },
                {
                  "index": "0.9011",
                  "USD": 1
                },
                {
                  "index": "0.9140",
                  "USD": 1
                },
                {
                  "index": "0.9127",
                  "USD": 1
                },
                {
                  "index": "1.0252",
                  "USD": 1
                },
                {
                  "index": "0.9389",
                  "USD": 1
                },
                {
                  "index": "0.8918",
                  "USD": 1
                },
                {
                  "index": "0.9021",
                  "USD": 1
                },
                {
                  "index": "1.0338",
                  "USD": 1
                },
                {
                  "index": "0.9007",
                  "USD": 1
                },
                {
                  "index": "0.8965",
                  "USD": 1
                },
                {
                  "index": "0.8906",
                  "USD": 1
                },
                {
                  "index": "1.1118",
                  "USD": 1
                },
                {
                  "index": "0.8609",
                  "USD": 1
                },
                {
                  "index": "0.8614",
                  "USD": 1
                },
                {
                  "index": "0.8654",
                  "USD": 1
                },
                {
                  "index": "1.0285",
                  "USD": 1
                },
                {
                  "index": "0.8615",
                  "USD": 1
                },
                {
                  "index": "0.8526",
                  "USD": 1
                },
                {
                  "index": "0.9276",
                  "USD": 1
                },
                {
                  "index": "0.9390",
                  "USD": 1
                },
                {
                  "index": "0.9470",
                  "USD": 1
                },
                {
                  "index": "0.9483",
                  "USD": 1
                },
                {
                  "index": "0.9405",
                  "USD": 1
                },
                {
                  "index": "1.1241",
                  "USD": 1
                },
                {
                  "index": "0.9413",
                  "USD": 1
                },
                {
                  "index": "0.9327",
                  "USD": 1
                },
                {
                  "index": "1.1228",
                  "USD": 1
                },
                {
                  "index": "1.0122",
                  "USD": 1
                },
                {
                  "index": "0.9415",
                  "USD": 1
                },
                {
                  "index": "0.9504",
                  "USD": 1
                },
                {
                  "index": "0.9556",
                  "USD": 1
                },
                {
                  "index": "1.1255",
                  "USD": 1
                },
                {
                  "index": "0.9493",
                  "USD": 1
                },
                {
                  "index": "0.9487",
                  "USD": 1
                },
                {
                  "index": "0.9542",
                  "USD": 1
                },
                {
                  "index": "1.0198",
                  "USD": 1
                },
                {
                  "index": "1.0999",
                  "USD": 1
                },
                {
                  "index": "0.9499",
                  "USD": 1
                },
                {
                  "index": "1.1060",
                  "USD": 1
                },
                {
                  "index": "0.9349",
                  "USD": 1
                },
                {
                  "index": "0.9344",
                  "USD": 1
                },
                {
                  "index": "1.1055",
                  "USD": 1
                },
                {
                  "index": "0.9352",
                  "USD": 1
                },
                {
                  "index": "0.9353",
                  "USD": 1
                },
                {
                  "index": "1.1659",
                  "USD": 1
                },
                {
                  "index": "1.0967",
                  "USD": 1
                },
                {
                  "index": "1.0955",
                  "USD": 1
                },
                {
                  "index": "0.9332",
                  "USD": 1
                },
                {
                  "index": "0.9410",
                  "USD": 1
                },
                {
                  "index": "1.0939",
                  "USD": 1
                },
                {
                  "index": "1.3465",
                  "USD": 1
                },
                {
                  "index": "1.3790",
                  "USD": 1
                },
                {
                  "index": "1.3603",
                  "USD": 1
                },
                {
                  "index": "0.9425",
                  "USD": 1
                },
                {
                  "index": "1.2970",
                  "USD": 1
                },
                {
                  "index": "1.2918",
                  "USD": 1
                },
                {
                  "index": "1.2951",
                  "USD": 1
                },
                {
                  "index": "1.2904",
                  "USD": 1
                },
                {
                  "index": "1.2877",
                  "USD": 1
                },
                {
                  "index": "0.9322",
                  "USD": 1
                },
                {
                  "index": "1.2916",
                  "USD": 1
                },
                {
                  "index": "0.9325",
                  "USD": 1
                },
                {
                  "index": "1.2896",
                  "USD": 1
                },
                {
                  "index": "1.2787",
                  "USD": 1
                },
                {
                  "index": "1.2706",
                  "USD": 1
                },
                {
                  "index": "0.9227",
                  "USD": 1
                },
                {
                  "index": "1.2578",
                  "USD": 1
                },
                {
                  "index": "1.2568",
                  "USD": 1
                },
                {
                  "index": "1.2545",
                  "USD": 1
                },
                {
                  "index": "1.2507",
                  "USD": 1
                },
                {
                  "index": "1.2552",
                  "USD": 1
                },
                {
                  "index": "0.9288",
                  "USD": 1
                },
                {
                  "index": "1.2300",
                  "USD": 1
                },
                {
                  "index": "0.9275",
                  "USD": 1
                },
                {
                  "index": "1.2336",
                  "USD": 1
                },
                {
                  "index": "0.9178",
                  "USD": 1
                },
                {
                  "index": "1.2298",
                  "USD": 1
                },
                {
                  "index": "1.2284",
                  "USD": 1
                },
                {
                  "index": "0.9113",
                  "USD": 1
                },
                {
                  "index": "1.2134",
                  "USD": 1
                },
                {
                  "index": "1.2089",
                  "USD": 1
                },
                {
                  "index": "1.2200",
                  "USD": 1
                },
                {
                  "index": "1.2287",
                  "USD": 1
                },
                {
                  "index": "1.3046",
                  "USD": 1
                },
                {
                  "index": "1.3063",
                  "USD": 1
                },
                {
                  "index": "0.9906",
                  "USD": 1
                },
                {
                  "index": "1.2908",
                  "USD": 1
                },
                {
                  "index": "1.3552",
                  "USD": 1
                },
                {
                  "index": "1.3644",
                  "USD": 1
                },
                {
                  "index": "1.3541",
                  "USD": 1
                },
                {
                  "index": "0.9396",
                  "USD": 1
                },
                {
                  "index": "1.3469",
                  "USD": 1
                },
                {
                  "index": "1.3330",
                  "USD": 1
                },
                {
                  "index": "1.3324",
                  "USD": 1
                },
                {
                  "index": "0.9404",
                  "USD": 1
                },
                {
                  "index": "0.9400",
                  "USD": 1
                },
                {
                  "index": "0.9884",
                  "USD": 1
                },
                {
                  "index": "1.3341",
                  "USD": 1
                },
                {
                  "index": "1.3056",
                  "USD": 1
                },
                {
                  "index": "0.9290",
                  "USD": 1
                },
                {
                  "index": "1.3102",
                  "USD": 1
                },
                {
                  "index": "0.9294",
                  "USD": 1
                },
                {
                  "index": "1.3302",
                  "USD": 1
                },
                {
                  "index": "0.9228",
                  "USD": 1
                },
                {
                  "index": "0.9197",
                  "USD": 1
                },
                {
                  "index": "1.2986",
                  "USD": 1
                },
                {
                  "index": "0.9293",
                  "USD": 1
                },
                {
                  "index": "0.9406",
                  "USD": 1
                },
                {
                  "index": "1.2809",
                  "USD": 1
                },
                {
                  "index": "1.2745",
                  "USD": 1
                },
                {
                  "index": "1.2726",
                  "USD": 1
                },
                {
                  "index": "0.9754",
                  "USD": 1
                },
                {
                  "index": "1.2694",
                  "USD": 1
                },
                {
                  "index": "1.2975",
                  "USD": 1
                },
                {
                  "index": "1.2962",
                  "USD": 1
                },
                {
                  "index": "1.2898",
                  "USD": 1
                },
                {
                  "index": "0.9070",
                  "USD": 1
                },
                {
                  "index": "1.2178",
                  "USD": 1
                },
                {
                  "index": "0.9105",
                  "USD": 1
                },
                {
                  "index": "0.9248",
                  "USD": 1
                },
                {
                  "index": "1.3167",
                  "USD": 1
                },
                {
                  "index": "1.3198",
                  "USD": 1
                },
                {
                  "index": "1.3150",
                  "USD": 1
                },
                {
                  "index": "1.3116",
                  "USD": 1
                },
                {
                  "index": "0.9644",
                  "USD": 1
                },
                {
                  "index": "1.3062",
                  "USD": 1
                },
                {
                  "index": "0.8990",
                  "USD": 1
                },
                {
                  "index": "1.3220",
                  "USD": 1
                },
                {
                  "index": "1.3217",
                  "USD": 1
                },
                {
                  "index": "1.3312",
                  "USD": 1
                },
                {
                  "index": "1.3443",
                  "USD": 1
                },
                {
                  "index": "0.8935",
                  "USD": 1
                },
                {
                  "index": "1.3222",
                  "USD": 1
                },
                {
                  "index": "0.8860",
                  "USD": 1
                },
                {
                  "index": "1.3169",
                  "USD": 1
                },
                {
                  "index": "1.3254",
                  "USD": 1
                },
                {
                  "index": "1.3189",
                  "USD": 1
                },
                {
                  "index": "1.3288",
                  "USD": 1
                },
                {
                  "index": "0.8772",
                  "USD": 1
                },
                {
                  "index": "1.3094",
                  "USD": 1
                },
                {
                  "index": "1.3110",
                  "USD": 1
                },
                {
                  "index": "1.3003",
                  "USD": 1
                },
                {
                  "index": "0.9706",
                  "USD": 1
                },
                {
                  "index": "0.8940",
                  "USD": 1
                },
                {
                  "index": "1.2728",
                  "USD": 1
                },
                {
                  "index": "1.2832",
                  "USD": 1
                },
                {
                  "index": "1.3014",
                  "USD": 1
                },
                {
                  "index": "0.9764",
                  "USD": 1
                },
                {
                  "index": "0.9018",
                  "USD": 1
                },
                {
                  "index": "1.3333",
                  "USD": 1
                },
                {
                  "index": "1.3272",
                  "USD": 1
                },
                {
                  "index": "1.3319",
                  "USD": 1
                },
                {
                  "index": "1.2322",
                  "USD": 1
                },
                {
                  "index": "1.2560",
                  "USD": 1
                },
                {
                  "index": "1.2593",
                  "USD": 1
                },
                {
                  "index": "1.2478",
                  "USD": 1
                },
                {
                  "index": "0.9646",
                  "USD": 1
                },
                {
                  "index": "1.2488",
                  "USD": 1
                },
                {
                  "index": "0.9279",
                  "USD": 1
                },
                {
                  "index": "1.2670",
                  "USD": 1
                },
                {
                  "index": "1.2619",
                  "USD": 1
                },
                {
                  "index": "1.2534",
                  "USD": 1
                },
                {
                  "index": "0.9307",
                  "USD": 1
                },
                {
                  "index": "1.2485",
                  "USD": 1
                },
                {
                  "index": "1.2429",
                  "USD": 1
                },
                {
                  "index": "1.2437",
                  "USD": 1
                },
                {
                  "index": "1.2438",
                  "USD": 1
                },
                {
                  "index": "0.8996",
                  "USD": 1
                },
                {
                  "index": "1.2566",
                  "USD": 1
                },
                {
                  "index": "1.2557",
                  "USD": 1
                },
                {
                  "index": "1.2750",
                  "USD": 1
                },
                {
                  "index": "1.2682",
                  "USD": 1
                },
                {
                  "index": "1.2738",
                  "USD": 1
                },
                {
                  "index": "0.9312",
                  "USD": 1
                },
                {
                  "index": "1.2950",
                  "USD": 1
                },
                {
                  "index": "0.9357",
                  "USD": 1
                },
                {
                  "index": "1.3161",
                  "USD": 1
                },
                {
                  "index": "0.9272",
                  "USD": 1
                },
                {
                  "index": "1.3148",
                  "USD": 1
                },
                {
                  "index": "0.9182",
                  "USD": 1
                },
                {
                  "index": "1.3068",
                  "USD": 1
                },
                {
                  "index": "0.9428",
                  "USD": 1
                },
                {
                  "index": "1.3546",
                  "USD": 1
                },
                {
                  "index": "1.3589",
                  "USD": 1
                },
                {
                  "index": "1.3732",
                  "USD": 1
                },
                {
                  "index": "1.3754",
                  "USD": 1
                },
                {
                  "index": "1.3735",
                  "USD": 1
                },
                {
                  "index": "1.3706",
                  "USD": 1
                },
                {
                  "index": "1.3699",
                  "USD": 1
                },
                {
                  "index": "1.3573",
                  "USD": 1
                },
                {
                  "index": "0.8684",
                  "USD": 1
                },
                {
                  "index": "1.3495",
                  "USD": 1
                },
                {
                  "index": "0.9993",
                  "USD": 1
                },
                {
                  "index": "1.3543",
                  "USD": 1
                },
                {
                  "index": "1.3498",
                  "USD": 1
                },
                {
                  "index": "1.3687",
                  "USD": 1
                },
                {
                  "index": "1.3526",
                  "USD": 1
                },
                {
                  "index": "1.3584",
                  "USD": 1
                },
                {
                  "index": "1.3597",
                  "USD": 1
                },
                {
                  "index": "1.3654",
                  "USD": 1
                },
                {
                  "index": "1.3587",
                  "USD": 1
                },
                {
                  "index": "1.3602",
                  "USD": 1
                },
                {
                  "index": "1.3783",
                  "USD": 1
                },
                {
                  "index": "1.3814",
                  "USD": 1
                },
                {
                  "index": "0.9920",
                  "USD": 1
                },
                {
                  "index": "1.3655",
                  "USD": 1
                },
                {
                  "index": "0.8828",
                  "USD": 1
                },
                {
                  "index": "0.9928",
                  "USD": 1
                },
                {
                  "index": "1.3775",
                  "USD": 1
                },
                {
                  "index": "1.3767",
                  "USD": 1
                },
                {
                  "index": "1.3750",
                  "USD": 1
                },
                {
                  "index": "1.3661",
                  "USD": 1
                },
                {
                  "index": "1.3578",
                  "USD": 1
                },
                {
                  "index": "1.3536",
                  "USD": 1
                },
                {
                  "index": "1.3813",
                  "USD": 1
                },
                {
                  "index": "1.3894",
                  "USD": 1
                },
                {
                  "index": "0.9954",
                  "USD": 1
                },
                {
                  "index": "1.3881",
                  "USD": 1
                },
                {
                  "index": "1.3646",
                  "USD": 1
                },
                {
                  "index": "1.3688",
                  "USD": 1
                },
                {
                  "index": "0.8561",
                  "USD": 1
                },
                {
                  "index": "1.3568",
                  "USD": 1
                },
                {
                  "index": "1.3534",
                  "USD": 1
                },
                {
                  "index": "1.3528",
                  "USD": 1
                },
                {
                  "index": "1.3642",
                  "USD": 1
                },
                {
                  "index": "1.3630",
                  "USD": 1
                },
                {
                  "index": "1.3715",
                  "USD": 1
                },
                {
                  "index": "1.3719",
                  "USD": 1
                },
                {
                  "index": "1.3703",
                  "USD": 1
                },
                {
                  "index": "1.3953",
                  "USD": 1
                },
                {
                  "index": "1.3862",
                  "USD": 1
                },
                {
                  "index": "1.3826",
                  "USD": 1
                },
                {
                  "index": "1.3831",
                  "USD": 1
                },
                {
                  "index": "1.3855",
                  "USD": 1
                },
                {
                  "index": "1.0000",
                  "USD": 1
                },
                {
                  "index": "1.3827",
                  "USD": 1
                },
                {
                  "index": "1.0004",
                  "USD": 1
                },
                {
                  "index": "1.3872",
                  "USD": 1
                },
                {
                  "index": "0.9590",
                  "USD": 1
                },
                {
                  "index": "1.3759",
                  "USD": 1
                },
                {
                  "index": "1.3758",
                  "USD": 1
                },
                {
                  "index": "1.3789",
                  "USD": 1
                },
                {
                  "index": "0.8650",
                  "USD": 1
                },
                {
                  "index": "1.3902",
                  "USD": 1
                },
                {
                  "index": "1.3906",
                  "USD": 1
                },
                {
                  "index": "1.3942",
                  "USD": 1
                },
                {
                  "index": "1.3887",
                  "USD": 1
                },
                {
                  "index": "1.3502",
                  "USD": 1
                },
                {
                  "index": "1.3415",
                  "USD": 1
                },
                {
                  "index": "0.9885",
                  "USD": 1
                },
                {
                  "index": "1.3431",
                  "USD": 1
                },
                {
                  "index": "0.9059",
                  "USD": 1
                },
                {
                  "index": "1.3406",
                  "USD": 1
                },
                {
                  "index": "1.3067",
                  "USD": 1
                },
                {
                  "index": "1.2952",
                  "USD": 1
                },
                {
                  "index": "1.2888",
                  "USD": 1
                },
                {
                  "index": "1.2866",
                  "USD": 1
                },
                {
                  "index": "1.2853",
                  "USD": 1
                },
                {
                  "index": "1.2869",
                  "USD": 1
                },
                {
                  "index": "0.9240",
                  "USD": 1
                },
                {
                  "index": "1.2999",
                  "USD": 1
                },
                {
                  "index": "0.9310",
                  "USD": 1
                },
                {
                  "index": "0.9285",
                  "USD": 1
                },
                {
                  "index": "1.3045",
                  "USD": 1
                },
                {
                  "index": "1.3052",
                  "USD": 1
                },
                {
                  "index": "1.3023",
                  "USD": 1
                },
                {
                  "index": "1.2840",
                  "USD": 1
                },
                {
                  "index": "0.9992",
                  "USD": 1
                },
                {
                  "index": "1.2861",
                  "USD": 1
                },
                {
                  "index": "1.2945",
                  "USD": 1
                },
                {
                  "index": "1.2937",
                  "USD": 1
                },
                {
                  "index": "1.3053",
                  "USD": 1
                },
                {
                  "index": "1.3090",
                  "USD": 1
                },
                {
                  "index": "1.3010",
                  "USD": 1
                },
                {
                  "index": "0.9423",
                  "USD": 1
                },
                {
                  "index": "0.9530",
                  "USD": 1
                },
                {
                  "index": "1.3097",
                  "USD": 1
                },
                {
                  "index": "0.9458",
                  "USD": 1
                },
                {
                  "index": "1.3370",
                  "USD": 1
                },
                {
                  "index": "1.3391",
                  "USD": 1
                },
                {
                  "index": "1.3032",
                  "USD": 1
                },
                {
                  "index": "1.2813",
                  "USD": 1
                },
                {
                  "index": "1.3044",
                  "USD": 1
                },
                {
                  "index": "1.3473",
                  "USD": 1
                },
                {
                  "index": "1.0009",
                  "USD": 1
                },
                {
                  "index": "1.3784",
                  "USD": 1
                },
                {
                  "index": "1.3777",
                  "USD": 1
                },
                {
                  "index": "1.3805",
                  "USD": 1
                },
                {
                  "index": "1.3564",
                  "USD": 1
                },
                {
                  "index": "0.8804",
                  "USD": 1
                },
                {
                  "index": "0.8782",
                  "USD": 1
                },
                {
                  "index": "0.8748",
                  "USD": 1
                },
                {
                  "index": "1.0049",
                  "USD": 1
                },
                {
                  "index": "1.3554",
                  "USD": 1
                },
                {
                  "index": "1.3499",
                  "USD": 1
                },
                {
                  "index": "1.3504",
                  "USD": 1
                },
                {
                  "index": "1.0155",
                  "USD": 1
                },
                {
                  "index": "0.8839",
                  "USD": 1
                },
                {
                  "index": "1.3166",
                  "USD": 1
                },
                {
                  "index": "1.3545",
                  "USD": 1
                },
                {
                  "index": "1.3357",
                  "USD": 1
                },
                {
                  "index": "1.3240",
                  "USD": 1
                },
                {
                  "index": "1.3117",
                  "USD": 1
                },
                {
                  "index": "1.3171",
                  "USD": 1
                },
                {
                  "index": "1.3172",
                  "USD": 1
                },
                {
                  "index": "1.3207",
                  "USD": 1
                },
                {
                  "index": "1.3235",
                  "USD": 1
                },
                {
                  "index": "1.3361",
                  "USD": 1
                },
                {
                  "index": "1.3344",
                  "USD": 1
                },
                {
                  "index": "1.3243",
                  "USD": 1
                },
                {
                  "index": "1.3236",
                  "USD": 1
                },
                {
                  "index": "0.8966",
                  "USD": 1
                },
                {
                  "index": "0.9594",
                  "USD": 1
                },
                {
                  "index": "1.1197",
                  "USD": 1
                },
                {
                  "index": "0.9625",
                  "USD": 1
                },
                {
                  "index": "1.1425",
                  "USD": 1
                },
                {
                  "index": "1.1256",
                  "USD": 1
                },
                {
                  "index": "1.1302",
                  "USD": 1
                },
                {
                  "index": "1.1383",
                  "USD": 1
                },
                {
                  "index": "1.1386",
                  "USD": 1
                },
                {
                  "index": "1.1361",
                  "USD": 1
                },
                {
                  "index": "1.0316",
                  "USD": 1
                },
                {
                  "index": "1.1331",
                  "USD": 1
                },
                {
                  "index": "1.0466",
                  "USD": 1
                },
                {
                  "index": "1.1334",
                  "USD": 1
                },
                {
                  "index": "1.1463",
                  "USD": 1
                },
                {
                  "index": "1.0929",
                  "USD": 1
                },
                {
                  "index": "1.1423",
                  "USD": 1
                },
                {
                  "index": "1.1471",
                  "USD": 1
                },
                {
                  "index": "1.1488",
                  "USD": 1
                },
                {
                  "index": "1.1429",
                  "USD": 1
                },
                {
                  "index": "1.1422",
                  "USD": 1
                },
                {
                  "index": "1.1418",
                  "USD": 1
                },
                {
                  "index": "1.1455",
                  "USD": 1
                },
                {
                  "index": "1.1051",
                  "USD": 1
                },
                {
                  "index": "1.1440",
                  "USD": 1
                },
                {
                  "index": "1.0345",
                  "USD": 1
                },
                {
                  "index": "1.1397",
                  "USD": 1
                },
                {
                  "index": "1.1450",
                  "USD": 1
                },
                {
                  "index": "1.1454",
                  "USD": 1
                },
                {
                  "index": "1.0340",
                  "USD": 1
                },
                {
                  "index": "1.1451",
                  "USD": 1
                },
                {
                  "index": "1.0339",
                  "USD": 1
                },
                {
                  "index": "1.0313",
                  "USD": 1
                },
                {
                  "index": "1.0280",
                  "USD": 1
                },
                {
                  "index": "1.1259",
                  "USD": 1
                },
                {
                  "index": "1.1368",
                  "USD": 1
                },
                {
                  "index": "1.0434",
                  "USD": 1
                },
                {
                  "index": "1.1288",
                  "USD": 1
                },
                {
                  "index": "1.1542",
                  "USD": 1
                },
                {
                  "index": "1.1604",
                  "USD": 1
                },
                {
                  "index": "1.0799",
                  "USD": 1
                },
                {
                  "index": "1.1637",
                  "USD": 1
                },
                {
                  "index": "1.1103",
                  "USD": 1
                },
                {
                  "index": "1.0732",
                  "USD": 1
                },
                {
                  "index": "1.1182",
                  "USD": 1
                },
                {
                  "index": "1.1572",
                  "USD": 1
                },
                {
                  "index": "1.1519",
                  "USD": 1
                },
                {
                  "index": "1.1577",
                  "USD": 1
                },
                {
                  "index": "1.0676",
                  "USD": 1
                },
                {
                  "index": "1.0685",
                  "USD": 1
                },
                {
                  "index": "1.1269",
                  "USD": 1
                },
                {
                  "index": "1.1293",
                  "USD": 1
                },
                {
                  "index": "1.1233",
                  "USD": 1
                },
                {
                  "index": "1.1388",
                  "USD": 1
                },
                {
                  "index": "1.0690",
                  "USD": 1
                },
                {
                  "index": "1.1207",
                  "USD": 1
                },
                {
                  "index": "1.0639",
                  "USD": 1
                },
                {
                  "index": "1.1460",
                  "USD": 1
                },
                {
                  "index": "1.1289",
                  "USD": 1
                },
                {
                  "index": "1.0585",
                  "USD": 1
                },
                {
                  "index": "1.0535",
                  "USD": 1
                },
                {
                  "index": "1.1192",
                  "USD": 1
                },
                {
                  "index": "1.0473",
                  "USD": 1
                },
                {
                  "index": "1.1209",
                  "USD": 1
                },
                {
                  "index": "1.0479",
                  "USD": 1
                },
                {
                  "index": "1.0456",
                  "USD": 1
                },
                {
                  "index": "1.0900",
                  "USD": 1
                },
                {
                  "index": "1.0321",
                  "USD": 1
                },
                {
                  "index": "1.1678",
                  "USD": 1
                },
                {
                  "index": "1.1351",
                  "USD": 1
                },
                {
                  "index": "1.0803",
                  "USD": 1
                },
                {
                  "index": "1.0817",
                  "USD": 1
                },
                {
                  "index": "1.0183",
                  "USD": 1
                },
                {
                  "index": "1.0168",
                  "USD": 1
                },
                {
                  "index": "1.1625",
                  "USD": 1
                },
                {
                  "index": "1.1690",
                  "USD": 1
                },
                {
                  "index": "1.1706",
                  "USD": 1
                },
                {
                  "index": "1.0201",
                  "USD": 1
                },
                {
                  "index": "1.0202",
                  "USD": 1
                },
                {
                  "index": "1.1611",
                  "USD": 1
                },
                {
                  "index": "1.1643",
                  "USD": 1
                },
                {
                  "index": "1.1735",
                  "USD": 1
                },
                {
                  "index": "1.1724",
                  "USD": 1
                },
                {
                  "index": "1.1709",
                  "USD": 1
                },
                {
                  "index": "1.1665",
                  "USD": 1
                },
                {
                  "index": "1.1639",
                  "USD": 1
                },
                {
                  "index": "1.0410",
                  "USD": 1
                },
                {
                  "index": "1.1583",
                  "USD": 1
                },
                {
                  "index": "1.1700",
                  "USD": 1
                },
                {
                  "index": "1.1538",
                  "USD": 1
                },
                {
                  "index": "1.0462",
                  "USD": 1
                },
                {
                  "index": "1.1534",
                  "USD": 1
                },
                {
                  "index": "1.1613",
                  "USD": 1
                },
                {
                  "index": "1.1596",
                  "USD": 1
                },
                {
                  "index": "1.0674",
                  "USD": 1
                },
                {
                  "index": "1.0499",
                  "USD": 1
                },
                {
                  "index": "1.1754",
                  "USD": 1
                },
                {
                  "index": "1.0496",
                  "USD": 1
                },
                {
                  "index": "1.0603",
                  "USD": 1
                },
                {
                  "index": "1.0204",
                  "USD": 1
                },
                {
                  "index": "1.1406",
                  "USD": 1
                },
                {
                  "index": "1.0878",
                  "USD": 1
                },
                {
                  "index": "1.0241",
                  "USD": 1
                },
                {
                  "index": "1.1359",
                  "USD": 1
                },
                {
                  "index": "1.1352",
                  "USD": 1
                },
                {
                  "index": "1.1421",
                  "USD": 1
                },
                {
                  "index": "1.0443",
                  "USD": 1
                },
                {
                  "index": "1.0328",
                  "USD": 1
                },
                {
                  "index": "1.1393",
                  "USD": 1
                },
                {
                  "index": "1.0264",
                  "USD": 1
                },
                {
                  "index": "1.1494",
                  "USD": 1
                },
                {
                  "index": "1.1470",
                  "USD": 1
                },
                {
                  "index": "1.1530",
                  "USD": 1
                },
                {
                  "index": "1.1587",
                  "USD": 1
                },
                {
                  "index": "1.1581",
                  "USD": 1
                },
                {
                  "index": "1.1500",
                  "USD": 1
                },
                {
                  "index": "1.1548",
                  "USD": 1
                },
                {
                  "index": "1.1391",
                  "USD": 1
                },
                {
                  "index": "1.1606",
                  "USD": 1
                },
                {
                  "index": "1.1576",
                  "USD": 1
                },
                {
                  "index": "1.1777",
                  "USD": 1
                },
                {
                  "index": "1.0232",
                  "USD": 1
                },
                {
                  "index": "1.1620",
                  "USD": 1
                },
                {
                  "index": "1.1585",
                  "USD": 1
                },
                {
                  "index": "1.0826",
                  "USD": 1
                },
                {
                  "index": "1.1571",
                  "USD": 1
                },
                {
                  "index": "1.1609",
                  "USD": 1
                },
                {
                  "index": "1.1651",
                  "USD": 1
                },
                {
                  "index": "1.1660",
                  "USD": 1
                },
                {
                  "index": "1.1633",
                  "USD": 1
                },
                {
                  "index": "1.0222",
                  "USD": 1
                },
                {
                  "index": "1.1636",
                  "USD": 1
                },
                {
                  "index": "1.1036",
                  "USD": 1
                },
                {
                  "index": "1.1794",
                  "USD": 1
                },
                {
                  "index": "1.1000",
                  "USD": 1
                },
                {
                  "index": "1.2222",
                  "USD": 1
                },
                {
                  "index": "1.0899",
                  "USD": 1
                },
                {
                  "index": "1.1750",
                  "USD": 1
                },
                {
                  "index": "1.1384",
                  "USD": 1
                },
                {
                  "index": "1.1770",
                  "USD": 1
                },
                {
                  "index": "1.1752",
                  "USD": 1
                },
                {
                  "index": "1.0866",
                  "USD": 1
                },
                {
                  "index": "1.2188",
                  "USD": 1
                },
                {
                  "index": "1.1869",
                  "USD": 1
                },
                {
                  "index": "1.2264",
                  "USD": 1
                },
                {
                  "index": "1.2142",
                  "USD": 1
                },
                {
                  "index": "1.0834",
                  "USD": 1
                },
                {
                  "index": "1.1876",
                  "USD": 1
                },
                {
                  "index": "1.1842",
                  "USD": 1
                },
                {
                  "index": "1.0908",
                  "USD": 1
                },
                {
                  "index": "1.1940",
                  "USD": 1
                },
                {
                  "index": "1.2201",
                  "USD": 1
                },
                {
                  "index": "1.2186",
                  "USD": 1
                },
                {
                  "index": "1.0932",
                  "USD": 1
                },
                {
                  "index": "1.1717",
                  "USD": 1
                },
                {
                  "index": "1.1760",
                  "USD": 1
                },
                {
                  "index": "1.1608",
                  "USD": 1
                },
                {
                  "index": "1.1443",
                  "USD": 1
                },
                {
                  "index": "1.2117",
                  "USD": 1
                },
                {
                  "index": "1.0949",
                  "USD": 1
                },
                {
                  "index": "1.1012",
                  "USD": 1
                },
                {
                  "index": "1.1280",
                  "USD": 1
                },
                {
                  "index": "1.1210",
                  "USD": 1
                },
                {
                  "index": "1.1016",
                  "USD": 1
                },
                {
                  "index": "1.1821",
                  "USD": 1
                },
                {
                  "index": "1.1819",
                  "USD": 1
                },
                {
                  "index": "1.2170",
                  "USD": 1
                },
                {
                  "index": "1.1292",
                  "USD": 1
                },
                {
                  "index": "1.2146",
                  "USD": 1
                },
                {
                  "index": "1.1996",
                  "USD": 1
                },
                {
                  "index": "1.2136",
                  "USD": 1
                },
                {
                  "index": "1.2152",
                  "USD": 1
                },
                {
                  "index": "1.2121",
                  "USD": 1
                },
                {
                  "index": "1.2053",
                  "USD": 1
                },
                {
                  "index": "1.0992",
                  "USD": 1
                },
                {
                  "index": "1.2161",
                  "USD": 1
                },
                {
                  "index": "1.2193",
                  "USD": 1
                },
                {
                  "index": "1.2189",
                  "USD": 1
                },
                {
                  "index": "1.2140",
                  "USD": 1
                },
                {
                  "index": "1.2028",
                  "USD": 1
                },
                {
                  "index": "1.2109",
                  "USD": 1
                },
                {
                  "index": "1.2128",
                  "USD": 1
                },
                {
                  "index": "1.2021",
                  "USD": 1
                },
                {
                  "index": "1.2159",
                  "USD": 1
                },
                {
                  "index": "1.2151",
                  "USD": 1
                },
                {
                  "index": "1.1900",
                  "USD": 1
                },
                {
                  "index": "1.1882",
                  "USD": 1
                },
                {
                  "index": "1.1964",
                  "USD": 1
                },
                {
                  "index": "1.1815",
                  "USD": 1
                },
                {
                  "index": "1.1986",
                  "USD": 1
                },
                {
                  "index": "1.2035",
                  "USD": 1
                },
                {
                  "index": "1.1791",
                  "USD": 1
                },
                {
                  "index": "1.1855",
                  "USD": 1
                },
                {
                  "index": "1.1721",
                  "USD": 1
                },
                {
                  "index": "1.1704",
                  "USD": 1
                },
                {
                  "index": "1.2046",
                  "USD": 1
                },
                {
                  "index": "1.0975",
                  "USD": 1
                },
                {
                  "index": "1.0958",
                  "USD": 1
                },
                {
                  "index": "1.0968",
                  "USD": 1
                },
                {
                  "index": "1.0832",
                  "USD": 1
                },
                {
                  "index": "1.1801",
                  "USD": 1
                },
                {
                  "index": "1.1088",
                  "USD": 1
                },
                {
                  "index": "1.1846",
                  "USD": 1
                },
                {
                  "index": "1.1108",
                  "USD": 1
                },
                {
                  "index": "1.1864",
                  "USD": 1
                },
                {
                  "index": "1.1110",
                  "USD": 1
                },
                {
                  "index": "1.1841",
                  "USD": 1
                },
                {
                  "index": "1.1097",
                  "USD": 1
                },
                {
                  "index": "1.1137",
                  "USD": 1
                },
                {
                  "index": "1.1567",
                  "USD": 1
                },
                {
                  "index": "1.1711",
                  "USD": 1
                },
                {
                  "index": "1.0787",
                  "USD": 1
                },
                {
                  "index": "1.1081",
                  "USD": 1
                },
                {
                  "index": "1.0636",
                  "USD": 1
                },
                {
                  "index": "1.0646",
                  "USD": 1
                },
                {
                  "index": "1.0581",
                  "USD": 1
                },
                {
                  "index": "1.0614",
                  "USD": 1
                },
                {
                  "index": "1.0604",
                  "USD": 1
                },
                {
                  "index": "1.1107",
                  "USD": 1
                },
                {
                  "index": "1.1130",
                  "USD": 1
                },
                {
                  "index": "1.1144",
                  "USD": 1
                },
                {
                  "index": "1.1007",
                  "USD": 1
                },
                {
                  "index": "1.1043",
                  "USD": 1
                },
                {
                  "index": "1.1067",
                  "USD": 1
                },
                {
                  "index": "1.1715",
                  "USD": 1
                },
                {
                  "index": "1.1040",
                  "USD": 1
                },
                {
                  "index": "1.1033",
                  "USD": 1
                },
                {
                  "index": "1.0937",
                  "USD": 1
                },
                {
                  "index": "1.1719",
                  "USD": 1
                },
                {
                  "index": "1.1739",
                  "USD": 1
                },
                {
                  "index": "1.1001",
                  "USD": 1
                },
                {
                  "index": "1.0812",
                  "USD": 1
                },
                {
                  "index": "1.0936",
                  "USD": 1
                },
                {
                  "index": "1.2182",
                  "USD": 1
                },
                {
                  "index": "1.2195",
                  "USD": 1
                },
                {
                  "index": "1.0798",
                  "USD": 1
                },
                {
                  "index": "1.0792",
                  "USD": 1
                },
                {
                  "index": "1.1951",
                  "USD": 1
                },
                {
                  "index": "1.0858",
                  "USD": 1
                },
                {
                  "index": "1.0942",
                  "USD": 1
                },
                {
                  "index": "1.0877",
                  "USD": 1
                },
                {
                  "index": "1.0871",
                  "USD": 1
                },
                {
                  "index": "1.1936",
                  "USD": 1
                },
                {
                  "index": "1.0785",
                  "USD": 1
                },
                {
                  "index": "1.1529",
                  "USD": 1
                },
                {
                  "index": "1.0906",
                  "USD": 1
                },
                {
                  "index": "1.1844",
                  "USD": 1
                },
                {
                  "index": "1.1048",
                  "USD": 1
                },
                {
                  "index": "1.0827",
                  "USD": 1
                },
                {
                  "index": "1.0928",
                  "USD": 1
                },
                {
                  "index": "1.1809",
                  "USD": 1
                },
                {
                  "index": "1.0707",
                  "USD": 1
                },
                {
                  "index": "1.0934",
                  "USD": 1
                },
                {
                  "index": "1.1125",
                  "USD": 1
                },
                {
                  "index": "1.1122",
                  "USD": 1
                },
                {
                  "index": "1.1584",
                  "USD": 1
                },
                {
                  "index": "1.0964",
                  "USD": 1
                },
                {
                  "index": "1.0840",
                  "USD": 1
                },
                {
                  "index": "1.0835",
                  "USD": 1
                },
                {
                  "index": "1.1886",
                  "USD": 1
                },
                {
                  "index": "1.1722",
                  "USD": 1
                },
                {
                  "index": "1.1728",
                  "USD": 1
                },
                {
                  "index": "1.1805",
                  "USD": 1
                },
                {
                  "index": "0.9673",
                  "USD": 1
                },
                {
                  "index": "1.0256",
                  "USD": 1
                },
                {
                  "index": "1.0610",
                  "USD": 1
                },
                {
                  "index": "1.0596",
                  "USD": 1
                },
                {
                  "index": "1.0096",
                  "USD": 1
                },
                {
                  "index": "1.0762",
                  "USD": 1
                },
                {
                  "index": "1.0734",
                  "USD": 1
                },
                {
                  "index": "1.0642",
                  "USD": 1
                },
                {
                  "index": "1.0084",
                  "USD": 1
                },
                {
                  "index": "1.0588",
                  "USD": 1
                },
                {
                  "index": "1.0548",
                  "USD": 1
                },
                {
                  "index": "1.0602",
                  "USD": 1
                },
                {
                  "index": "1.0617",
                  "USD": 1
                },
                {
                  "index": "1.0074",
                  "USD": 1
                },
                {
                  "index": "1.0142",
                  "USD": 1
                },
                {
                  "index": "1.1022",
                  "USD": 1
                },
                {
                  "index": "1.1062",
                  "USD": 1
                },
                {
                  "index": "1.1093",
                  "USD": 1
                },
                {
                  "index": "1.0134",
                  "USD": 1
                },
                {
                  "index": "1.0946",
                  "USD": 1
                },
                {
                  "index": "1.0922",
                  "USD": 1
                },
                {
                  "index": "1.0072",
                  "USD": 1
                },
                {
                  "index": "1.0886",
                  "USD": 1
                },
                {
                  "index": "1.0980",
                  "USD": 1
                },
                {
                  "index": "1.0046",
                  "USD": 1
                },
                {
                  "index": "1.0090",
                  "USD": 1
                },
                {
                  "index": "1.0305",
                  "USD": 1
                },
                {
                  "index": "1.0368",
                  "USD": 1
                },
                {
                  "index": "1.0284",
                  "USD": 1
                },
                {
                  "index": "1.1079",
                  "USD": 1
                },
                {
                  "index": "1.0229",
                  "USD": 1
                },
                {
                  "index": "1.0644",
                  "USD": 1
                },
                {
                  "index": "1.0419",
                  "USD": 1
                },
                {
                  "index": "1.0439",
                  "USD": 1
                },
                {
                  "index": "1.0681",
                  "USD": 1
                },
                {
                  "index": "1.0533",
                  "USD": 1
                },
                {
                  "index": "1.0587",
                  "USD": 1
                },
                {
                  "index": "1.0609",
                  "USD": 1
                },
                {
                  "index": "1.0513",
                  "USD": 1
                },
                {
                  "index": "1.0537",
                  "USD": 1
                },
                {
                  "index": "1.0400",
                  "USD": 1
                },
                {
                  "index": "1.0650",
                  "USD": 1
                },
                {
                  "index": "1.0555",
                  "USD": 1
                },
                {
                  "index": "1.0623",
                  "USD": 1
                },
                {
                  "index": "1.0675",
                  "USD": 1
                },
                {
                  "index": "1.0141",
                  "USD": 1
                },
                {
                  "index": "1.0741",
                  "USD": 1
                },
                {
                  "index": "1.0486",
                  "USD": 1
                },
                {
                  "index": "1.0715",
                  "USD": 1
                },
                {
                  "index": "1.0421",
                  "USD": 1
                },
                {
                  "index": "1.0632",
                  "USD": 1
                },
                {
                  "index": "1.0664",
                  "USD": 1
                },
                {
                  "index": "1.0684",
                  "USD": 1
                },
                {
                  "index": "1.0038",
                  "USD": 1
                },
                {
                  "index": "1.0679",
                  "USD": 1
                },
                {
                  "index": "1.0567",
                  "USD": 1
                },
                {
                  "index": "1.0516",
                  "USD": 1
                },
                {
                  "index": "1.0501",
                  "USD": 1
                },
                {
                  "index": "1.0465",
                  "USD": 1
                },
                {
                  "index": "1.0021",
                  "USD": 1
                },
                {
                  "index": "1.0401",
                  "USD": 1
                },
                {
                  "index": "1.0445",
                  "USD": 1
                },
                {
                  "index": "1.0444",
                  "USD": 1
                },
                {
                  "index": "1.1211",
                  "USD": 1
                },
                {
                  "index": "1.0276",
                  "USD": 1
                },
                {
                  "index": "0.8849",
                  "USD": 1
                },
                {
                  "index": "1.0225",
                  "USD": 1
                },
                {
                  "index": "1.0998",
                  "USD": 1
                },
                {
                  "index": "1.1283",
                  "USD": 1
                },
                {
                  "index": "0.9813",
                  "USD": 1
                },
                {
                  "index": "0.9639",
                  "USD": 1
                },
                {
                  "index": "1.1378",
                  "USD": 1
                },
                {
                  "index": "0.9714",
                  "USD": 1
                },
                {
                  "index": "0.9667",
                  "USD": 1
                },
                {
                  "index": "0.9659",
                  "USD": 1
                },
                {
                  "index": "1.2133",
                  "USD": 1
                },
                {
                  "index": "0.9593",
                  "USD": 1
                },
                {
                  "index": "0.9543",
                  "USD": 1
                },
                {
                  "index": "1.1395",
                  "USD": 1
                },
                {
                  "index": "0.9616",
                  "USD": 1
                },
                {
                  "index": "0.9613",
                  "USD": 1
                },
                {
                  "index": "0.9716",
                  "USD": 1
                },
                {
                  "index": "0.9620",
                  "USD": 1
                },
                {
                  "index": "1.0387",
                  "USD": 1
                },
                {
                  "index": "0.9663",
                  "USD": 1
                },
                {
                  "index": "0.9672",
                  "USD": 1
                },
                {
                  "index": "1.1252",
                  "USD": 1
                },
                {
                  "index": "1.0290",
                  "USD": 1
                },
                {
                  "index": "0.9603",
                  "USD": 1
                },
                {
                  "index": "1.1364",
                  "USD": 1
                },
                {
                  "index": "0.9656",
                  "USD": 1
                },
                {
                  "index": "1.0177",
                  "USD": 1
                },
                {
                  "index": "0.9568",
                  "USD": 1
                },
                {
                  "index": "0.9555",
                  "USD": 1
                },
                {
                  "index": "0.9553",
                  "USD": 1
                },
                {
                  "index": "1.0180",
                  "USD": 1
                },
                {
                  "index": "1.1073",
                  "USD": 1
                },
                {
                  "index": "1.1102",
                  "USD": 1
                },
                {
                  "index": "1.1070",
                  "USD": 1
                },
                {
                  "index": "0.9710",
                  "USD": 1
                },
                {
                  "index": "1.1165",
                  "USD": 1
                },
                {
                  "index": "1.0094",
                  "USD": 1
                },
                {
                  "index": "1.0550",
                  "USD": 1
                },
                {
                  "index": "1.1237",
                  "USD": 1
                },
                {
                  "index": "1.1159",
                  "USD": 1
                },
                {
                  "index": "1.1132",
                  "USD": 1
                },
                {
                  "index": "1.0105",
                  "USD": 1
                },
                {
                  "index": "1.0027",
                  "USD": 1
                },
                {
                  "index": "1.0521",
                  "USD": 1
                },
                {
                  "index": "0.9976",
                  "USD": 1
                },
                {
                  "index": "1.1078",
                  "USD": 1
                },
                {
                  "index": "0.9848",
                  "USD": 1
                },
                {
                  "index": "0.9791",
                  "USD": 1
                },
                {
                  "index": "0.9717",
                  "USD": 1
                },
                {
                  "index": "1.1092",
                  "USD": 1
                },
                {
                  "index": "0.9767",
                  "USD": 1
                },
                {
                  "index": "1.0493",
                  "USD": 1
                },
                {
                  "index": "0.9903",
                  "USD": 1
                },
                {
                  "index": "0.9868",
                  "USD": 1
                },
                {
                  "index": "0.9801",
                  "USD": 1
                },
                {
                  "index": "1.1014",
                  "USD": 1
                },
                {
                  "index": "0.9867",
                  "USD": 1
                },
                {
                  "index": "1.1013",
                  "USD": 1
                },
                {
                  "index": "0.9778",
                  "USD": 1
                },
                {
                  "index": "0.9804",
                  "USD": 1
                },
                {
                  "index": "0.9919",
                  "USD": 1
                },
                {
                  "index": "1.0022",
                  "USD": 1
                },
                {
                  "index": "1.0561",
                  "USD": 1
                },
                {
                  "index": "1.0514",
                  "USD": 1
                },
                {
                  "index": "1.0551",
                  "USD": 1
                },
                {
                  "index": "1.0680",
                  "USD": 1
                },
                {
                  "index": "1.0476",
                  "USD": 1
                },
                {
                  "index": "1.0485",
                  "USD": 1
                },
                {
                  "index": "1.1796",
                  "USD": 1
                },
                {
                  "index": "1.0527",
                  "USD": 1
                },
                {
                  "index": "1.0540",
                  "USD": 1
                },
                {
                  "index": "1.0512",
                  "USD": 1
                },
                {
                  "index": "1.0433",
                  "USD": 1
                },
                {
                  "index": "1.1952",
                  "USD": 1
                },
                {
                  "index": "1.1877",
                  "USD": 1
                },
                {
                  "index": "1.0450",
                  "USD": 1
                },
                {
                  "index": "1.0454",
                  "USD": 1
                },
                {
                  "index": "1.0531",
                  "USD": 1
                },
                {
                  "index": "1.0568",
                  "USD": 1
                },
                {
                  "index": "1.1840",
                  "USD": 1
                },
                {
                  "index": "1.1656",
                  "USD": 1
                },
                {
                  "index": "1.0554",
                  "USD": 1
                },
                {
                  "index": "1.0523",
                  "USD": 1
                },
                {
                  "index": "1.0525",
                  "USD": 1
                },
                {
                  "index": "1.1657",
                  "USD": 1
                },
                {
                  "index": "1.0520",
                  "USD": 1
                },
                {
                  "index": "1.1638",
                  "USD": 1
                },
                {
                  "index": "1.1818",
                  "USD": 1
                },
                {
                  "index": "1.0342",
                  "USD": 1
                },
                {
                  "index": "1.0362",
                  "USD": 1
                },
                {
                  "index": "1.0369",
                  "USD": 1
                },
                {
                  "index": "1.1803",
                  "USD": 1
                },
                {
                  "index": "1.0372",
                  "USD": 1
                },
                {
                  "index": "1.0397",
                  "USD": 1
                },
                {
                  "index": "1.0659",
                  "USD": 1
                },
                {
                  "index": "1.0509",
                  "USD": 1
                },
                {
                  "index": "1.0583",
                  "USD": 1
                },
                {
                  "index": "1.0638",
                  "USD": 1
                },
                {
                  "index": "1.1895",
                  "USD": 1
                },
                {
                  "index": "1.2302",
                  "USD": 1
                },
                {
                  "index": "1.1988",
                  "USD": 1
                },
                {
                  "index": "1.1878",
                  "USD": 1
                },
                {
                  "index": "1.1879",
                  "USD": 1
                },
                {
                  "index": "1.0694",
                  "USD": 1
                },
                {
                  "index": "1.0761",
                  "USD": 1
                },
                {
                  "index": "1.2382",
                  "USD": 1
                },
                {
                  "index": "1.2321",
                  "USD": 1
                },
                {
                  "index": "1.2398",
                  "USD": 1
                },
                {
                  "index": "1.2376",
                  "USD": 1
                },
                {
                  "index": "1.2316",
                  "USD": 1
                },
                {
                  "index": "1.2286",
                  "USD": 1
                },
                {
                  "index": "1.2341",
                  "USD": 1
                },
                {
                  "index": "1.2378",
                  "USD": 1
                },
                {
                  "index": "1.2291",
                  "USD": 1
                },
                {
                  "index": "1.0705",
                  "USD": 1
                },
                {
                  "index": "1.2417",
                  "USD": 1
                },
                {
                  "index": "1.2171",
                  "USD": 1
                },
                {
                  "index": "1.2214",
                  "USD": 1
                },
                {
                  "index": "1.2340",
                  "USD": 1
                },
                {
                  "index": "1.2464",
                  "USD": 1
                },
                {
                  "index": "1.2333",
                  "USD": 1
                },
                {
                  "index": "1.2273",
                  "USD": 1
                },
                {
                  "index": "1.2329",
                  "USD": 1
                },
                {
                  "index": "1.2440",
                  "USD": 1
                },
                {
                  "index": "1.2459",
                  "USD": 1
                },
                {
                  "index": "1.0740",
                  "USD": 1
                },
                {
                  "index": "1.2137",
                  "USD": 1
                },
                {
                  "index": "1.1993",
                  "USD": 1
                },
                {
                  "index": "1.0430",
                  "USD": 1
                },
                {
                  "index": "1.0414",
                  "USD": 1
                },
                {
                  "index": "1.0663",
                  "USD": 1
                },
                {
                  "index": "1.0483",
                  "USD": 1
                },
                {
                  "index": "1.0301",
                  "USD": 1
                },
                {
                  "index": "1.0336",
                  "USD": 1
                },
                {
                  "index": "1.1369",
                  "USD": 1
                },
                {
                  "index": "1.0380",
                  "USD": 1
                },
                {
                  "index": "1.0279",
                  "USD": 1
                },
                {
                  "index": "1.0311",
                  "USD": 1
                },
                {
                  "index": "1.0215",
                  "USD": 1
                },
                {
                  "index": "1.0431",
                  "USD": 1
                },
                {
                  "index": "1.0101",
                  "USD": 1
                },
                {
                  "index": "1.1258",
                  "USD": 1
                },
                {
                  "index": "1.0077",
                  "USD": 1
                },
                {
                  "index": "1.1196",
                  "USD": 1
                },
                {
                  "index": "1.1179",
                  "USD": 1
                },
                {
                  "index": "1.1129",
                  "USD": 1
                },
                {
                  "index": "1.0091",
                  "USD": 1
                },
                {
                  "index": "1.0972",
                  "USD": 1
                },
                {
                  "index": "1.0057",
                  "USD": 1
                },
                {
                  "index": "1.0882",
                  "USD": 1
                },
                {
                  "index": "1.0015",
                  "USD": 1
                },
                {
                  "index": "1.0961",
                  "USD": 1
                },
                {
                  "index": "1.0881",
                  "USD": 1
                },
                {
                  "index": "1.0848",
                  "USD": 1
                },
                {
                  "index": "1.0745",
                  "USD": 1
                },
                {
                  "index": "1.0725",
                  "USD": 1
                },
                {
                  "index": "1.0605",
                  "USD": 1
                },
                {
                  "index": "1.0678",
                  "USD": 1
                },
                {
                  "index": "1.0859",
                  "USD": 1
                },
                {
                  "index": "1.0239",
                  "USD": 1
                },
                {
                  "index": "1.0802",
                  "USD": 1
                },
                {
                  "index": "1.0402",
                  "USD": 1
                },
                {
                  "index": "1.0424",
                  "USD": 1
                },
                {
                  "index": "1.1485",
                  "USD": 1
                },
                {
                  "index": "1.0657",
                  "USD": 1
                },
                {
                  "index": "1.1867",
                  "USD": 1
                },
                {
                  "index": "1.1961",
                  "USD": 1
                },
                {
                  "index": "1.0563",
                  "USD": 1
                },
                {
                  "index": "1.1963",
                  "USD": 1
                },
                {
                  "index": "1.1979",
                  "USD": 1
                },
                {
                  "index": "1.0656",
                  "USD": 1
                },
                {
                  "index": "1.0697",
                  "USD": 1
                },
                {
                  "index": "1.1997",
                  "USD": 1
                },
                {
                  "index": "1.1971",
                  "USD": 1
                },
                {
                  "index": "1.1931",
                  "USD": 1
                },
                {
                  "index": "1.0728",
                  "USD": 1
                },
                {
                  "index": "1.0719",
                  "USD": 1
                },
                {
                  "index": "1.0686",
                  "USD": 1
                },
                {
                  "index": "1.0869",
                  "USD": 1
                },
                {
                  "index": "1.0405",
                  "USD": 1
                },
                {
                  "index": "1.0722",
                  "USD": 1
                },
                {
                  "index": "1.0797",
                  "USD": 1
                },
                {
                  "index": "1.0683",
                  "USD": 1
                },
                {
                  "index": "1.1732",
                  "USD": 1
                },
                {
                  "index": "1.1731",
                  "USD": 1
                },
                {
                  "index": "1.0633",
                  "USD": 1
                },
                {
                  "index": "1.0713",
                  "USD": 1
                },
                {
                  "index": "1.0534",
                  "USD": 1
                },
                {
                  "index": "1.1829",
                  "USD": 1
                },
                {
                  "index": "1.0739",
                  "USD": 1
                },
                {
                  "index": "1.1626",
                  "USD": 1
                },
                {
                  "index": "1.0491",
                  "USD": 1
                },
                {
                  "index": "1.0504",
                  "USD": 1
                },
                {
                  "index": "0.8945",
                  "USD": 1
                },
                {
                  "index": "0.8591",
                  "USD": 1
                },
                {
                  "index": "1.3047",
                  "USD": 1
                },
                {
                  "index": "1.3860",
                  "USD": 1
                },
                {
                  "index": "1.3669",
                  "USD": 1
                },
                {
                  "index": "0.9843",
                  "USD": 1
                },
                {
                  "index": "0.9826",
                  "USD": 1
                },
                {
                  "index": "1.3824",
                  "USD": 1
                },
                {
                  "index": "1.3885",
                  "USD": 1
                },
                {
                  "index": "0.9774",
                  "USD": 1
                },
                {
                  "index": "1.3877",
                  "USD": 1
                },
                {
                  "index": "0.9833",
                  "USD": 1
                },
                {
                  "index": "0.9697",
                  "USD": 1
                },
                {
                  "index": "0.9770",
                  "USD": 1
                },
                {
                  "index": "1.4030",
                  "USD": 1
                },
                {
                  "index": "0.9762",
                  "USD": 1
                },
                {
                  "index": "1.4113",
                  "USD": 1
                },
                {
                  "index": "1.4106",
                  "USD": 1
                },
                {
                  "index": "1.3580",
                  "USD": 1
                },
                {
                  "index": "0.9947",
                  "USD": 1
                },
                {
                  "index": "1.3019",
                  "USD": 1
                },
                {
                  "index": "0.9831",
                  "USD": 1
                },
                {
                  "index": "0.9779",
                  "USD": 1
                },
                {
                  "index": "0.9796",
                  "USD": 1
                },
                {
                  "index": "1.3663",
                  "USD": 1
                },
                {
                  "index": "0.9771",
                  "USD": 1
                },
                {
                  "index": "1.3694",
                  "USD": 1
                },
                {
                  "index": "1.3818",
                  "USD": 1
                },
                {
                  "index": "0.9649",
                  "USD": 1
                },
                {
                  "index": "0.9918",
                  "USD": 1
                },
                {
                  "index": "1.3591",
                  "USD": 1
                },
                {
                  "index": "0.9683",
                  "USD": 1
                },
                {
                  "index": "1.3405",
                  "USD": 1
                },
                {
                  "index": "0.9757",
                  "USD": 1
                },
                {
                  "index": "0.9749",
                  "USD": 1
                },
                {
                  "index": "0.9794",
                  "USD": 1
                },
                {
                  "index": "1.4127",
                  "USD": 1
                },
                {
                  "index": "1.4180",
                  "USD": 1
                },
                {
                  "index": "1.4179",
                  "USD": 1
                },
                {
                  "index": "1.4547",
                  "USD": 1
                },
                {
                  "index": "0.9698",
                  "USD": 1
                },
                {
                  "index": "1.4407",
                  "USD": 1
                },
                {
                  "index": "1.4447",
                  "USD": 1
                },
                {
                  "index": "1.4423",
                  "USD": 1
                },
                {
                  "index": "1.4479",
                  "USD": 1
                },
                {
                  "index": "0.9689",
                  "USD": 1
                },
                {
                  "index": "0.9783",
                  "USD": 1
                },
                {
                  "index": "1.4232",
                  "USD": 1
                },
                {
                  "index": "1.4579",
                  "USD": 1
                },
                {
                  "index": "1.4607",
                  "USD": 1
                },
                {
                  "index": "1.0014",
                  "USD": 1
                },
                {
                  "index": "1.4639",
                  "USD": 1
                },
                {
                  "index": "1.4651",
                  "USD": 1
                },
                {
                  "index": "1.4654",
                  "USD": 1
                },
                {
                  "index": "0.9687",
                  "USD": 1
                },
                {
                  "index": "0.9729",
                  "USD": 1
                },
                {
                  "index": "1.4230",
                  "USD": 1
                },
                {
                  "index": "1.4254",
                  "USD": 1
                },
                {
                  "index": "1.4288",
                  "USD": 1
                },
                {
                  "index": "1.4299",
                  "USD": 1
                },
                {
                  "index": "1.4200",
                  "USD": 1
                },
                {
                  "index": "1.4150",
                  "USD": 1
                },
                {
                  "index": "1.4226",
                  "USD": 1
                },
                {
                  "index": "1.4173",
                  "USD": 1
                },
                {
                  "index": "1.4199",
                  "USD": 1
                },
                {
                  "index": "0.9777",
                  "USD": 1
                },
                {
                  "index": "1.4037",
                  "USD": 1
                },
                {
                  "index": "0.9792",
                  "USD": 1
                },
                {
                  "index": "1.4109",
                  "USD": 1
                },
                {
                  "index": "1.4195",
                  "USD": 1
                },
                {
                  "index": "1.4165",
                  "USD": 1
                },
                {
                  "index": "0.9860",
                  "USD": 1
                },
                {
                  "index": "0.9861",
                  "USD": 1
                },
                {
                  "index": "1.3743",
                  "USD": 1
                },
                {
                  "index": "1.0018",
                  "USD": 1
                },
                {
                  "index": "1.0156",
                  "USD": 1
                },
                {
                  "index": "1.3643",
                  "USD": 1
                },
                {
                  "index": "1.3605",
                  "USD": 1
                },
                {
                  "index": "1.0111",
                  "USD": 1
                },
                {
                  "index": "1.0006",
                  "USD": 1
                },
                {
                  "index": "0.9991",
                  "USD": 1
                },
                {
                  "index": "0.9967",
                  "USD": 1
                },
                {
                  "index": "1.3490",
                  "USD": 1
                },
                {
                  "index": "0.9871",
                  "USD": 1
                },
                {
                  "index": "0.9905",
                  "USD": 1
                },
                {
                  "index": "1.3538",
                  "USD": 1
                },
                {
                  "index": "1.0125",
                  "USD": 1
                },
                {
                  "index": "1.0065",
                  "USD": 1
                },
                {
                  "index": "1.0029",
                  "USD": 1
                },
                {
                  "index": "1.0212",
                  "USD": 1
                },
                {
                  "index": "1.0307",
                  "USD": 1
                },
                {
                  "index": "1.0240",
                  "USD": 1
                },
                {
                  "index": "1.0273",
                  "USD": 1
                },
                {
                  "index": "1.0255",
                  "USD": 1
                },
                {
                  "index": "1.0282",
                  "USD": 1
                },
                {
                  "index": "1.0296",
                  "USD": 1
                },
                {
                  "index": "1.0376",
                  "USD": 1
                },
                {
                  "index": "1.0487",
                  "USD": 1
                },
                {
                  "index": "1.3426",
                  "USD": 1
                },
                {
                  "index": "1.3358",
                  "USD": 1
                },
                {
                  "index": "1.3366",
                  "USD": 1
                },
                {
                  "index": "1.3318",
                  "USD": 1
                },
                {
                  "index": "1.0488",
                  "USD": 1
                },
                {
                  "index": "1.0377",
                  "USD": 1
                },
                {
                  "index": "1.3351",
                  "USD": 1
                },
                {
                  "index": "1.3293",
                  "USD": 1
                },
                {
                  "index": "1.0095",
                  "USD": 1
                },
                {
                  "index": "1.0081",
                  "USD": 1
                },
                {
                  "index": "0.9890",
                  "USD": 1
                },
                {
                  "index": "0.9823",
                  "USD": 1
                },
                {
                  "index": "0.9775",
                  "USD": 1
                },
                {
                  "index": "0.9768",
                  "USD": 1
                },
                {
                  "index": "0.9735",
                  "USD": 1
                },
                {
                  "index": "1.3640",
                  "USD": 1
                },
                {
                  "index": "1.3666",
                  "USD": 1
                },
                {
                  "index": "1.3753",
                  "USD": 1
                },
                {
                  "index": "1.3782",
                  "USD": 1
                },
                {
                  "index": "1.0126",
                  "USD": 1
                },
                {
                  "index": "0.9875",
                  "USD": 1
                },
                {
                  "index": "0.9800",
                  "USD": 1
                },
                {
                  "index": "1.3779",
                  "USD": 1
                },
                {
                  "index": "0.9808",
                  "USD": 1
                },
                {
                  "index": "0.9865",
                  "USD": 1
                },
                {
                  "index": "1.3821",
                  "USD": 1
                },
                {
                  "index": "1.3461",
                  "USD": 1
                },
                {
                  "index": "1.3397",
                  "USD": 1
                },
                {
                  "index": "1.3427",
                  "USD": 1
                },
                {
                  "index": "0.9738",
                  "USD": 1
                },
                {
                  "index": "0.9745",
                  "USD": 1
                },
                {
                  "index": "0.9820",
                  "USD": 1
                },
                {
                  "index": "1.3287",
                  "USD": 1
                },
                {
                  "index": "0.9864",
                  "USD": 1
                },
                {
                  "index": "0.9974",
                  "USD": 1
                },
                {
                  "index": "0.9944",
                  "USD": 1
                },
                {
                  "index": "1.3470",
                  "USD": 1
                },
                {
                  "index": "1.3513",
                  "USD": 1
                },
                {
                  "index": "0.9955",
                  "USD": 1
                },
                {
                  "index": "1.0013",
                  "USD": 1
                },
                {
                  "index": "1.3420",
                  "USD": 1
                },
                {
                  "index": "1.3509",
                  "USD": 1
                },
                {
                  "index": "1.0107",
                  "USD": 1
                },
                {
                  "index": "0.9915",
                  "USD": 1
                },
                {
                  "index": "1.0086",
                  "USD": 1
                },
                {
                  "index": "1.0058",
                  "USD": 1
                },
                {
                  "index": "1.5571",
                  "USD": 1
                },
                {
                  "index": "1.5898",
                  "USD": 1
                },
                {
                  "index": "1.5931",
                  "USD": 1
                },
                {
                  "index": "1.5940",
                  "USD": 1
                },
                {
                  "index": "1.5769",
                  "USD": 1
                },
                {
                  "index": "1.5596",
                  "USD": 1
                },
                {
                  "index": "1.5628",
                  "USD": 1
                },
                {
                  "index": "1.5540",
                  "USD": 1
                },
                {
                  "index": "1.5474",
                  "USD": 1
                },
                {
                  "index": "0.9426",
                  "USD": 1
                },
                {
                  "index": "1.5460",
                  "USD": 1
                },
                {
                  "index": "1.5528",
                  "USD": 1
                },
                {
                  "index": "0.9478",
                  "USD": 1
                },
                {
                  "index": "1.5347",
                  "USD": 1
                },
                {
                  "index": "1.5473",
                  "USD": 1
                },
                {
                  "index": "1.5780",
                  "USD": 1
                },
                {
                  "index": "1.5872",
                  "USD": 1
                },
                {
                  "index": "1.5928",
                  "USD": 1
                },
                {
                  "index": "1.5828",
                  "USD": 1
                },
                {
                  "index": "1.5869",
                  "USD": 1
                },
                {
                  "index": "1.5833",
                  "USD": 1
                },
                {
                  "index": "1.5875",
                  "USD": 1
                },
                {
                  "index": "1.5726",
                  "USD": 1
                },
                {
                  "index": "1.5694",
                  "USD": 1
                },
                {
                  "index": "1.5693",
                  "USD": 1
                },
                {
                  "index": "1.5722",
                  "USD": 1
                },
                {
                  "index": "0.9484",
                  "USD": 1
                },
                {
                  "index": "1.5632",
                  "USD": 1
                },
                {
                  "index": "1.5660",
                  "USD": 1
                },
                {
                  "index": "1.5812",
                  "USD": 1
                },
                {
                  "index": "1.5796",
                  "USD": 1
                },
                {
                  "index": "1.5786",
                  "USD": 1
                },
                {
                  "index": "1.5439",
                  "USD": 1
                },
                {
                  "index": "1.5498",
                  "USD": 1
                },
                {
                  "index": "1.5569",
                  "USD": 1
                },
                {
                  "index": "1.5764",
                  "USD": 1
                },
                {
                  "index": "1.5481",
                  "USD": 1
                },
                {
                  "index": "1.5610",
                  "USD": 1
                },
                {
                  "index": "1.5568",
                  "USD": 1
                },
                {
                  "index": "1.5599",
                  "USD": 1
                },
                {
                  "index": "1.5731",
                  "USD": 1
                },
                {
                  "index": "1.5748",
                  "USD": 1
                },
                {
                  "index": "1.5775",
                  "USD": 1
                },
                {
                  "index": "1.5639",
                  "USD": 1
                },
                {
                  "index": "1.5806",
                  "USD": 1
                },
                {
                  "index": "1.5885",
                  "USD": 1
                },
                {
                  "index": "1.5671",
                  "USD": 1
                },
                {
                  "index": "1.5651",
                  "USD": 1
                },
                {
                  "index": "1.5687",
                  "USD": 1
                },
                {
                  "index": "1.5715",
                  "USD": 1
                },
                {
                  "index": "1.5493",
                  "USD": 1
                },
                {
                  "index": "1.5459",
                  "USD": 1
                },
                {
                  "index": "1.5336",
                  "USD": 1
                },
                {
                  "index": "1.5515",
                  "USD": 1
                },
                {
                  "index": "1.5784",
                  "USD": 1
                },
                {
                  "index": "1.5597",
                  "USD": 1
                },
                {
                  "index": "1.5402",
                  "USD": 1
                },
                {
                  "index": "1.5466",
                  "USD": 1
                },
                {
                  "index": "1.5593",
                  "USD": 1
                },
                {
                  "index": "1.5508",
                  "USD": 1
                },
                {
                  "index": "1.5551",
                  "USD": 1
                },
                {
                  "index": "1.5656",
                  "USD": 1
                },
                {
                  "index": "1.5760",
                  "USD": 1
                },
                {
                  "index": "1.5761",
                  "USD": 1
                },
                {
                  "index": "1.5742",
                  "USD": 1
                },
                {
                  "index": "1.5755",
                  "USD": 1
                },
                {
                  "index": "1.5753",
                  "USD": 1
                },
                {
                  "index": "1.5710",
                  "USD": 1
                },
                {
                  "index": "1.5423",
                  "USD": 1
                },
                {
                  "index": "1.4809",
                  "USD": 1
                },
                {
                  "index": "1.4680",
                  "USD": 1
                },
                {
                  "index": "1.4721",
                  "USD": 1
                },
                {
                  "index": "0.9838",
                  "USD": 1
                },
                {
                  "index": "1.4753",
                  "USD": 1
                },
                {
                  "index": "1.4727",
                  "USD": 1
                },
                {
                  "index": "1.4723",
                  "USD": 1
                },
                {
                  "index": "0.9913",
                  "USD": 1
                },
                {
                  "index": "1.4662",
                  "USD": 1
                },
                {
                  "index": "1.4663",
                  "USD": 1
                },
                {
                  "index": "1.4895",
                  "USD": 1
                },
                {
                  "index": "1.4886",
                  "USD": 1
                },
                {
                  "index": "1.4691",
                  "USD": 1
                },
                {
                  "index": "0.9824",
                  "USD": 1
                },
                {
                  "index": "1.4482",
                  "USD": 1
                },
                {
                  "index": "1.4494",
                  "USD": 1
                },
                {
                  "index": "1.4692",
                  "USD": 1
                },
                {
                  "index": "0.9930",
                  "USD": 1
                },
                {
                  "index": "1.4416",
                  "USD": 1
                },
                {
                  "index": "1.4393",
                  "USD": 1
                },
                {
                  "index": "1.4509",
                  "USD": 1
                },
                {
                  "index": "1.4675",
                  "USD": 1
                },
                {
                  "index": "1.4672",
                  "USD": 1
                },
                {
                  "index": "1.4718",
                  "USD": 1
                },
                {
                  "index": "1.4649",
                  "USD": 1
                },
                {
                  "index": "1.4554",
                  "USD": 1
                },
                {
                  "index": "1.4720",
                  "USD": 1
                },
                {
                  "index": "1.4741",
                  "USD": 1
                },
                {
                  "index": "1.0127",
                  "USD": 1
                },
                {
                  "index": "1.4738",
                  "USD": 1
                },
                {
                  "index": "1.4747",
                  "USD": 1
                },
                {
                  "index": "1.0064",
                  "USD": 1
                },
                {
                  "index": "1.4845",
                  "USD": 1
                },
                {
                  "index": "1.4574",
                  "USD": 1
                },
                {
                  "index": "1.4755",
                  "USD": 1
                },
                {
                  "index": "1.5692",
                  "USD": 1
                },
                {
                  "index": "0.9781",
                  "USD": 1
                },
                {
                  "index": "1.5121",
                  "USD": 1
                },
                {
                  "index": "1.5167",
                  "USD": 1
                },
                {
                  "index": "1.5203",
                  "USD": 1
                },
                {
                  "index": "1.5206",
                  "USD": 1
                },
                {
                  "index": "1.5196",
                  "USD": 1
                },
                {
                  "index": "1.5319",
                  "USD": 1
                },
                {
                  "index": "1.5340",
                  "USD": 1
                },
                {
                  "index": "1.4773",
                  "USD": 1
                },
                {
                  "index": "1.5379",
                  "USD": 1
                },
                {
                  "index": "0.9592",
                  "USD": 1
                },
                {
                  "index": "0.9561",
                  "USD": 1
                },
                {
                  "index": "1.5561",
                  "USD": 1
                },
                {
                  "index": "1.5770",
                  "USD": 1
                },
                {
                  "index": "1.5771",
                  "USD": 1
                },
                {
                  "index": "1.5044",
                  "USD": 1
                },
                {
                  "index": "1.4817",
                  "USD": 1
                },
                {
                  "index": "1.4848",
                  "USD": 1
                },
                {
                  "index": "1.4736",
                  "USD": 1
                },
                {
                  "index": "1.4656",
                  "USD": 1
                },
                {
                  "index": "1.4742",
                  "USD": 1
                },
                {
                  "index": "1.4636",
                  "USD": 1
                },
                {
                  "index": "1.4626",
                  "USD": 1
                },
                {
                  "index": "1.4586",
                  "USD": 1
                },
                {
                  "index": "1.4538",
                  "USD": 1
                },
                {
                  "index": "1.4542",
                  "USD": 1
                },
                {
                  "index": "1.4513",
                  "USD": 1
                },
                {
                  "index": "1.4569",
                  "USD": 1
                },
                {
                  "index": "0.9917",
                  "USD": 1
                },
                {
                  "index": "1.4889",
                  "USD": 1
                },
                {
                  "index": "1.4870",
                  "USD": 1
                },
                {
                  "index": "1.4810",
                  "USD": 1
                },
                {
                  "index": "1.0549",
                  "USD": 1
                },
                {
                  "index": "1.0526",
                  "USD": 1
                },
                {
                  "index": "1.3226",
                  "USD": 1
                },
                {
                  "index": "1.2386",
                  "USD": 1
                },
                {
                  "index": "1.1965",
                  "USD": 1
                },
                {
                  "index": "1.2344",
                  "USD": 1
                },
                {
                  "index": "1.1990",
                  "USD": 1
                },
                {
                  "index": "1.2261",
                  "USD": 1
                },
                {
                  "index": "1.2251",
                  "USD": 1
                },
                {
                  "index": "1.2350",
                  "USD": 1
                },
                {
                  "index": "1.2278",
                  "USD": 1
                },
                {
                  "index": "1.2451",
                  "USD": 1
                },
                {
                  "index": "1.2367",
                  "USD": 1
                },
                {
                  "index": "1.2405",
                  "USD": 1
                },
                {
                  "index": "1.2183",
                  "USD": 1
                },
                {
                  "index": "1.2181",
                  "USD": 1
                },
                {
                  "index": "1.2356",
                  "USD": 1
                },
                {
                  "index": "1.2192",
                  "USD": 1
                },
                {
                  "index": "1.2067",
                  "USD": 1
                },
                {
                  "index": "1.2184",
                  "USD": 1
                },
                {
                  "index": "1.2196",
                  "USD": 1
                },
                {
                  "index": "1.2318",
                  "USD": 1
                },
                {
                  "index": "1.2090",
                  "USD": 1
                },
                {
                  "index": "1.2095",
                  "USD": 1
                },
                {
                  "index": "1.2164",
                  "USD": 1
                },
                {
                  "index": "1.1924",
                  "USD": 1
                },
                {
                  "index": "1.2210",
                  "USD": 1
                },
                {
                  "index": "1.1851",
                  "USD": 1
                },
                {
                  "index": "1.2110",
                  "USD": 1
                },
                {
                  "index": "1.2062",
                  "USD": 1
                },
                {
                  "index": "1.1887",
                  "USD": 1
                },
                {
                  "index": "1.2324",
                  "USD": 1
                },
                {
                  "index": "1.2228",
                  "USD": 1
                },
                {
                  "index": "1.2472",
                  "USD": 1
                },
                {
                  "index": "1.2126",
                  "USD": 1
                },
                {
                  "index": "1.2402",
                  "USD": 1
                },
                {
                  "index": "1.2415",
                  "USD": 1
                },
                {
                  "index": "1.2564",
                  "USD": 1
                },
                {
                  "index": "1.2536",
                  "USD": 1
                },
                {
                  "index": "1.2710",
                  "USD": 1
                },
                {
                  "index": "1.1677",
                  "USD": 1
                },
                {
                  "index": "1.1679",
                  "USD": 1
                },
                {
                  "index": "1.1811",
                  "USD": 1
                },
                {
                  "index": "1.1701",
                  "USD": 1
                },
                {
                  "index": "1.1776",
                  "USD": 1
                },
                {
                  "index": "1.2373",
                  "USD": 1
                },
                {
                  "index": "1.2314",
                  "USD": 1
                },
                {
                  "index": "1.1793",
                  "USD": 1
                },
                {
                  "index": "1.2657",
                  "USD": 1
                },
                {
                  "index": "1.2630",
                  "USD": 1
                },
                {
                  "index": "1.2499",
                  "USD": 1
                },
                {
                  "index": "1.1977",
                  "USD": 1
                },
                {
                  "index": "1.1955",
                  "USD": 1
                },
                {
                  "index": "1.1762",
                  "USD": 1
                },
                {
                  "index": "1.2041",
                  "USD": 1
                },
                {
                  "index": "1.2461",
                  "USD": 1
                },
                {
                  "index": "1.2130",
                  "USD": 1
                },
                {
                  "index": "1.2585",
                  "USD": 1
                },
                {
                  "index": "1.1944",
                  "USD": 1
                },
                {
                  "index": "1.2741",
                  "USD": 1
                },
                {
                  "index": "1.2858",
                  "USD": 1
                },
                {
                  "index": "1.2724",
                  "USD": 1
                },
                {
                  "index": "1.2663",
                  "USD": 1
                },
                {
                  "index": "1.2576",
                  "USD": 1
                },
                {
                  "index": "1.2037",
                  "USD": 1
                },
                {
                  "index": "1.2629",
                  "USD": 1
                },
                {
                  "index": "1.2444",
                  "USD": 1
                },
                {
                  "index": "1.2154",
                  "USD": 1
                },
                {
                  "index": "1.2243",
                  "USD": 1
                },
                {
                  "index": "1.2484",
                  "USD": 1
                },
                {
                  "index": "1.2116",
                  "USD": 1
                },
                {
                  "index": "1.2617",
                  "USD": 1
                },
                {
                  "index": "1.2074",
                  "USD": 1
                },
                {
                  "index": "1.2175",
                  "USD": 1
                },
                {
                  "index": "1.3143",
                  "USD": 1
                },
                {
                  "index": "1.3139",
                  "USD": 1
                },
                {
                  "index": "1.2237",
                  "USD": 1
                },
                {
                  "index": "1.2236",
                  "USD": 1
                },
                {
                  "index": "1.2071",
                  "USD": 1
                },
                {
                  "index": "1.2963",
                  "USD": 1
                },
                {
                  "index": "1.2047",
                  "USD": 1
                },
                {
                  "index": "1.3055",
                  "USD": 1
                },
                {
                  "index": "1.3027",
                  "USD": 1
                },
                {
                  "index": "1.3061",
                  "USD": 1
                },
                {
                  "index": "1.3001",
                  "USD": 1
                },
                {
                  "index": "1.2855",
                  "USD": 1
                },
                {
                  "index": "1.2359",
                  "USD": 1
                },
                {
                  "index": "1.3041",
                  "USD": 1
                },
                {
                  "index": "1.3103",
                  "USD": 1
                },
                {
                  "index": "1.2335",
                  "USD": 1
                },
                {
                  "index": "1.3224",
                  "USD": 1
                },
                {
                  "index": "1.2409",
                  "USD": 1
                },
                {
                  "index": "1.2413",
                  "USD": 1
                },
                {
                  "index": "1.2305",
                  "USD": 1
                },
                {
                  "index": "1.2282",
                  "USD": 1
                },
                {
                  "index": "1.2267",
                  "USD": 1
                },
                {
                  "index": "1.3542",
                  "USD": 1
                },
                {
                  "index": "1.2474",
                  "USD": 1
                },
                {
                  "index": "1.2509",
                  "USD": 1
                },
                {
                  "index": "1.3264",
                  "USD": 1
                },
                {
                  "index": "1.2784",
                  "USD": 1
                },
                {
                  "index": "1.2754",
                  "USD": 1
                },
                {
                  "index": "1.2917",
                  "USD": 1
                },
                {
                  "index": "1.3294",
                  "USD": 1
                },
                {
                  "index": "1.3247",
                  "USD": 1
                },
                {
                  "index": "1.2247",
                  "USD": 1
                },
                {
                  "index": "1.3165",
                  "USD": 1
                },
                {
                  "index": "1.2642",
                  "USD": 1
                },
                {
                  "index": "1.2920",
                  "USD": 1
                },
                {
                  "index": "1.2985",
                  "USD": 1
                },
                {
                  "index": "1.2122",
                  "USD": 1
                },
                {
                  "index": "1.2996",
                  "USD": 1
                },
                {
                  "index": "1.3049",
                  "USD": 1
                },
                {
                  "index": "1.2001",
                  "USD": 1
                },
                {
                  "index": "1.2052",
                  "USD": 1
                },
                {
                  "index": "1.2157",
                  "USD": 1
                },
                {
                  "index": "1.3216",
                  "USD": 1
                },
                {
                  "index": "1.2226",
                  "USD": 1
                },
                {
                  "index": "1.2165",
                  "USD": 1
                },
                {
                  "index": "1.2106",
                  "USD": 1
                },
                {
                  "index": "1.1989",
                  "USD": 1
                },
                {
                  "index": "1.1857",
                  "USD": 1
                },
                {
                  "index": "1.2621",
                  "USD": 1
                },
                {
                  "index": "1.2819",
                  "USD": 1
                },
                {
                  "index": "1.2208",
                  "USD": 1
                },
                {
                  "index": "1.2148",
                  "USD": 1
                },
                {
                  "index": "1.2288",
                  "USD": 1
                },
                {
                  "index": "1.2943",
                  "USD": 1
                },
                {
                  "index": "1.2926",
                  "USD": 1
                },
                {
                  "index": "1.2397",
                  "USD": 1
                },
                {
                  "index": "1.2381",
                  "USD": 1
                },
                {
                  "index": "1.3279",
                  "USD": 1
                },
                {
                  "index": "1.2412",
                  "USD": 1
                },
                {
                  "index": "1.3372",
                  "USD": 1
                },
                {
                  "index": "1.3416",
                  "USD": 1
                },
                {
                  "index": "1.3409",
                  "USD": 1
                },
                {
                  "index": "1.2385",
                  "USD": 1
                },
                {
                  "index": "1.3197",
                  "USD": 1
                },
                {
                  "index": "1.3144",
                  "USD": 1
                },
                {
                  "index": "1.3101",
                  "USD": 1
                },
                {
                  "index": "1.2434",
                  "USD": 1
                },
                {
                  "index": "1.2102",
                  "USD": 1
                },
                {
                  "index": "1.3156",
                  "USD": 1
                },
                {
                  "index": "1.2774",
                  "USD": 1
                },
                {
                  "index": "1.1499",
                  "USD": 1
                },
                {
                  "index": "1.2702",
                  "USD": 1
                },
                {
                  "index": "1.1518",
                  "USD": 1
                },
                {
                  "index": "1.1597",
                  "USD": 1
                },
                {
                  "index": "1.2830",
                  "USD": 1
                },
                {
                  "index": "1.2804",
                  "USD": 1
                },
                {
                  "index": "1.2814",
                  "USD": 1
                },
                {
                  "index": "1.0582",
                  "USD": 1
                },
                {
                  "index": "1.2886",
                  "USD": 1
                },
                {
                  "index": "1.1131",
                  "USD": 1
                },
                {
                  "index": "1.3157",
                  "USD": 1
                },
                {
                  "index": "1.0971",
                  "USD": 1
                },
                {
                  "index": "1.3309",
                  "USD": 1
                },
                {
                  "index": "1.3331",
                  "USD": 1
                },
                {
                  "index": "1.1458",
                  "USD": 1
                },
                {
                  "index": "1.1492",
                  "USD": 1
                },
                {
                  "index": "1.2717",
                  "USD": 1
                },
                {
                  "index": "1.2683",
                  "USD": 1
                },
                {
                  "index": "1.2580",
                  "USD": 1
                },
                {
                  "index": "1.2556",
                  "USD": 1
                },
                {
                  "index": "1.2515",
                  "USD": 1
                },
                {
                  "index": "1.2550",
                  "USD": 1
                },
                {
                  "index": "1.1756",
                  "USD": 1
                },
                {
                  "index": "1.2685",
                  "USD": 1
                },
                {
                  "index": "1.2695",
                  "USD": 1
                },
                {
                  "index": "1.1691",
                  "USD": 1
                },
                {
                  "index": "1.2676",
                  "USD": 1
                },
                {
                  "index": "1.2654",
                  "USD": 1
                },
                {
                  "index": "1.1734",
                  "USD": 1
                },
                {
                  "index": "1.2723",
                  "USD": 1
                },
                {
                  "index": "1.2677",
                  "USD": 1
                },
                {
                  "index": "1.0660",
                  "USD": 1
                },
                {
                  "index": "1.0775",
                  "USD": 1
                },
                {
                  "index": "1.1751",
                  "USD": 1
                },
                {
                  "index": "1.0789",
                  "USD": 1
                },
                {
                  "index": "1.0793",
                  "USD": 1
                },
                {
                  "index": "1.0731",
                  "USD": 1
                },
                {
                  "index": "1.3022",
                  "USD": 1
                },
                {
                  "index": "1.3082",
                  "USD": 1
                },
                {
                  "index": "1.3137",
                  "USD": 1
                },
                {
                  "index": "1.0706",
                  "USD": 1
                },
                {
                  "index": "1.0813",
                  "USD": 1
                },
                {
                  "index": "1.3158",
                  "USD": 1
                },
                {
                  "index": "1.3211",
                  "USD": 1
                },
                {
                  "index": "1.0757",
                  "USD": 1
                },
                {
                  "index": "1.3163",
                  "USD": 1
                },
                {
                  "index": "1.3100",
                  "USD": 1
                },
                {
                  "index": "1.0718",
                  "USD": 1
                },
                {
                  "index": "1.3152",
                  "USD": 1
                },
                {
                  "index": "1.2991",
                  "USD": 1
                },
                {
                  "index": "1.2987",
                  "USD": 1
                },
                {
                  "index": "1.2972",
                  "USD": 1
                },
                {
                  "index": "1.2901",
                  "USD": 1
                },
                {
                  "index": "1.2978",
                  "USD": 1
                },
                {
                  "index": "1.0714",
                  "USD": 1
                },
                {
                  "index": "1.2941",
                  "USD": 1
                },
                {
                  "index": "1.0763",
                  "USD": 1
                },
                {
                  "index": "1.0838",
                  "USD": 1
                },
                {
                  "index": "1.3018",
                  "USD": 1
                },
                {
                  "index": "1.0721",
                  "USD": 1
                },
                {
                  "index": "1.3084",
                  "USD": 1
                },
                {
                  "index": "1.0753",
                  "USD": 1
                },
                {
                  "index": "1.3170",
                  "USD": 1
                },
                {
                  "index": "1.0782",
                  "USD": 1
                },
                {
                  "index": "1.1039",
                  "USD": 1
                },
                {
                  "index": "1.1042",
                  "USD": 1
                },
                {
                  "index": "1.2709",
                  "USD": 1
                },
                {
                  "index": "1.1539",
                  "USD": 1
                },
                {
                  "index": "1.2083",
                  "USD": 1
                },
                {
                  "index": "1.1688",
                  "USD": 1
                },
                {
                  "index": "1.1673",
                  "USD": 1
                },
                {
                  "index": "1.2179",
                  "USD": 1
                },
                {
                  "index": "1.2099",
                  "USD": 1
                },
                {
                  "index": "1.1629",
                  "USD": 1
                },
                {
                  "index": "1.2094",
                  "USD": 1
                },
                {
                  "index": "1.2365",
                  "USD": 1
                },
                {
                  "index": "1.1686",
                  "USD": 1
                },
                {
                  "index": "1.2758",
                  "USD": 1
                },
                {
                  "index": "1.2622",
                  "USD": 1
                },
                {
                  "index": "1.2688",
                  "USD": 1
                },
                {
                  "index": "1.2779",
                  "USD": 1
                },
                {
                  "index": "1.2716",
                  "USD": 1
                },
                {
                  "index": "1.2914",
                  "USD": 1
                },
                {
                  "index": "1.2753",
                  "USD": 1
                },
                {
                  "index": "1.1622",
                  "USD": 1
                },
                {
                  "index": "1.1473",
                  "USD": 1
                },
                {
                  "index": "1.1919",
                  "USD": 1
                },
                {
                  "index": "1.1483",
                  "USD": 1
                },
                {
                  "index": "1.1921",
                  "USD": 1
                },
                {
                  "index": "1.1954",
                  "USD": 1
                },
                {
                  "index": "1.1680",
                  "USD": 1
                },
                {
                  "index": "1.1909",
                  "USD": 1
                },
                {
                  "index": "1.1899",
                  "USD": 1
                },
                {
                  "index": "1.1828",
                  "USD": 1
                },
                {
                  "index": "1.1994",
                  "USD": 1
                },
                {
                  "index": "1.1981",
                  "USD": 1
                },
                {
                  "index": "1.2019",
                  "USD": 1
                },
                {
                  "index": "1.2068",
                  "USD": 1
                },
                {
                  "index": "1.2075",
                  "USD": 1
                },
                {
                  "index": "1.2113",
                  "USD": 1
                },
                {
                  "index": "1.2078",
                  "USD": 1
                },
                {
                  "index": "1.2797",
                  "USD": 1
                },
                {
                  "index": "1.0849",
                  "USD": 1
                },
                {
                  "index": "1.1565",
                  "USD": 1
                },
                {
                  "index": "1.1477",
                  "USD": 1
                },
                {
                  "index": "1.2752",
                  "USD": 1
                },
                {
                  "index": "1.2722",
                  "USD": 1
                },
                {
                  "index": "1.2482",
                  "USD": 1
                },
                {
                  "index": "1.2633",
                  "USD": 1
                },
                {
                  "index": "1.1489",
                  "USD": 1
                },
                {
                  "index": "1.2759",
                  "USD": 1
                },
                {
                  "index": "1.2781",
                  "USD": 1
                },
                {
                  "index": "1.0965",
                  "USD": 1
                },
                {
                  "index": "1.1401",
                  "USD": 1
                },
                {
                  "index": "1.2775",
                  "USD": 1
                },
                {
                  "index": "1.1231",
                  "USD": 1
                },
                {
                  "index": "1.2919",
                  "USD": 1
                },
                {
                  "index": "1.1457",
                  "USD": 1
                },
                {
                  "index": "1.1551",
                  "USD": 1
                },
                {
                  "index": "1.2778",
                  "USD": 1
                },
                {
                  "index": "1.2794",
                  "USD": 1
                },
                {
                  "index": "1.2791",
                  "USD": 1
                },
                {
                  "index": "1.1392",
                  "USD": 1
                },
                {
                  "index": "1.2570",
                  "USD": 1
                },
                {
                  "index": "1.1270",
                  "USD": 1
                },
                {
                  "index": "1.2502",
                  "USD": 1
                },
                {
                  "index": "1.2582",
                  "USD": 1
                },
                {
                  "index": "1.2632",
                  "USD": 1
                },
                {
                  "index": "1.2651",
                  "USD": 1
                },
                {
                  "index": "1.2610",
                  "USD": 1
                },
                {
                  "index": "1.2571",
                  "USD": 1
                },
                {
                  "index": "1.0894",
                  "USD": 1
                },
                {
                  "index": "1.0828",
                  "USD": 1
                },
                {
                  "index": "1.2789",
                  "USD": 1
                },
                {
                  "index": "1.2847",
                  "USD": 1
                },
                {
                  "index": "1.2815",
                  "USD": 1
                },
                {
                  "index": "1.5708",
                  "USD": 1
                },
                {
                  "index": "1.5835",
                  "USD": 1
                },
                {
                  "index": "1.5847",
                  "USD": 1
                },
                {
                  "index": "0.8751",
                  "USD": 1
                },
                {
                  "index": "1.2801",
                  "USD": 1
                },
                {
                  "index": "1.2989",
                  "USD": 1
                },
                {
                  "index": "0.8805",
                  "USD": 1
                },
                {
                  "index": "0.8806",
                  "USD": 1
                },
                {
                  "index": "1.3364",
                  "USD": 1
                },
                {
                  "index": "0.8755",
                  "USD": 1
                },
                {
                  "index": "1.3648",
                  "USD": 1
                },
                {
                  "index": "1.3912",
                  "USD": 1
                },
                {
                  "index": "1.3936",
                  "USD": 1
                },
                {
                  "index": "1.3958",
                  "USD": 1
                },
                {
                  "index": "1.3896",
                  "USD": 1
                },
                {
                  "index": "1.3859",
                  "USD": 1
                },
                {
                  "index": "0.8708",
                  "USD": 1
                },
                {
                  "index": "1.4016",
                  "USD": 1
                },
                {
                  "index": "1.2715",
                  "USD": 1
                },
                {
                  "index": "1.2744",
                  "USD": 1
                },
                {
                  "index": "1.2834",
                  "USD": 1
                },
                {
                  "index": "1.2700",
                  "USD": 1
                },
                {
                  "index": "1.2613",
                  "USD": 1
                },
                {
                  "index": "0.8936",
                  "USD": 1
                },
                {
                  "index": "0.8991",
                  "USD": 1
                },
                {
                  "index": "1.2836",
                  "USD": 1
                },
                {
                  "index": "1.2880",
                  "USD": 1
                },
                {
                  "index": "1.2799",
                  "USD": 1
                },
                {
                  "index": "0.8968",
                  "USD": 1
                },
                {
                  "index": "1.3253",
                  "USD": 1
                },
                {
                  "index": "0.9114",
                  "USD": 1
                },
                {
                  "index": "1.3221",
                  "USD": 1
                },
                {
                  "index": "1.3073",
                  "USD": 1
                },
                {
                  "index": "1.3028",
                  "USD": 1
                },
                {
                  "index": "0.9138",
                  "USD": 1
                },
                {
                  "index": "1.4031",
                  "USD": 1
                },
                {
                  "index": "0.8776",
                  "USD": 1
                },
                {
                  "index": "1.2897",
                  "USD": 1
                },
                {
                  "index": "0.8455",
                  "USD": 1
                },
                {
                  "index": "0.8453",
                  "USD": 1
                },
                {
                  "index": "1.3099",
                  "USD": 1
                },
                {
                  "index": "0.8497",
                  "USD": 1
                },
                {
                  "index": "1.3195",
                  "USD": 1
                },
                {
                  "index": "1.3362",
                  "USD": 1
                },
                {
                  "index": "1.3421",
                  "USD": 1
                },
                {
                  "index": "1.2903",
                  "USD": 1
                },
                {
                  "index": "1.3926",
                  "USD": 1
                },
                {
                  "index": "0.8622",
                  "USD": 1
                },
                {
                  "index": "1.3371",
                  "USD": 1
                },
                {
                  "index": "0.8607",
                  "USD": 1
                },
                {
                  "index": "0.8528",
                  "USD": 1
                },
                {
                  "index": "1.3521",
                  "USD": 1
                },
                {
                  "index": "1.3571",
                  "USD": 1
                },
                {
                  "index": "1.3112",
                  "USD": 1
                },
                {
                  "index": "0.8422",
                  "USD": 1
                },
                {
                  "index": "0.8384",
                  "USD": 1
                },
                {
                  "index": "0.8459",
                  "USD": 1
                },
                {
                  "index": "0.8545",
                  "USD": 1
                },
                {
                  "index": "1.2998",
                  "USD": 1
                },
                {
                  "index": "0.8538",
                  "USD": 1
                },
                {
                  "index": "0.8539",
                  "USD": 1
                },
                {
                  "index": "0.8516",
                  "USD": 1
                },
                {
                  "index": "1.3711",
                  "USD": 1
                },
                {
                  "index": "0.8630",
                  "USD": 1
                },
                {
                  "index": "1.3770",
                  "USD": 1
                },
                {
                  "index": "0.8723",
                  "USD": 1
                },
                {
                  "index": "1.4084",
                  "USD": 1
                },
                {
                  "index": "1.4244",
                  "USD": 1
                },
                {
                  "index": "1.4014",
                  "USD": 1
                },
                {
                  "index": "1.4018",
                  "USD": 1
                },
                {
                  "index": "0.9149",
                  "USD": 1
                },
                {
                  "index": "0.9128",
                  "USD": 1
                },
                {
                  "index": "1.3716",
                  "USD": 1
                },
                {
                  "index": "1.3756",
                  "USD": 1
                },
                {
                  "index": "0.9209",
                  "USD": 1
                },
                {
                  "index": "0.9189",
                  "USD": 1
                },
                {
                  "index": "0.9131",
                  "USD": 1
                },
                {
                  "index": "1.3657",
                  "USD": 1
                },
                {
                  "index": "0.9205",
                  "USD": 1
                },
                {
                  "index": "0.9176",
                  "USD": 1
                },
                {
                  "index": "1.3660",
                  "USD": 1
                },
                {
                  "index": "1.3585",
                  "USD": 1
                },
                {
                  "index": "0.9164",
                  "USD": 1
                },
                {
                  "index": "0.9200",
                  "USD": 1
                },
                {
                  "index": "0.9259",
                  "USD": 1
                },
                {
                  "index": "1.3353",
                  "USD": 1
                },
                {
                  "index": "1.3479",
                  "USD": 1
                },
                {
                  "index": "1.3468",
                  "USD": 1
                },
                {
                  "index": "0.9117",
                  "USD": 1
                },
                {
                  "index": "1.3570",
                  "USD": 1
                },
                {
                  "index": "1.3489",
                  "USD": 1
                },
                {
                  "index": "0.9174",
                  "USD": 1
                },
                {
                  "index": "0.9214",
                  "USD": 1
                },
                {
                  "index": "0.9136",
                  "USD": 1
                },
                {
                  "index": "0.9040",
                  "USD": 1
                },
                {
                  "index": "1.3718",
                  "USD": 1
                },
                {
                  "index": "1.3740",
                  "USD": 1
                },
                {
                  "index": "0.9022",
                  "USD": 1
                },
                {
                  "index": "0.9026",
                  "USD": 1
                },
                {
                  "index": "1.3691",
                  "USD": 1
                },
                {
                  "index": "1.3847",
                  "USD": 1
                },
                {
                  "index": "1.3984",
                  "USD": 1
                },
                {
                  "index": "1.3937",
                  "USD": 1
                },
                {
                  "index": "0.9009",
                  "USD": 1
                },
                {
                  "index": "1.3966",
                  "USD": 1
                },
                {
                  "index": "1.3396",
                  "USD": 1
                },
                {
                  "index": "1.3583",
                  "USD": 1
                },
                {
                  "index": "1.2703",
                  "USD": 1
                },
                {
                  "index": "0.9122",
                  "USD": 1
                },
                {
                  "index": "1.2360",
                  "USD": 1
                },
                {
                  "index": "0.9158",
                  "USD": 1
                },
                {
                  "index": "0.9095",
                  "USD": 1
                },
                {
                  "index": "1.1959",
                  "USD": 1
                },
                {
                  "index": "1.1942",
                  "USD": 1
                },
                {
                  "index": "1.2010",
                  "USD": 1
                },
                {
                  "index": "1.2363",
                  "USD": 1
                },
                {
                  "index": "1.3544",
                  "USD": 1
                },
                {
                  "index": "1.2391",
                  "USD": 1
                },
                {
                  "index": "0.9108",
                  "USD": 1
                },
                {
                  "index": "1.2328",
                  "USD": 1
                },
                {
                  "index": "0.9112",
                  "USD": 1
                },
                {
                  "index": "1.2637",
                  "USD": 1
                },
                {
                  "index": "1.2569",
                  "USD": 1
                },
                {
                  "index": "1.2497",
                  "USD": 1
                },
                {
                  "index": "1.2334",
                  "USD": 1
                },
                {
                  "index": "1.2270",
                  "USD": 1
                },
                {
                  "index": "0.8970",
                  "USD": 1
                },
                {
                  "index": "1.2349",
                  "USD": 1
                },
                {
                  "index": "0.8891",
                  "USD": 1
                },
                {
                  "index": "1.2686",
                  "USD": 1
                },
                {
                  "index": "1.2698",
                  "USD": 1
                },
                {
                  "index": "1.2969",
                  "USD": 1
                },
                {
                  "index": "0.8855",
                  "USD": 1
                },
                {
                  "index": "1.2924",
                  "USD": 1
                },
                {
                  "index": "0.8964",
                  "USD": 1
                },
                {
                  "index": "1.3256",
                  "USD": 1
                },
                {
                  "index": "1.3245",
                  "USD": 1
                },
                {
                  "index": "0.9060",
                  "USD": 1
                },
                {
                  "index": "0.9256",
                  "USD": 1
                },
                {
                  "index": "0.9258",
                  "USD": 1
                },
                {
                  "index": "1.3681",
                  "USD": 1
                },
                {
                  "index": "0.8563",
                  "USD": 1
                },
                {
                  "index": "1.4085",
                  "USD": 1
                },
                {
                  "index": "1.4487",
                  "USD": 1
                },
                {
                  "index": "1.4360",
                  "USD": 1
                },
                {
                  "index": "1.4477",
                  "USD": 1
                },
                {
                  "index": "1.4413",
                  "USD": 1
                },
                {
                  "index": "1.4462",
                  "USD": 1
                },
                {
                  "index": "1.4424",
                  "USD": 1
                },
                {
                  "index": "0.8754",
                  "USD": 1
                },
                {
                  "index": "1.4285",
                  "USD": 1
                },
                {
                  "index": "1.3636",
                  "USD": 1
                },
                {
                  "index": "1.4255",
                  "USD": 1
                },
                {
                  "index": "1.4126",
                  "USD": 1
                },
                {
                  "index": "1.4099",
                  "USD": 1
                },
                {
                  "index": "1.4036",
                  "USD": 1
                },
                {
                  "index": "1.4044",
                  "USD": 1
                },
                {
                  "index": "0.8777",
                  "USD": 1
                },
                {
                  "index": "1.4250",
                  "USD": 1
                },
                {
                  "index": "1.4367",
                  "USD": 1
                },
                {
                  "index": "1.4225",
                  "USD": 1
                },
                {
                  "index": "1.4155",
                  "USD": 1
                },
                {
                  "index": "1.4415",
                  "USD": 1
                },
                {
                  "index": "0.8685",
                  "USD": 1
                },
                {
                  "index": "1.4446",
                  "USD": 1
                },
                {
                  "index": "1.4471",
                  "USD": 1
                },
                {
                  "index": "1.4222",
                  "USD": 1
                },
                {
                  "index": "0.8585",
                  "USD": 1
                },
                {
                  "index": "1.4045",
                  "USD": 1
                },
                {
                  "index": "1.4073",
                  "USD": 1
                },
                {
                  "index": "1.4056",
                  "USD": 1
                },
                {
                  "index": "1.4242",
                  "USD": 1
                },
                {
                  "index": "1.4318",
                  "USD": 1
                },
                {
                  "index": "1.4461",
                  "USD": 1
                },
                {
                  "index": "1.4500",
                  "USD": 1
                },
                {
                  "index": "0.8815",
                  "USD": 1
                },
                {
                  "index": "1.3430",
                  "USD": 1
                },
                {
                  "index": "1.4425",
                  "USD": 1
                },
                {
                  "index": "0.8989",
                  "USD": 1
                },
                {
                  "index": "1.3616",
                  "USD": 1
                },
                {
                  "index": "1.3484",
                  "USD": 1
                },
                {
                  "index": "0.9013",
                  "USD": 1
                },
                {
                  "index": "0.9002",
                  "USD": 1
                },
                {
                  "index": "1.3458",
                  "USD": 1
                },
                {
                  "index": "1.3387",
                  "USD": 1
                },
                {
                  "index": "1.3336",
                  "USD": 1
                },
                {
                  "index": "1.3500",
                  "USD": 1
                },
                {
                  "index": "1.3492",
                  "USD": 1
                },
                {
                  "index": "1.3511",
                  "USD": 1
                },
                {
                  "index": "1.3442",
                  "USD": 1
                },
                {
                  "index": "1.3377",
                  "USD": 1
                },
                {
                  "index": "1.3410",
                  "USD": 1
                },
                {
                  "index": "1.3251",
                  "USD": 1
                },
                {
                  "index": "1.3742",
                  "USD": 1
                },
                {
                  "index": "1.4001",
                  "USD": 1
                },
                {
                  "index": "1.4038",
                  "USD": 1
                },
                {
                  "index": "0.8876",
                  "USD": 1
                },
                {
                  "index": "1.3918",
                  "USD": 1
                },
                {
                  "index": "1.3798",
                  "USD": 1
                },
                {
                  "index": "1.3828",
                  "USD": 1
                },
                {
                  "index": "0.8907",
                  "USD": 1
                },
                {
                  "index": "0.8939",
                  "USD": 1
                },
                {
                  "index": "0.8866",
                  "USD": 1
                },
                {
                  "index": "1.3766",
                  "USD": 1
                },
                {
                  "index": "0.8773",
                  "USD": 1
                },
                {
                  "index": "1.3434",
                  "USD": 1
                },
                {
                  "index": "1.3269",
                  "USD": 1
                },
                {
                  "index": "0.8745",
                  "USD": 1
                },
                {
                  "index": "0.8834",
                  "USD": 1
                },
                {
                  "index": "1.3503",
                  "USD": 1
                },
                {
                  "index": "1.4453",
                  "USD": 1
                },
                {
                  "index": "1.4261",
                  "USD": 1
                },
                {
                  "index": "1.3692",
                  "USD": 1
                },
                {
                  "index": "1.4115",
                  "USD": 1
                },
                {
                  "index": "1.3948",
                  "USD": 1
                },
                {
                  "index": "0.8478",
                  "USD": 1
                },
                {
                  "index": "1.3951",
                  "USD": 1
                },
                {
                  "index": "1.4194",
                  "USD": 1
                },
                {
                  "index": "1.4211",
                  "USD": 1
                },
                {
                  "index": "1.4128",
                  "USD": 1
                },
                {
                  "index": "1.4032",
                  "USD": 1
                },
                {
                  "index": "1.4275",
                  "USD": 1
                },
                {
                  "index": "1.4141",
                  "USD": 1
                },
                {
                  "index": "1.4240",
                  "USD": 1
                },
                {
                  "index": "1.4283",
                  "USD": 1
                },
                {
                  "index": "0.8558",
                  "USD": 1
                },
                {
                  "index": "1.4434",
                  "USD": 1
                },
                {
                  "index": "1.4470",
                  "USD": 1
                },
                {
                  "index": "1.3928",
                  "USD": 1
                },
                {
                  "index": "1.3898",
                  "USD": 1
                },
                {
                  "index": "1.4028",
                  "USD": 1
                },
                {
                  "index": "1.3957",
                  "USD": 1
                },
                {
                  "index": "0.8465",
                  "USD": 1
                },
                {
                  "index": "1.3825",
                  "USD": 1
                },
                {
                  "index": "0.8543",
                  "USD": 1
                },
                {
                  "index": "0.8466",
                  "USD": 1
                },
                {
                  "index": "0.8468",
                  "USD": 1
                },
                {
                  "index": "0.8494",
                  "USD": 1
                },
                {
                  "index": "1.3560",
                  "USD": 1
                },
                {
                  "index": "0.8542",
                  "USD": 1
                },
                {
                  "index": "1.3524",
                  "USD": 1
                },
                {
                  "index": "0.8492",
                  "USD": 1
                },
                {
                  "index": "1.3553",
                  "USD": 1
                },
                {
                  "index": "0.8662",
                  "USD": 1
                },
                {
                  "index": "0.8581",
                  "USD": 1
                },
                {
                  "index": "1.4493",
                  "USD": 1
                },
                {
                  "index": "1.4302",
                  "USD": 1
                },
                {
                  "index": "1.4205",
                  "USD": 1
                },
                {
                  "index": "1.4614",
                  "USD": 1
                },
                {
                  "index": "1.4168",
                  "USD": 1
                },
                {
                  "index": "1.4408",
                  "USD": 1
                },
                {
                  "index": "1.4460",
                  "USD": 1
                },
                {
                  "index": "1.4596",
                  "USD": 1
                },
                {
                  "index": "1.4652",
                  "USD": 1
                },
                {
                  "index": "1.4608",
                  "USD": 1
                },
                {
                  "index": "1.4354",
                  "USD": 1
                },
                {
                  "index": "1.4515",
                  "USD": 1
                },
                {
                  "index": "1.4448",
                  "USD": 1
                },
                {
                  "index": "1.4292",
                  "USD": 1
                },
                {
                  "index": "1.4088",
                  "USD": 1
                },
                {
                  "index": "1.4235",
                  "USD": 1
                },
                {
                  "index": "1.4373",
                  "USD": 1
                },
                {
                  "index": "1.4212",
                  "USD": 1
                },
                {
                  "index": "1.4069",
                  "USD": 1
                },
                {
                  "index": "1.4020",
                  "USD": 1
                },
                {
                  "index": "1.4237",
                  "USD": 1
                },
                {
                  "index": "0.8604",
                  "USD": 1
                },
                {
                  "index": "1.4171",
                  "USD": 1
                },
                {
                  "index": "1.4280",
                  "USD": 1
                },
                {
                  "index": "1.4153",
                  "USD": 1
                },
                {
                  "index": "1.4358",
                  "USD": 1
                },
                {
                  "index": "0.8584",
                  "USD": 1
                },
                {
                  "index": "1.4501",
                  "USD": 1
                },
                {
                  "index": "1.4882",
                  "USD": 1
                },
                {
                  "index": "1.4837",
                  "USD": 1
                },
                {
                  "index": "1.4860",
                  "USD": 1
                },
                {
                  "index": "1.4794",
                  "USD": 1
                },
                {
                  "index": "1.4668",
                  "USD": 1
                },
                {
                  "index": "1.4617",
                  "USD": 1
                },
                {
                  "index": "1.4584",
                  "USD": 1
                },
                {
                  "index": "1.3999",
                  "USD": 1
                },
                {
                  "index": "1.4135",
                  "USD": 1
                },
                {
                  "index": "1.5990",
                  "USD": 1
                },
                {
                  "index": "1.3332",
                  "USD": 1
                },
                {
                  "index": "0.8792",
                  "USD": 1
                },
                {
                  "index": "1.4005",
                  "USD": 1
                },
                {
                  "index": "0.8734",
                  "USD": 1
                },
                {
                  "index": "0.8733",
                  "USD": 1
                },
                {
                  "index": "0.8741",
                  "USD": 1
                },
                {
                  "index": "0.8797",
                  "USD": 1
                },
                {
                  "index": "0.8712",
                  "USD": 1
                },
                {
                  "index": "1.2849",
                  "USD": 1
                },
                {
                  "index": "1.3617",
                  "USD": 1
                },
                {
                  "index": "0.8679",
                  "USD": 1
                },
                {
                  "index": "0.8651",
                  "USD": 1
                },
                {
                  "index": "1.3182",
                  "USD": 1
                },
                {
                  "index": "0.8747",
                  "USD": 1
                },
                {
                  "index": "1.3174",
                  "USD": 1
                },
                {
                  "index": "0.8829",
                  "USD": 1
                },
                {
                  "index": "0.8814",
                  "USD": 1
                },
                {
                  "index": "0.8759",
                  "USD": 1
                },
                {
                  "index": "1.4059",
                  "USD": 1
                },
                {
                  "index": "0.8737",
                  "USD": 1
                },
                {
                  "index": "0.8746",
                  "USD": 1
                },
                {
                  "index": "0.8880",
                  "USD": 1
                },
                {
                  "index": "0.8882",
                  "USD": 1
                },
                {
                  "index": "1.2838",
                  "USD": 1
                },
                {
                  "index": "1.2620",
                  "USD": 1
                },
                {
                  "index": "1.2623",
                  "USD": 1
                },
                {
                  "index": "1.2608",
                  "USD": 1
                },
                {
                  "index": "0.8872",
                  "USD": 1
                },
                {
                  "index": "1.2900",
                  "USD": 1
                },
                {
                  "index": "0.8892",
                  "USD": 1
                },
                {
                  "index": "1.2811",
                  "USD": 1
                },
                {
                  "index": "0.8971",
                  "USD": 1
                },
                {
                  "index": "1.3111",
                  "USD": 1
                },
                {
                  "index": "1.2829",
                  "USD": 1
                },
                {
                  "index": "1.2542",
                  "USD": 1
                },
                {
                  "index": "1.3196",
                  "USD": 1
                },
                {
                  "index": "1.3308",
                  "USD": 1
                },
                {
                  "index": "0.8644",
                  "USD": 1
                },
                {
                  "index": "0.8632",
                  "USD": 1
                },
                {
                  "index": "0.8637",
                  "USD": 1
                },
                {
                  "index": "1.3255",
                  "USD": 1
                },
                {
                  "index": "0.8642",
                  "USD": 1
                },
                {
                  "index": "0.8624",
                  "USD": 1
                },
                {
                  "index": "0.8701",
                  "USD": 1
                },
                {
                  "index": "1.3125",
                  "USD": 1
                },
                {
                  "index": "0.8578",
                  "USD": 1
                },
                {
                  "index": "0.8663",
                  "USD": 1
                },
                {
                  "index": "0.8767",
                  "USD": 1
                },
                {
                  "index": "1.3223",
                  "USD": 1
                },
                {
                  "index": "1.3322",
                  "USD": 1
                },
                {
                  "index": "0.8683",
                  "USD": 1
                },
                {
                  "index": "1.3671",
                  "USD": 1
                },
                {
                  "index": "1.3130",
                  "USD": 1
                },
                {
                  "index": "0.8740",
                  "USD": 1
                },
                {
                  "index": "1.2786",
                  "USD": 1
                },
                {
                  "index": "1.2783",
                  "USD": 1
                },
                {
                  "index": "0.8753",
                  "USD": 1
                },
                {
                  "index": "1.2658",
                  "USD": 1
                },
                {
                  "index": "0.8731",
                  "USD": 1
                },
                {
                  "index": "1.2615",
                  "USD": 1
                },
                {
                  "index": "1.2644",
                  "USD": 1
                },
                {
                  "index": "0.8705",
                  "USD": 1
                },
                {
                  "index": "0.8715",
                  "USD": 1
                },
                {
                  "index": "1.2765",
                  "USD": 1
                },
                {
                  "index": "0.8692",
                  "USD": 1
                },
                {
                  "index": "1.2833",
                  "USD": 1
                },
                {
                  "index": "0.8743",
                  "USD": 1
                },
                {
                  "index": "1.2602",
                  "USD": 1
                },
                {
                  "index": "1.2525",
                  "USD": 1
                },
                {
                  "index": "1.3683",
                  "USD": 1
                },
                {
                  "index": "1.4734",
                  "USD": 1
                },
                {
                  "index": "0.9459",
                  "USD": 1
                },
                {
                  "index": "1.5012",
                  "USD": 1
                },
                {
                  "index": "1.4903",
                  "USD": 1
                },
                {
                  "index": "1.4729",
                  "USD": 1
                },
                {
                  "index": "1.4704",
                  "USD": 1
                },
                {
                  "index": "1.4677",
                  "USD": 1
                },
                {
                  "index": "1.4808",
                  "USD": 1
                },
                {
                  "index": "1.4144",
                  "USD": 1
                },
                {
                  "index": "0.9386",
                  "USD": 1
                },
                {
                  "index": "1.4598",
                  "USD": 1
                },
                {
                  "index": "1.4771",
                  "USD": 1
                },
                {
                  "index": "1.4735",
                  "USD": 1
                },
                {
                  "index": "1.4441",
                  "USD": 1
                },
                {
                  "index": "0.9371",
                  "USD": 1
                },
                {
                  "index": "1.5471",
                  "USD": 1
                },
                {
                  "index": "1.5478",
                  "USD": 1
                },
                {
                  "index": "1.5487",
                  "USD": 1
                },
                {
                  "index": "1.5566",
                  "USD": 1
                },
                {
                  "index": "1.5574",
                  "USD": 1
                },
                {
                  "index": "1.5611",
                  "USD": 1
                },
                {
                  "index": "1.5589",
                  "USD": 1
                },
                {
                  "index": "1.5705",
                  "USD": 1
                },
                {
                  "index": "1.5746",
                  "USD": 1
                },
                {
                  "index": "1.5734",
                  "USD": 1
                },
                {
                  "index": "1.5677",
                  "USD": 1
                },
                {
                  "index": "1.5741",
                  "USD": 1
                },
                {
                  "index": "1.5919",
                  "USD": 1
                },
                {
                  "index": "1.5858",
                  "USD": 1
                },
                {
                  "index": "1.5816",
                  "USD": 1
                },
                {
                  "index": "1.5849",
                  "USD": 1
                },
                {
                  "index": "1.5888",
                  "USD": 1
                },
                {
                  "index": "1.4214",
                  "USD": 1
                },
                {
                  "index": "1.4094",
                  "USD": 1
                },
                {
                  "index": "0.9008",
                  "USD": 1
                },
                {
                  "index": "0.9061",
                  "USD": 1
                },
                {
                  "index": "0.9260",
                  "USD": 1
                },
                {
                  "index": "0.9152",
                  "USD": 1
                },
                {
                  "index": "0.9124",
                  "USD": 1
                },
                {
                  "index": "1.3625",
                  "USD": 1
                },
                {
                  "index": "1.3424",
                  "USD": 1
                },
                {
                  "index": "0.9030",
                  "USD": 1
                },
                {
                  "index": "0.9088",
                  "USD": 1
                },
                {
                  "index": "0.9435",
                  "USD": 1
                },
                {
                  "index": "1.2460",
                  "USD": 1
                },
                {
                  "index": "1.2526",
                  "USD": 1
                },
                {
                  "index": "1.2822",
                  "USD": 1
                },
                {
                  "index": "1.2870",
                  "USD": 1
                },
                {
                  "index": "0.9083",
                  "USD": 1
                },
                {
                  "index": "1.2747",
                  "USD": 1
                },
                {
                  "index": "1.3682",
                  "USD": 1
                },
                {
                  "index": "0.9188",
                  "USD": 1
                },
                {
                  "index": "0.9190",
                  "USD": 1
                },
                {
                  "index": "0.9255",
                  "USD": 1
                },
                {
                  "index": "1.3903",
                  "USD": 1
                },
                {
                  "index": "1.4081",
                  "USD": 1
                },
                {
                  "index": "0.9320",
                  "USD": 1
                },
                {
                  "index": "1.4640",
                  "USD": 1
                },
                {
                  "index": "1.4690",
                  "USD": 1
                },
                {
                  "index": "1.4731",
                  "USD": 1
                },
                {
                  "index": "1.4571",
                  "USD": 1
                },
                {
                  "index": "1.4236",
                  "USD": 1
                },
                {
                  "index": "1.4502",
                  "USD": 1
                },
                {
                  "index": "1.4224",
                  "USD": 1
                },
                {
                  "index": "0.9375",
                  "USD": 1
                },
                {
                  "index": "0.9387",
                  "USD": 1
                },
                {
                  "index": "0.9313",
                  "USD": 1
                },
                {
                  "index": "0.8856",
                  "USD": 1
                },
                {
                  "index": "1.3623",
                  "USD": 1
                },
                {
                  "index": "1.4064",
                  "USD": 1
                },
                {
                  "index": "1.4984",
                  "USD": 1
                },
                {
                  "index": "1.5019",
                  "USD": 1
                },
                {
                  "index": "1.4788",
                  "USD": 1
                },
                {
                  "index": "1.4800",
                  "USD": 1
                },
                {
                  "index": "1.4772",
                  "USD": 1
                },
                {
                  "index": "1.4867",
                  "USD": 1
                },
                {
                  "index": "1.4862",
                  "USD": 1
                },
                {
                  "index": "1.4966",
                  "USD": 1
                },
                {
                  "index": "1.4815",
                  "USD": 1
                },
                {
                  "index": "1.5037",
                  "USD": 1
                },
                {
                  "index": "1.4922",
                  "USD": 1
                },
                {
                  "index": "1.4868",
                  "USD": 1
                },
                {
                  "index": "1.4965",
                  "USD": 1
                },
                {
                  "index": "1.4875",
                  "USD": 1
                },
                {
                  "index": "1.4957",
                  "USD": 1
                },
                {
                  "index": "1.5020",
                  "USD": 1
                },
                {
                  "index": "1.5000",
                  "USD": 1
                },
                {
                  "index": "1.4921",
                  "USD": 1
                },
                {
                  "index": "1.4971",
                  "USD": 1
                },
                {
                  "index": "0.9005",
                  "USD": 1
                },
                {
                  "index": "1.4869",
                  "USD": 1
                },
                {
                  "index": "1.4881",
                  "USD": 1
                },
                {
                  "index": "1.4765",
                  "USD": 1
                },
                {
                  "index": "1.4750",
                  "USD": 1
                },
                {
                  "index": "1.4763",
                  "USD": 1
                },
                {
                  "index": "1.4694",
                  "USD": 1
                },
                {
                  "index": "1.4537",
                  "USD": 1
                },
                {
                  "index": "1.4539",
                  "USD": 1
                },
                {
                  "index": "1.4643",
                  "USD": 1
                },
                {
                  "index": "1.4549",
                  "USD": 1
                },
                {
                  "index": "1.4650",
                  "USD": 1
                },
                {
                  "index": "1.4670",
                  "USD": 1
                },
                {
                  "index": "1.4863",
                  "USD": 1
                },
                {
                  "index": "1.4968",
                  "USD": 1
                },
                {
                  "index": "1.4783",
                  "USD": 1
                },
                {
                  "index": "1.4350",
                  "USD": 1
                },
                {
                  "index": "1.4405",
                  "USD": 1
                },
                {
                  "index": "0.8917",
                  "USD": 1
                },
                {
                  "index": "1.4338",
                  "USD": 1
                },
                {
                  "index": "1.4406",
                  "USD": 1
                },
                {
                  "index": "1.4389",
                  "USD": 1
                },
                {
                  "index": "1.4442",
                  "USD": 1
                },
                {
                  "index": "1.4304",
                  "USD": 1
                },
                {
                  "index": "1.4969",
                  "USD": 1
                },
                {
                  "index": "1.4273",
                  "USD": 1
                },
                {
                  "index": "1.4528",
                  "USD": 1
                },
                {
                  "index": "1.4481",
                  "USD": 1
                },
                {
                  "index": "1.4563",
                  "USD": 1
                },
                {
                  "index": "1.4374",
                  "USD": 1
                },
                {
                  "index": "1.4132",
                  "USD": 1
                },
                {
                  "index": "1.4276",
                  "USD": 1
                },
                {
                  "index": "1.4368",
                  "USD": 1
                },
                {
                  "index": "1.4337",
                  "USD": 1
                },
                {
                  "index": "1.4343",
                  "USD": 1
                },
                {
                  "index": "1.4560",
                  "USD": 1
                },
                {
                  "index": "1.4541",
                  "USD": 1
                },
                {
                  "index": "1.4647",
                  "USD": 1
                },
                {
                  "index": "1.4757",
                  "USD": 1
                },
                {
                  "index": "1.4730",
                  "USD": 1
                },
                {
                  "index": "1.4774",
                  "USD": 1
                },
                {
                  "index": "1.4787",
                  "USD": 1
                },
                {
                  "index": "1.5068",
                  "USD": 1
                },
                {
                  "index": "1.5120",
                  "USD": 1
                },
                {
                  "index": "1.5090",
                  "USD": 1
                },
                {
                  "index": "1.5023",
                  "USD": 1
                },
                {
                  "index": "1.5071",
                  "USD": 1
                },
                {
                  "index": "1.5083",
                  "USD": 1
                },
                {
                  "index": "0.9014",
                  "USD": 1
                },
                {
                  "index": "0.8930",
                  "USD": 1
                },
                {
                  "index": "0.8830",
                  "USD": 1
                },
                {
                  "index": "1.4134",
                  "USD": 1
                },
                {
                  "index": "0.8823",
                  "USD": 1
                },
                {
                  "index": "1.3920",
                  "USD": 1
                },
                {
                  "index": "1.3932",
                  "USD": 1
                },
                {
                  "index": "1.3858",
                  "USD": 1
                },
                {
                  "index": "1.4029",
                  "USD": 1
                },
                {
                  "index": "1.4058",
                  "USD": 1
                },
                {
                  "index": "1.4009",
                  "USD": 1
                },
                {
                  "index": "1.4191",
                  "USD": 1
                },
                {
                  "index": "1.4019",
                  "USD": 1
                },
                {
                  "index": "1.3990",
                  "USD": 1
                },
                {
                  "index": "1.3991",
                  "USD": 1
                },
                {
                  "index": "0.8983",
                  "USD": 1
                },
                {
                  "index": "0.9049",
                  "USD": 1
                },
                {
                  "index": "1.4217",
                  "USD": 1
                },
                {
                  "index": "1.3890",
                  "USD": 1
                },
                {
                  "index": "0.8813",
                  "USD": 1
                },
                {
                  "index": "1.3969",
                  "USD": 1
                },
                {
                  "index": "1.4102",
                  "USD": 1
                },
                {
                  "index": "1.3959",
                  "USD": 1
                },
                {
                  "index": "1.4177",
                  "USD": 1
                },
                {
                  "index": "1.4095",
                  "USD": 1
                },
                {
                  "index": "0.9036",
                  "USD": 1
                },
                {
                  "index": "1.4238",
                  "USD": 1
                },
                {
                  "index": "0.8954",
                  "USD": 1
                },
                {
                  "index": "0.8905",
                  "USD": 1
                },
                {
                  "index": "0.8921",
                  "USD": 1
                },
                {
                  "index": "1.3908",
                  "USD": 1
                },
                {
                  "index": "1.4010",
                  "USD": 1
                },
                {
                  "index": "1.3972",
                  "USD": 1
                },
                {
                  "index": "0.8927",
                  "USD": 1
                },
                {
                  "index": "0.8819",
                  "USD": 1
                },
                {
                  "index": "1.4223",
                  "USD": 1
                },
                {
                  "index": "0.9016",
                  "USD": 1
                },
                {
                  "index": "0.8842",
                  "USD": 1
                },
                {
                  "index": "1.4473",
                  "USD": 1
                },
                {
                  "index": "1.4268",
                  "USD": 1
                },
                {
                  "index": "1.4364",
                  "USD": 1
                },
                {
                  "index": "0.8825",
                  "USD": 1
                },
                {
                  "index": "1.4314",
                  "USD": 1
                },
                {
                  "index": "1.4335",
                  "USD": 1
                },
                {
                  "index": "1.4262",
                  "USD": 1
                },
                {
                  "index": "1.4522",
                  "USD": 1
                },
                {
                  "index": "0.8975",
                  "USD": 1
                },
                {
                  "index": "1.4545",
                  "USD": 1
                },
                {
                  "index": "1.4594",
                  "USD": 1
                },
                {
                  "index": "1.4561",
                  "USD": 1
                },
                {
                  "index": "1.4611",
                  "USD": 1
                },
                {
                  "index": "1.4671",
                  "USD": 1
                },
                {
                  "index": "1.4712",
                  "USD": 1
                },
                {
                  "index": "1.4324",
                  "USD": 1
                },
                {
                  "index": "1.4323",
                  "USD": 1
                },
                {
                  "index": "0.8824",
                  "USD": 1
                },
                {
                  "index": "1.4243",
                  "USD": 1
                },
                {
                  "index": "1.4112",
                  "USD": 1
                },
                {
                  "index": "0.8831",
                  "USD": 1
                },
                {
                  "index": "1.4294",
                  "USD": 1
                },
                {
                  "index": "1.4293",
                  "USD": 1
                },
                {
                  "index": "0.8898",
                  "USD": 1
                },
                {
                  "index": "0.8925",
                  "USD": 1
                },
                {
                  "index": "0.8938",
                  "USD": 1
                },
                {
                  "index": "1.4370",
                  "USD": 1
                },
                {
                  "index": "1.4410",
                  "USD": 1
                },
                {
                  "index": "1.4138",
                  "USD": 1
                },
                {
                  "index": "1.4053",
                  "USD": 1
                },
                {
                  "index": "1.4104",
                  "USD": 1
                },
                {
                  "index": "1.4269",
                  "USD": 1
                },
                {
                  "index": "0.9891",
                  "USD": 1
                }
              ],
              "datalink": {
                "display_id": "bff5f3d8-3237-455c-8281-1d66ac258b4e"
              }
            }
          },
          "metadata": {
            "application/vnd.dataresource+json": {
              "datalink": {
                "dataframe_info": {
                  "default_index_used": false,
                  "orig_size_bytes": 58800,
                  "orig_num_rows": 3675,
                  "orig_num_cols": 1,
                  "truncated_string_columns": [],
                  "truncated_size_bytes": 58800,
                  "truncated_num_rows": 3675,
                  "truncated_num_cols": 1
                },
                "dx_settings": {
                  "NUM_PAST_SAMPLES_TRACKED": 3,
                  "ENABLE_DATALINK": true,
                  "DISPLAY_MODE": "simple",
                  "GENERATE_DEX_METADATA": false,
                  "STRINGIFY_INDEX_VALUES": false,
                  "ALLOW_NOTEABLE_ATTRS": true,
                  "DISPLAY_MAX_COLUMNS": 100,
                  "HTML_TABLE_SCHEMA": false,
                  "SAMPLING_FACTOR": 0.1,
                  "LOG_LEVEL": 30,
                  "ENABLE_ASSIGNMENT": true,
                  "FLATTEN_INDEX_VALUES": false,
                  "DEV_MODE": false,
                  "COLUMN_SAMPLING_METHOD": "outer",
                  "FLATTEN_COLUMN_VALUES": true,
                  "DISPLAY_MAX_ROWS": 50000,
                  "ROW_SAMPLING_METHOD": "random",
                  "RANDOM_STATE": 12648430,
                  "DB_LOCATION": ":memory:",
                  "STRINGIFY_COLUMN_VALUES": true,
                  "SAMPLING_METHOD": "random",
                  "MAX_STRING_LENGTH": 250,
                  "MAX_RENDER_SIZE_BYTES": 104857600,
                  "RESET_INDEX_VALUES": false
                },
                "display_id": "bff5f3d8-3237-455c-8281-1d66ac258b4e",
                "applied_filters": [],
                "sample_history": [],
                "sampling_time": "2023-06-05T20:01:38.138117",
                "variable_name": "unk_dataframe_01668d3920274e6ea373204602f60288",
                "user_variable_name": null
              },
              "display_id": "bff5f3d8-3237-455c-8281-1d66ac258b4e"
            }
          }
        }
      ],
      "execution_count": null,
      "metadata": {
        "noteable": {},
        "ExecuteTime": {
          "start_time": "2023-06-05T20:01:38.090072+00:00",
          "end_time": "2023-06-05T20:01:38.304102+00:00"
        },
        "datalink": {
          "bff5f3d8-3237-455c-8281-1d66ac258b4e": {
            "dataframe_info": {
              "default_index_used": false,
              "orig_size_bytes": 58800,
              "orig_num_rows": 3675,
              "orig_num_cols": 1,
              "truncated_string_columns": [],
              "truncated_size_bytes": 58800,
              "truncated_num_rows": 3675,
              "truncated_num_cols": 1
            },
            "dx_settings": {
              "LOG_LEVEL": 30,
              "DEV_MODE": false,
              "DISPLAY_MAX_ROWS": 50000,
              "DISPLAY_MAX_COLUMNS": 100,
              "HTML_TABLE_SCHEMA": false,
              "MAX_RENDER_SIZE_BYTES": 104857600,
              "MAX_STRING_LENGTH": 250,
              "SAMPLING_FACTOR": 0.1,
              "DISPLAY_MODE": "simple",
              "SAMPLING_METHOD": "random",
              "COLUMN_SAMPLING_METHOD": "outer",
              "ROW_SAMPLING_METHOD": "random",
              "RANDOM_STATE": 12648430,
              "RESET_INDEX_VALUES": false,
              "FLATTEN_INDEX_VALUES": false,
              "FLATTEN_COLUMN_VALUES": true,
              "STRINGIFY_INDEX_VALUES": false,
              "STRINGIFY_COLUMN_VALUES": true,
              "ENABLE_DATALINK": true,
              "ENABLE_ASSIGNMENT": true,
              "NUM_PAST_SAMPLES_TRACKED": 3,
              "DB_LOCATION": ":memory:",
              "GENERATE_DEX_METADATA": false,
              "ALLOW_NOTEABLE_ATTRS": true
            },
            "display_id": "bff5f3d8-3237-455c-8281-1d66ac258b4e",
            "applied_filters": [],
            "sample_history": [],
            "sampling_time": "2023-06-05T20:01:38.138117",
            "variable_name": "unk_dataframe_01668d3920274e6ea373204602f60288",
            "user_variable_name": null
          }
        }
      },
      "id": "fb089e32"
    },
    {
      "cell_type": "code",
      "source": [
        "euro_to_dollar = euro_to_dollar[euro_to_dollar['USD'] != '-']\n",
        "euro_to_dollar['USD'] = euro_to_dollar['USD'].astype(float)\n",
        "euro_to_dollar.info()"
      ],
      "outputs": [
        {
          "output_type": "stream",
          "name": "stdout",
          "text": [
            "<class 'pandas.core.frame.DataFrame'>\n",
            "Int64Index: 6085 entries, 0 to 6146\n",
            "Data columns (total 2 columns):\n",
            " #   Column  Non-Null Count  Dtype         \n",
            "---  ------  --------------  -----         \n",
            " 0   Time    6085 non-null   datetime64[ns]\n",
            " 1   USD     6085 non-null   float64       \n",
            "dtypes: datetime64[ns](1), float64(1)\n",
            "memory usage: 142.6 KB\n"
          ]
        }
      ],
      "execution_count": null,
      "metadata": {
        "noteable": {},
        "ExecuteTime": {
          "start_time": "2023-06-05T20:01:41.353540+00:00",
          "end_time": "2023-06-05T20:01:41.520691+00:00"
        }
      },
      "id": "58855e25"
    },
    {
      "cell_type": "code",
      "source": [
        "import matplotlib.pyplot as plt\n",
        "%matplotlib inline\n",
        "\n",
        "plt.plot(euro_to_dollar['Time'],euro_to_dollar['USD'])\n",
        "plt.show()"
      ],
      "outputs": [
        {
          "output_type": "display_data",
          "data": {
            "image/png": "[encoded data removed]"
          },
          "metadata": {}
        }
      ],
      "execution_count": null,
      "metadata": {
        "noteable": {},
        "ExecuteTime": {
          "start_time": "2023-06-05T20:01:43.670077+00:00",
          "end_time": "2023-06-05T20:01:45.610075+00:00"
        }
      },
      "id": "d70daa72"
    },
    {
      "cell_type": "code",
      "source": [
        "euro_to_dollar['rolling_mean'] = euro_to_dollar['USD'].rolling(30).mean()\n",
        "plt.plot(euro_to_dollar['Time'],euro_to_dollar['rolling_mean'])"
      ],
      "outputs": [
        {
          "output_type": "execute_result",
          "execution_count": null,
          "data": {
            "text/plain": "[<matplotlib.lines.Line2D at 0x7f4771d0f490>]"
          },
          "metadata": {}
        },
        {
          "output_type": "display_data",
          "data": {
            "image/png": "[encoded data removed]"
          },
          "metadata": {}
        }
      ],
      "execution_count": null,
      "metadata": {
        "noteable": {},
        "ExecuteTime": {
          "start_time": "2023-06-05T20:01:48.242230+00:00",
          "end_time": "2023-06-05T20:01:48.829147+00:00"
        }
      },
      "id": "075028bf"
    },
    {
      "cell_type": "markdown",
      "source": [
        "USD worth more than EUR for the first time in 20 years "
      ],
      "metadata": {},
      "id": "77689660"
    },
    {
      "cell_type": "code",
      "source": [
        "UsdOverEur = euro_to_dollar.copy()[euro_to_dollar['USD'] < 1]\n",
        "print(UsdOverEur)"
      ],
      "outputs": [
        {
          "output_type": "stream",
          "name": "stdout",
          "text": [
            "           Time     USD  rolling_mean\n",
            "278  2000-01-27  0.9976      1.014457\n",
            "279  2000-01-28  0.9848      1.013463\n",
            "280  2000-01-31  0.9791      1.012340\n",
            "281  2000-02-01  0.9710      1.011053\n",
            "282  2000-02-02  0.9717      1.009830\n",
            "283  2000-02-03  0.9748      1.008743\n",
            "284  2000-02-04  0.9835      1.007897\n",
            "285  2000-02-07  0.9767      1.006647\n",
            "286  2000-02-08  0.9903      1.005877\n",
            "287  2000-02-09  0.9934      1.005360\n",
            "288  2000-02-10  0.9868      1.004680\n",
            "289  2000-02-11  0.9801      1.003863\n",
            "290  2000-02-14  0.9867      1.003120\n",
            "291  2000-02-15  0.9778      1.001363\n",
            "292  2000-02-16  0.9804      0.999483\n",
            "293  2000-02-17  0.9919      0.997920\n",
            "294  2000-02-18  0.9857      0.996497\n",
            "295  2000-02-21  0.9857      0.995257\n",
            "298  2000-02-24  0.9898      0.992417\n",
            "299  2000-02-25  0.9813      0.991043\n",
            "300  2000-02-28  0.9639      0.989527\n",
            "301  2000-02-29  0.9714      0.988263\n",
            "302  2000-03-01  0.9667      0.986803\n",
            "303  2000-03-02  0.9725      0.985590\n",
            "304  2000-03-03  0.9659      0.984130\n",
            "305  2000-03-06  0.9640      0.982840\n",
            "306  2000-03-07  0.9593      0.981457\n",
            "307  2000-03-08  0.9543      0.979870\n",
            "308  2000-03-09  0.9616      0.978670\n",
            "309  2000-03-10  0.9613      0.977887\n",
            "310  2000-03-13  0.9716      0.977637\n",
            "311  2000-03-14  0.9620      0.977337\n",
            "312  2000-03-15  0.9647      0.977103\n",
            "313  2000-03-16  0.9663      0.976820\n",
            "314  2000-03-17  0.9672      0.976277\n",
            "315  2000-03-20  0.9715      0.976103\n",
            "316  2000-03-21  0.9701      0.975430\n",
            "317  2000-03-22  0.9603      0.974327\n",
            "318  2000-03-23  0.9656      0.973620\n",
            "319  2000-03-24  0.9715      0.973333\n",
            "320  2000-03-27  0.9712      0.972817\n",
            "321  2000-03-28  0.9647      0.972380\n",
            "322  2000-03-29  0.9568      0.971593\n",
            "323  2000-03-30  0.9555      0.970380\n",
            "324  2000-03-31  0.9553      0.969367\n",
            "325  2000-04-03  0.9564      0.968390\n",
            "326  2000-04-04  0.9538      0.966777\n",
            "327  2000-04-05  0.9673      0.965460\n",
            "328  2000-04-06  0.9625      0.964550\n",
            "329  2000-04-07  0.9564      0.963720\n",
            "330  2000-04-10  0.9590      0.963557\n",
            "331  2000-04-11  0.9594      0.963157\n",
            "332  2000-04-12  0.9576      0.962853\n",
            "333  2000-04-13  0.9537      0.962227\n",
            "334  2000-04-14  0.9540      0.961830\n",
            "335  2000-04-17  0.9573      0.961607\n",
            "336  2000-04-18  0.9497      0.961287\n",
            "337  2000-04-19  0.9461      0.961013\n",
            "338  2000-04-20  0.9376      0.960213\n",
            "341  2000-04-25  0.9302      0.959177\n",
            "342  2000-04-26  0.9193      0.957433\n",
            "343  2000-04-27  0.9163      0.955910\n",
            "344  2000-04-28  0.9085      0.954037\n",
            "346  2000-05-02  0.9116      0.952213\n",
            "347  2000-05-03  0.8913      0.949683\n",
            "348  2000-05-04  0.8947      0.947123\n",
            "349  2000-05-05  0.8984      0.944733\n",
            "350  2000-05-08  0.8952      0.942563\n",
            "351  2000-05-09  0.8978      0.940303\n",
            "352  2000-05-10  0.9107      0.938277\n",
            "353  2000-05-11  0.9079      0.936167\n",
            "354  2000-05-12  0.9029      0.934107\n",
            "355  2000-05-15  0.9147      0.932703\n",
            "356  2000-05-16  0.9065      0.931070\n",
            "357  2000-05-17  0.8922      0.928967\n",
            "358  2000-05-18  0.8942      0.926893\n",
            "359  2000-05-19  0.8875      0.924683\n",
            "360  2000-05-22  0.9000      0.922440\n",
            "361  2000-05-23  0.9111      0.920727\n",
            "362  2000-05-24  0.9098      0.919173\n",
            "363  2000-05-25  0.8981      0.917143\n",
            "364  2000-05-26  0.9143      0.915640\n",
            "365  2000-05-29  0.9262      0.914593\n",
            "366  2000-05-30  0.9359      0.914000\n",
            "367  2000-05-31  0.9303      0.913210\n",
            "368  2000-06-01  0.9330      0.912400\n",
            "369  2000-06-02  0.9355      0.911927\n",
            "370  2000-06-05  0.9433      0.911833\n",
            "371  2000-06-06  0.9485      0.912197\n",
            "372  2000-06-07  0.9554      0.913037\n",
            "373  2000-06-08  0.9668      0.914620\n",
            "374  2000-06-09  0.9490      0.915710\n",
            "375  2000-06-12  0.9527      0.917183\n",
            "376  2000-06-13  0.9583      0.918740\n",
            "377  2000-06-14  0.9636      0.921150\n",
            "378  2000-06-15  0.9524      0.923073\n",
            "379  2000-06-16  0.9565      0.925010\n",
            "380  2000-06-19  0.9640      0.927303\n",
            "381  2000-06-20  0.9538      0.929170\n",
            "382  2000-06-21  0.9470      0.930380\n",
            "383  2000-06-22  0.9405      0.931467\n",
            "384  2000-06-23  0.9413      0.932747\n",
            "385  2000-06-26  0.9327      0.933347\n",
            "386  2000-06-27  0.9401      0.934467\n",
            "387  2000-06-28  0.9415      0.936110\n",
            "388  2000-06-29  0.9504      0.937983\n",
            "389  2000-06-30  0.9556      0.940253\n",
            "390  2000-07-03  0.9493      0.941897\n",
            "391  2000-07-04  0.9487      0.943150\n",
            "392  2000-07-05  0.9537      0.944613\n",
            "393  2000-07-06  0.9542      0.946483\n",
            "394  2000-07-07  0.9483      0.947617\n",
            "395  2000-07-10  0.9523      0.948487\n",
            "396  2000-07-11  0.9527      0.949047\n",
            "397  2000-07-12  0.9499      0.949700\n",
            "398  2000-07-13  0.9349      0.949763\n",
            "399  2000-07-14  0.9344      0.949727\n",
            "400  2000-07-17  0.9352      0.949457\n",
            "401  2000-07-18  0.9353      0.949017\n",
            "402  2000-07-19  0.9216      0.947890\n",
            "403  2000-07-20  0.9220      0.946397\n",
            "404  2000-07-21  0.9363      0.945973\n",
            "405  2000-07-24  0.9332      0.945323\n",
            "406  2000-07-25  0.9410      0.944747\n",
            "407  2000-07-26  0.9390      0.943927\n",
            "408  2000-07-27  0.9389      0.943477\n",
            "409  2000-07-28  0.9276      0.942513\n",
            "410  2000-07-31  0.9243      0.941190\n",
            "411  2000-08-01  0.9264      0.940277\n",
            "412  2000-08-02  0.9142      0.939183\n",
            "413  2000-08-03  0.9028      0.937927\n",
            "414  2000-08-04  0.9031      0.936653\n",
            "415  2000-08-07  0.9084      0.935843\n",
            "416  2000-08-08  0.9047      0.934663\n",
            "417  2000-08-09  0.8973      0.933190\n",
            "418  2000-08-10  0.9031      0.931613\n",
            "419  2000-08-11  0.9132      0.930200\n",
            "420  2000-08-14  0.9011      0.928593\n",
            "421  2000-08-15  0.9118      0.927363\n",
            "422  2000-08-16  0.9072      0.925813\n",
            "423  2000-08-17  0.9140      0.924473\n",
            "424  2000-08-18  0.9127      0.923287\n",
            "425  2000-08-21  0.9023      0.921620\n",
            "426  2000-08-22  0.8972      0.919770\n",
            "427  2000-08-23  0.8918      0.917833\n",
            "428  2000-08-24  0.9012      0.916710\n",
            "429  2000-08-25  0.9021      0.915633\n",
            "430  2000-08-28  0.9007      0.914483\n",
            "431  2000-08-29  0.8965      0.913190\n",
            "432  2000-08-30  0.8909      0.912167\n",
            "433  2000-08-31  0.8906      0.911120\n",
            "434  2000-09-01  0.8902      0.909583\n",
            "435  2000-09-04  0.9000      0.908477\n",
            "436  2000-09-05  0.8886      0.906730\n",
            "437  2000-09-06  0.8818      0.904823\n",
            "438  2000-09-07  0.8676      0.902447\n",
            "439  2000-09-08  0.8735      0.900643\n",
            "440  2000-09-11  0.8609      0.898530\n",
            "441  2000-09-12  0.8614      0.896363\n",
            "442  2000-09-13  0.8654      0.894737\n",
            "443  2000-09-14  0.8693      0.893620\n",
            "444  2000-09-15  0.8615      0.892233\n",
            "445  2000-09-18  0.8526      0.890373\n",
            "446  2000-09-19  0.8541      0.888687\n",
            "447  2000-09-20  0.8476      0.887030\n",
            "448  2000-09-21  0.8524      0.885340\n",
            "449  2000-09-22  0.8890      0.884533\n",
            "450  2000-09-25  0.8770      0.883730\n",
            "451  2000-09-26  0.8757      0.882527\n",
            "452  2000-09-27  0.8861      0.881823\n",
            "453  2000-09-28  0.8832      0.880797\n",
            "454  2000-09-29  0.8765      0.879590\n",
            "455  2000-10-02  0.8802      0.878853\n",
            "456  2000-10-03  0.8763      0.878157\n",
            "457  2000-10-04  0.8730      0.877530\n",
            "458  2000-10-05  0.8786      0.876777\n",
            "459  2000-10-06  0.8703      0.875717\n",
            "460  2000-10-09  0.8695      0.874677\n",
            "461  2000-10-10  0.8721      0.873863\n",
            "462  2000-10-11  0.8720      0.873233\n",
            "463  2000-10-12  0.8648      0.872373\n",
            "464  2000-10-13  0.8627      0.871457\n",
            "465  2000-10-16  0.8511      0.869827\n",
            "466  2000-10-17  0.8496      0.868527\n",
            "467  2000-10-18  0.8525      0.867550\n",
            "468  2000-10-19  0.8411      0.866667\n",
            "469  2000-10-20  0.8452      0.865723\n",
            "470  2000-10-23  0.8377      0.864950\n",
            "471  2000-10-24  0.8386      0.864190\n",
            "472  2000-10-25  0.8307      0.863033\n",
            "473  2000-10-26  0.8252      0.861563\n",
            "474  2000-10-27  0.8324      0.860593\n",
            "475  2000-10-30  0.8482      0.860447\n",
            "476  2000-10-31  0.8417      0.860033\n",
            "477  2000-11-01  0.8554      0.860293\n",
            "478  2000-11-02  0.8646      0.860700\n",
            "479  2000-11-03  0.8730      0.860167\n",
            "480  2000-11-06  0.8667      0.859823\n",
            "481  2000-11-07  0.8587      0.859257\n",
            "482  2000-11-08  0.8559      0.858250\n",
            "483  2000-11-09  0.8531      0.857247\n",
            "484  2000-11-10  0.8673      0.856940\n",
            "485  2000-11-13  0.8620      0.856333\n",
            "486  2000-11-14  0.8583      0.855733\n",
            "487  2000-11-15  0.8596      0.855287\n",
            "488  2000-11-16  0.8569      0.854563\n",
            "489  2000-11-17  0.8535      0.854003\n",
            "490  2000-11-20  0.8488      0.853313\n",
            "491  2000-11-21  0.8474      0.852490\n",
            "492  2000-11-22  0.8429      0.851520\n",
            "493  2000-11-23  0.8427      0.850783\n",
            "494  2000-11-24  0.8436      0.850147\n",
            "495  2000-11-27  0.8406      0.849797\n",
            "496  2000-11-28  0.8561      0.850013\n",
            "497  2000-11-29  0.8650      0.850430\n",
            "498  2000-11-30  0.8684      0.851340\n",
            "499  2000-12-01  0.8735      0.852283\n",
            "500  2000-12-04  0.8908      0.854053\n",
            "501  2000-12-05  0.8810      0.855467\n",
            "502  2000-12-06  0.8828      0.857203\n",
            "503  2000-12-07  0.8943      0.859507\n",
            "504  2000-12-08  0.8895      0.861410\n",
            "505  2000-12-11  0.8804      0.862483\n",
            "506  2000-12-12  0.8782      0.863700\n",
            "507  2000-12-13  0.8748      0.864347\n",
            "508  2000-12-14  0.8839      0.864990\n",
            "509  2000-12-15  0.8984      0.865837\n",
            "510  2000-12-18  0.8966      0.866833\n",
            "511  2000-12-19  0.8903      0.867887\n",
            "512  2000-12-20  0.9059      0.869553\n",
            "513  2000-12-21  0.9146      0.871603\n",
            "514  2000-12-22  0.9240      0.873493\n",
            "517  2000-12-27  0.9310      0.875793\n",
            "518  2000-12-28  0.9285      0.878133\n",
            "519  2000-12-29  0.9305      0.880497\n",
            "521  2001-01-02  0.9423      0.883343\n",
            "522  2001-01-03  0.9530      0.886660\n",
            "523  2001-01-04  0.9458      0.889893\n",
            "524  2001-01-05  0.9545      0.893463\n",
            "525  2001-01-08  0.9497      0.897023\n",
            "526  2001-01-09  0.9401      0.900270\n",
            "527  2001-01-10  0.9412      0.903523\n",
            "528  2001-01-11  0.9523      0.907247\n",
            "529  2001-01-12  0.9545      0.910527\n",
            "530  2001-01-15  0.9428      0.913120\n",
            "531  2001-01-16  0.9412      0.915547\n",
            "532  2001-01-17  0.9396      0.917750\n",
            "533  2001-01-18  0.9404      0.919403\n",
            "534  2001-01-19  0.9400      0.921370\n",
            "535  2001-01-22  0.9290      0.922910\n",
            "536  2001-01-23  0.9407      0.924457\n",
            "537  2001-01-24  0.9294      0.925787\n",
            "538  2001-01-25  0.9146      0.926927\n",
            "539  2001-01-26  0.9228      0.928413\n",
            "540  2001-01-29  0.9193      0.929897\n",
            "541  2001-01-30  0.9197      0.931090\n",
            "542  2001-01-31  0.9293      0.932120\n",
            "543  2001-02-01  0.9406      0.933587\n",
            "544  2001-02-02  0.9407      0.935267\n",
            "545  2001-02-05  0.9425      0.936487\n",
            "546  2001-02-06  0.9322      0.937073\n",
            "547  2001-02-07  0.9325      0.937357\n",
            "548  2001-02-08  0.9220      0.937057\n",
            "549  2001-02-09  0.9227      0.936863\n",
            "550  2001-02-12  0.9288      0.936807\n",
            "551  2001-02-13  0.9275      0.936313\n",
            "552  2001-02-14  0.9178      0.935140\n",
            "553  2001-02-15  0.9090      0.933913\n",
            "554  2001-02-16  0.9113      0.932473\n",
            "555  2001-02-19  0.9213      0.931527\n",
            "556  2001-02-20  0.9070      0.930423\n",
            "557  2001-02-21  0.9146      0.929537\n",
            "558  2001-02-22  0.9056      0.927980\n",
            "559  2001-02-23  0.9064      0.926377\n",
            "560  2001-02-26  0.9105      0.925300\n",
            "561  2001-02-27  0.9163      0.924470\n",
            "562  2001-02-28  0.9248      0.923977\n",
            "563  2001-03-01  0.9269      0.923527\n",
            "564  2001-03-02  0.9363      0.923403\n",
            "565  2001-03-05  0.9305      0.923453\n",
            "566  2001-03-06  0.9279      0.923027\n",
            "567  2001-03-07  0.9307      0.923070\n",
            "568  2001-03-08  0.9312      0.923623\n",
            "569  2001-03-09  0.9357      0.924053\n",
            "570  2001-03-12  0.9272      0.924317\n",
            "571  2001-03-13  0.9202      0.924333\n",
            "572  2001-03-14  0.9182      0.923963\n",
            "573  2001-03-15  0.9064      0.922823\n",
            "574  2001-03-16  0.8947      0.921290\n",
            "575  2001-03-19  0.8996      0.919860\n",
            "576  2001-03-20  0.9020      0.918853\n",
            "577  2001-03-21  0.8990      0.917737\n",
            "578  2001-03-22  0.8889      0.916633\n",
            "579  2001-03-23  0.8922      0.915617\n",
            "580  2001-03-26  0.8935      0.914440\n",
            "581  2001-03-27  0.8952      0.913363\n",
            "582  2001-03-28  0.8860      0.912303\n",
            "583  2001-03-29  0.8840      0.911470\n",
            "584  2001-03-30  0.8832      0.910533\n",
            "585  2001-04-02  0.8772      0.909063\n",
            "586  2001-04-03  0.8845      0.908313\n",
            "587  2001-04-04  0.9032      0.907933\n",
            "588  2001-04-05  0.9020      0.907813\n",
            "589  2001-04-06  0.8940      0.907400\n",
            "590  2001-04-09  0.9018      0.907110\n",
            "591  2001-04-10  0.8945      0.906383\n",
            "592  2001-04-11  0.8840      0.905023\n",
            "593  2001-04-12  0.8849      0.903623\n",
            "596  2001-04-17  0.8791      0.901717\n",
            "597  2001-04-18  0.8778      0.899960\n",
            "598  2001-04-19  0.8827      0.898453\n",
            "599  2001-04-20  0.8989      0.897393\n",
            "600  2001-04-23  0.9002      0.896360\n",
            "601  2001-04-24  0.8973      0.895080\n",
            "602  2001-04-25  0.8947      0.893997\n",
            "603  2001-04-26  0.9013      0.893367\n",
            "604  2001-04-27  0.9023      0.892837\n",
            "605  2001-04-30  0.8876      0.892210\n",
            "607  2001-05-02  0.8907      0.892077\n",
            "608  2001-05-03  0.8903      0.891767\n",
            "609  2001-05-04  0.8939      0.891497\n",
            "610  2001-05-07  0.8919      0.891260\n",
            "611  2001-05-08  0.8866      0.891183\n",
            "612  2001-05-09  0.8827      0.890867\n",
            "613  2001-05-10  0.8850      0.890583\n",
            "614  2001-05-11  0.8773      0.889987\n",
            "615  2001-05-14  0.8745      0.889603\n",
            "616  2001-05-15  0.8768      0.889363\n",
            "617  2001-05-16  0.8834      0.889370\n",
            "618  2001-05-17  0.8815      0.889513\n",
            "619  2001-05-18  0.8777      0.889287\n",
            "620  2001-05-21  0.8754      0.888360\n",
            "621  2001-05-22  0.8685      0.887243\n",
            "622  2001-05-23  0.8585      0.886060\n",
            "623  2001-05-24  0.8604      0.884680\n",
            "624  2001-05-25  0.8591      0.883500\n",
            "625  2001-05-28  0.8584      0.882647\n",
            "626  2001-05-29  0.8552      0.881657\n",
            "627  2001-05-30  0.8558      0.880880\n",
            "628  2001-05-31  0.8480      0.879887\n",
            "629  2001-06-01  0.8478      0.878723\n",
            "630  2001-06-04  0.8513      0.877137\n",
            "631  2001-06-05  0.8465      0.875347\n",
            "632  2001-06-06  0.8543      0.873913\n",
            "633  2001-06-07  0.8466      0.872310\n",
            "634  2001-06-08  0.8468      0.870493\n",
            "635  2001-06-11  0.8494      0.868730\n",
            "636  2001-06-12  0.8474      0.867390\n",
            "637  2001-06-13  0.8542      0.866173\n",
            "638  2001-06-14  0.8492      0.864803\n",
            "639  2001-06-15  0.8662      0.863880\n",
            "640  2001-06-18  0.8581      0.862753\n",
            "641  2001-06-19  0.8563      0.861743\n",
            "642  2001-06-20  0.8513      0.860697\n",
            "643  2001-06-21  0.8552      0.859703\n",
            "644  2001-06-22  0.8528      0.858887\n",
            "645  2001-06-25  0.8607      0.858427\n",
            "646  2001-06-26  0.8611      0.857903\n",
            "647  2001-06-27  0.8622      0.857197\n",
            "648  2001-06-28  0.8511      0.856183\n",
            "649  2001-06-29  0.8480      0.855193\n",
            "650  2001-07-02  0.8455      0.854197\n",
            "651  2001-07-03  0.8497      0.853570\n",
            "652  2001-07-04  0.8453      0.853130\n",
            "653  2001-07-05  0.8422      0.852523\n",
            "654  2001-07-06  0.8384      0.851833\n",
            "655  2001-07-09  0.8459      0.851417\n",
            "656  2001-07-10  0.8545      0.851393\n",
            "657  2001-07-11  0.8611      0.851570\n",
            "658  2001-07-12  0.8538      0.851763\n",
            "659  2001-07-13  0.8539      0.851967\n",
            "660  2001-07-16  0.8583      0.852200\n",
            "661  2001-07-17  0.8516      0.852370\n",
            "662  2001-07-18  0.8630      0.852660\n",
            "663  2001-07-19  0.8723      0.853517\n",
            "664  2001-07-20  0.8776      0.854543\n",
            "665  2001-07-23  0.8676      0.855150\n",
            "666  2001-07-24  0.8708      0.855930\n",
            "667  2001-07-25  0.8793      0.856767\n",
            "668  2001-07-26  0.8764      0.857673\n",
            "669  2001-07-27  0.8768      0.858027\n",
            "670  2001-07-30  0.8751      0.858593\n",
            "671  2001-07-31  0.8755      0.859233\n",
            "672  2001-08-01  0.8817      0.860247\n",
            "673  2001-08-02  0.8788      0.861033\n",
            "674  2001-08-03  0.8806      0.861960\n",
            "675  2001-08-06  0.8805      0.862620\n",
            "676  2001-08-07  0.8768      0.863143\n",
            "677  2001-08-08  0.8763      0.863613\n",
            "678  2001-08-09  0.8853      0.864753\n",
            "679  2001-08-10  0.8936      0.866273\n",
            "680  2001-08-13  0.8991      0.868060\n",
            "681  2001-08-14  0.8968      0.869630\n",
            "682  2001-08-15  0.9114      0.871833\n",
            "683  2001-08-16  0.9144      0.874240\n",
            "684  2001-08-17  0.9138      0.876753\n",
            "685  2001-08-20  0.9149      0.879053\n",
            "686  2001-08-21  0.9128      0.880997\n",
            "687  2001-08-22  0.9216      0.883013\n",
            "688  2001-08-23  0.9112      0.884927\n",
            "689  2001-08-24  0.9108      0.886823\n",
            "690  2001-08-27  0.9090      0.888513\n",
            "691  2001-08-28  0.9042      0.890267\n",
            "692  2001-08-29  0.9122      0.891907\n",
            "693  2001-08-30  0.9095      0.893147\n",
            "694  2001-08-31  0.9158      0.894420\n",
            "695  2001-09-03  0.9072      0.895740\n",
            "696  2001-09-04  0.8970      0.896613\n",
            "697  2001-09-05  0.8891      0.896940\n",
            "698  2001-09-06  0.8855      0.897243\n",
            "699  2001-09-07  0.8952      0.897857\n",
            "700  2001-09-10  0.9047      0.898843\n",
            "701  2001-09-11  0.8964      0.899540\n",
            "702  2001-09-12  0.9052      0.900323\n",
            "703  2001-09-13  0.9060      0.901230\n",
            "704  2001-09-14  0.9219      0.902607\n",
            "705  2001-09-17  0.9269      0.904153\n",
            "706  2001-09-18  0.9256      0.905780\n",
            "707  2001-09-19  0.9258      0.907430\n",
            "708  2001-09-20  0.9259      0.908783\n",
            "709  2001-09-21  0.9200      0.909663\n",
            "710  2001-09-24  0.9164      0.910240\n",
            "711  2001-09-25  0.9176      0.910933\n",
            "712  2001-09-26  0.9219      0.911283\n",
            "713  2001-09-27  0.9205      0.911487\n",
            "714  2001-09-28  0.9131      0.911463\n",
            "715  2001-10-01  0.9125      0.911383\n",
            "716  2001-10-02  0.9189      0.911587\n",
            "717  2001-10-03  0.9209      0.911563\n",
            "718  2001-10-04  0.9117      0.911580\n",
            "719  2001-10-05  0.9174      0.911800\n",
            "720  2001-10-08  0.9214      0.912213\n",
            "721  2001-10-09  0.9193      0.912717\n",
            "722  2001-10-10  0.9136      0.912763\n",
            "723  2001-10-11  0.9062      0.912653\n",
            "724  2001-10-12  0.9040      0.912260\n",
            "725  2001-10-15  0.9097      0.912343\n",
            "726  2001-10-16  0.9052      0.912617\n",
            "727  2001-10-17  0.9022      0.913053\n",
            "728  2001-10-18  0.9026      0.913623\n",
            "729  2001-10-19  0.9009      0.913813\n",
            "730  2001-10-22  0.8969      0.913553\n",
            "731  2001-10-23  0.8887      0.913297\n",
            "732  2001-10-24  0.8917      0.912847\n",
            "733  2001-10-25  0.8889      0.912277\n",
            "734  2001-10-26  0.8911      0.911250\n",
            "735  2001-10-29  0.9005      0.910370\n",
            "736  2001-10-30  0.9064      0.909730\n",
            "737  2001-10-31  0.9042      0.909010\n",
            "738  2001-11-01  0.9097      0.908470\n",
            "739  2001-11-02  0.9056      0.907990\n",
            "740  2001-11-05  0.8961      0.907313\n",
            "741  2001-11-06  0.8961      0.906597\n",
            "742  2001-11-07  0.9014      0.905913\n",
            "743  2001-11-08  0.8972      0.905137\n",
            "744  2001-11-09  0.8930      0.904467\n",
            "745  2001-11-12  0.8919      0.903780\n",
            "746  2001-11-13  0.8842      0.902623\n",
            "747  2001-11-14  0.8803      0.901270\n",
            "748  2001-11-15  0.8825      0.900297\n",
            "749  2001-11-16  0.8845      0.899200\n",
            "750  2001-11-19  0.8793      0.897797\n",
            "751  2001-11-20  0.8824      0.896567\n",
            "752  2001-11-21  0.8791      0.895417\n",
            "753  2001-11-22  0.8778      0.894470\n",
            "754  2001-11-23  0.8795      0.893653\n",
            "755  2001-11-26  0.8818      0.892723\n",
            "756  2001-11-27  0.8788      0.891843\n",
            "757  2001-11-28  0.8831      0.891207\n",
            "758  2001-11-29  0.8887      0.890743\n",
            "759  2001-11-30  0.8898      0.890373\n",
            "760  2001-12-03  0.8925      0.890227\n",
            "761  2001-12-04  0.8902      0.890277\n",
            "762  2001-12-05  0.8919      0.890283\n",
            "763  2001-12-06  0.8889      0.890283\n",
            "764  2001-12-07  0.8911      0.890283\n",
            "765  2001-12-10  0.8850      0.889767\n",
            "766  2001-12-11  0.8908      0.889247\n",
            "767  2001-12-12  0.8938      0.888900\n",
            "768  2001-12-13  0.8975      0.888493\n",
            "769  2001-12-14  0.9016      0.888360\n",
            "770  2001-12-17  0.9049      0.888653\n",
            "771  2001-12-18  0.9012      0.888823\n",
            "772  2001-12-19  0.8983      0.888720\n",
            "773  2001-12-20  0.8973      0.888723\n",
            "774  2001-12-21  0.8943      0.888767\n",
            "775  2001-12-24  0.8798      0.888363\n",
            "778  2001-12-27  0.8823      0.888300\n",
            "779  2001-12-28  0.8813      0.888333\n",
            "782  2002-01-02  0.9038      0.889043\n",
            "783  2002-01-03  0.9036      0.889680\n",
            "784  2002-01-04  0.8954      0.890217\n",
            "785  2002-01-07  0.8905      0.890487\n",
            "786  2002-01-08  0.8909      0.890880\n",
            "787  2002-01-09  0.8921      0.891357\n",
            "788  2002-01-10  0.8909      0.891737\n",
            "789  2002-01-11  0.8919      0.892073\n",
            "790  2002-01-14  0.8927      0.892537\n",
            "791  2002-01-15  0.8922      0.892840\n",
            "792  2002-01-16  0.8817      0.892607\n",
            "793  2002-01-17  0.8819      0.892343\n",
            "794  2002-01-18  0.8810      0.891960\n",
            "795  2002-01-21  0.8840      0.891753\n",
            "796  2002-01-22  0.8830      0.891457\n",
            "797  2002-01-23  0.8856      0.891347\n",
            "798  2002-01-24  0.8767      0.890867\n",
            "799  2002-01-25  0.8663      0.890243\n",
            "800  2002-01-28  0.8578      0.889143\n",
            "801  2002-01-29  0.8624      0.888097\n",
            "802  2002-01-30  0.8642      0.886987\n",
            "803  2002-01-31  0.8637      0.885723\n",
            "804  2002-02-01  0.8632      0.884333\n",
            "805  2002-02-04  0.8644      0.883107\n",
            "806  2002-02-05  0.8683      0.882107\n",
            "807  2002-02-06  0.8664      0.881077\n",
            "808  2002-02-07  0.8664      0.880147\n",
            "809  2002-02-08  0.8740      0.879953\n",
            "810  2002-02-11  0.8794      0.879857\n",
            "811  2002-02-12  0.8753      0.879657\n",
            "812  2002-02-13  0.8731      0.878633\n",
            "813  2002-02-14  0.8693      0.877490\n",
            "814  2002-02-15  0.8705      0.876660\n",
            "815  2002-02-18  0.8715      0.876027\n",
            "816  2002-02-19  0.8692      0.875303\n",
            "817  2002-02-20  0.8743      0.874710\n",
            "818  2002-02-21  0.8701      0.874017\n",
            "819  2002-02-22  0.8747      0.873443\n",
            "820  2002-02-25  0.8724      0.872767\n",
            "821  2002-02-26  0.8682      0.871967\n",
            "822  2002-02-27  0.8649      0.871407\n",
            "823  2002-02-28  0.8651      0.870847\n",
            "824  2002-03-01  0.8679      0.870410\n",
            "825  2002-03-04  0.8649      0.869773\n",
            "826  2002-03-05  0.8682      0.869280\n",
            "827  2002-03-06  0.8712      0.868800\n",
            "828  2002-03-07  0.8764      0.868790\n",
            "829  2002-03-08  0.8797      0.869237\n",
            "830  2002-03-11  0.8741      0.869780\n",
            "831  2002-03-12  0.8733      0.870143\n",
            "832  2002-03-13  0.8734      0.870450\n",
            "833  2002-03-14  0.8803      0.871003\n",
            "834  2002-03-15  0.8853      0.871740\n",
            "835  2002-03-18  0.8792      0.872233\n",
            "836  2002-03-19  0.8829      0.872720\n",
            "837  2002-03-20  0.8814      0.873220\n",
            "838  2002-03-21  0.8817      0.873730\n",
            "839  2002-03-22  0.8795      0.873913\n",
            "840  2002-03-25  0.8759      0.873797\n",
            "841  2002-03-26  0.8737      0.873743\n",
            "842  2002-03-27  0.8746      0.873793\n",
            "843  2002-03-28  0.8724      0.873897\n",
            "846  2002-04-02  0.8786      0.874167\n",
            "847  2002-04-03  0.8803      0.874460\n",
            "848  2002-04-04  0.8818      0.874880\n",
            "849  2002-04-05  0.8786      0.875023\n",
            "850  2002-04-08  0.8778      0.875280\n",
            "851  2002-04-09  0.8763      0.875333\n",
            "852  2002-04-10  0.8798      0.875580\n",
            "853  2002-04-11  0.8794      0.875953\n",
            "854  2002-04-12  0.8803      0.876467\n",
            "855  2002-04-15  0.8802      0.876970\n",
            "856  2002-04-16  0.8803      0.877383\n",
            "857  2002-04-17  0.8880      0.878153\n",
            "858  2002-04-18  0.8895      0.878863\n",
            "859  2002-04-19  0.8886      0.879443\n",
            "860  2002-04-22  0.8882      0.879837\n",
            "861  2002-04-23  0.8872      0.880087\n",
            "862  2002-04-24  0.8892      0.880590\n",
            "863  2002-04-25  0.8969      0.881377\n",
            "864  2002-04-26  0.8971      0.882167\n",
            "865  2002-04-29  0.9038      0.882950\n",
            "866  2002-04-30  0.9008      0.883467\n",
            "868  2002-05-02  0.9032      0.884267\n",
            "869  2002-05-03  0.9083      0.885113\n",
            "870  2002-05-06  0.9144      0.886213\n",
            "871  2002-05-07  0.9125      0.887240\n",
            "872  2002-05-08  0.9088      0.888217\n",
            "873  2002-05-09  0.9061      0.889223\n",
            "874  2002-05-10  0.9118      0.890493\n",
            "875  2002-05-13  0.9118      0.891733\n",
            "876  2002-05-14  0.9062      0.892860\n",
            "877  2002-05-15  0.9030      0.893673\n",
            "878  2002-05-16  0.9124      0.894743\n",
            "879  2002-05-17  0.9152      0.895857\n",
            "880  2002-05-20  0.9202      0.897243\n",
            "881  2002-05-21  0.9213      0.898693\n",
            "882  2002-05-22  0.9260      0.900350\n",
            "883  2002-05-23  0.9213      0.901733\n",
            "884  2002-05-24  0.9188      0.903047\n",
            "885  2002-05-27  0.9190      0.904337\n",
            "886  2002-05-28  0.9255      0.905847\n",
            "887  2002-05-29  0.9320      0.907570\n",
            "888  2002-05-30  0.9375      0.909220\n",
            "889  2002-05-31  0.9387      0.910860\n",
            "890  2002-06-03  0.9313      0.912283\n",
            "891  2002-06-04  0.9435      0.914127\n",
            "892  2002-06-05  0.9371      0.915790\n",
            "893  2002-06-06  0.9386      0.917437\n",
            "894  2002-06-07  0.9452      0.919047\n",
            "895  2002-06-10  0.9459      0.920673\n",
            "896  2002-06-11  0.9417      0.921937\n",
            "897  2002-06-12  0.9452      0.923417\n",
            "898  2002-06-13  0.9417      0.924700\n",
            "899  2002-06-14  0.9478      0.926017\n",
            "900  2002-06-17  0.9426      0.926957\n",
            "901  2002-06-18  0.9484      0.928153\n",
            "902  2002-06-19  0.9561      0.929730\n",
            "903  2002-06-20  0.9592      0.931500\n",
            "904  2002-06-21  0.9636      0.933227\n",
            "905  2002-06-24  0.9781      0.935437\n",
            "906  2002-06-25  0.9712      0.937603\n",
            "907  2002-06-26  0.9917      0.940560\n",
            "908  2002-06-27  0.9824      0.942893\n",
            "909  2002-06-28  0.9975      0.945637\n",
            "910  2002-07-01  0.9913      0.948007\n",
            "911  2002-07-02  0.9838      0.950090\n",
            "912  2002-07-03  0.9780      0.951823\n",
            "913  2002-07-04  0.9790      0.953747\n",
            "914  2002-07-05  0.9725      0.955537\n",
            "915  2002-07-08  0.9828      0.957663\n",
            "916  2002-07-09  0.9930      0.959913\n",
            "917  2002-07-10  0.9898      0.961840\n",
            "918  2002-07-11  0.9836      0.963377\n",
            "919  2002-07-12  0.9873      0.964997\n",
            "926  2002-07-23  0.9910      0.980270\n",
            "927  2002-07-24  0.9915      0.981813\n",
            "930  2002-07-29  0.9821      0.986887\n",
            "931  2002-07-30  0.9835      0.988057\n",
            "932  2002-07-31  0.9783      0.988797\n",
            "933  2002-08-01  0.9760      0.989357\n",
            "934  2002-08-02  0.9873      0.990147\n",
            "935  2002-08-05  0.9836      0.990330\n",
            "936  2002-08-06  0.9689      0.990253\n",
            "937  2002-08-07  0.9698      0.989523\n",
            "938  2002-08-08  0.9687      0.989067\n",
            "939  2002-08-09  0.9729      0.988247\n",
            "940  2002-08-12  0.9780      0.987803\n",
            "941  2002-08-13  0.9799      0.987673\n",
            "942  2002-08-14  0.9857      0.987930\n",
            "943  2002-08-15  0.9777      0.987887\n",
            "944  2002-08-16  0.9825      0.988220\n",
            "945  2002-08-19  0.9799      0.988123\n",
            "946  2002-08-20  0.9792      0.987663\n",
            "947  2002-08-21  0.9762      0.987210\n",
            "948  2002-08-22  0.9770      0.986990\n",
            "949  2002-08-23  0.9697      0.986403\n",
            "950  2002-08-26  0.9701      0.985327\n",
            "951  2002-08-27  0.9774      0.984150\n",
            "952  2002-08-28  0.9826      0.983357\n",
            "953  2002-08-29  0.9843      0.982640\n",
            "954  2002-08-30  0.9833      0.981597\n",
            "955  2002-09-02  0.9821      0.980713\n",
            "956  2002-09-03  0.9910      0.980713\n",
            "957  2002-09-04  0.9947      0.980820\n",
            "958  2002-09-05  0.9975      0.980690\n",
            "959  2002-09-06  0.9918      0.980390\n",
            "960  2002-09-09  0.9794      0.980300\n",
            "961  2002-09-10  0.9760      0.980050\n",
            "962  2002-09-11  0.9749      0.979937\n",
            "963  2002-09-12  0.9757      0.979927\n",
            "964  2002-09-13  0.9810      0.979717\n",
            "965  2002-09-16  0.9683      0.979207\n",
            "966  2002-09-17  0.9649      0.979073\n",
            "967  2002-09-18  0.9725      0.979163\n",
            "968  2002-09-19  0.9814      0.979587\n",
            "969  2002-09-20  0.9790      0.979790\n",
            "970  2002-09-23  0.9831      0.979960\n",
            "971  2002-09-24  0.9828      0.980057\n",
            "972  2002-09-25  0.9771      0.979770\n",
            "973  2002-09-26  0.9796      0.979833\n",
            "974  2002-09-27  0.9779      0.979680\n",
            "975  2002-09-30  0.9860      0.979883\n",
            "976  2002-10-01  0.9861      0.980113\n",
            "977  2002-10-02  0.9835      0.980357\n",
            "978  2002-10-03  0.9890      0.980757\n",
            "979  2002-10-04  0.9865      0.981317\n",
            "980  2002-10-07  0.9808      0.981673\n",
            "981  2002-10-08  0.9800      0.981760\n",
            "982  2002-10-09  0.9814      0.981720\n",
            "983  2002-10-10  0.9875      0.981827\n",
            "984  2002-10-11  0.9857      0.981907\n",
            "985  2002-10-14  0.9873      0.982080\n",
            "986  2002-10-15  0.9810      0.981747\n",
            "987  2002-10-16  0.9823      0.981333\n",
            "988  2002-10-17  0.9763      0.980627\n",
            "989  2002-10-18  0.9735      0.980017\n",
            "990  2002-10-21  0.9748      0.979863\n",
            "991  2002-10-22  0.9768      0.979890\n",
            "992  2002-10-23  0.9775      0.979977\n",
            "993  2002-10-24  0.9738      0.979913\n",
            "994  2002-10-25  0.9763      0.979757\n",
            "995  2002-10-28  0.9745      0.979963\n",
            "996  2002-10-29  0.9820      0.980533\n",
            "997  2002-10-30  0.9825      0.980867\n",
            "998  2002-10-31  0.9864      0.981033\n",
            "999  2002-11-01  0.9974      0.981647\n",
            "1000 2002-11-04  0.9944      0.982023\n",
            "1002 2002-11-06  0.9955      0.983290\n",
            "1015 2002-11-25  0.9905      0.992550\n",
            "1016 2002-11-26  0.9910      0.992883\n",
            "1017 2002-11-27  0.9927      0.993230\n",
            "1018 2002-11-28  0.9934      0.993800\n",
            "1019 2002-11-29  0.9927      0.994440\n",
            "1020 2002-12-02  0.9871      0.994850\n",
            "1021 2002-12-03  0.9967      0.995513\n",
            "1023 2002-12-05  0.9991      0.997167\n",
            "6116 2022-08-23  0.9927      1.016500\n",
            "6117 2022-08-24  0.9934      1.016057\n",
            "6118 2022-08-25  0.9970      1.015940\n",
            "6120 2022-08-29  0.9986      1.015283\n",
            "6124 2022-09-02  0.9993      1.012610\n",
            "6125 2022-09-05  0.9920      1.011557\n",
            "6126 2022-09-06  0.9928      1.010903\n",
            "6127 2022-09-07  0.9885      1.010013\n",
            "6132 2022-09-14  0.9990      1.008037\n",
            "6133 2022-09-15  0.9992      1.007407\n",
            "6134 2022-09-16  0.9954      1.006477\n",
            "6135 2022-09-19  0.9990      1.005780\n",
            "6136 2022-09-20  0.9986      1.004953\n",
            "6137 2022-09-21  0.9906      1.003800\n",
            "6138 2022-09-22  0.9884      1.002287\n",
            "6139 2022-09-23  0.9754      1.000517\n",
            "6140 2022-09-26  0.9646      0.998687\n",
            "6141 2022-09-27  0.9644      0.997063\n",
            "6142 2022-09-28  0.9565      0.995067\n",
            "6143 2022-09-29  0.9706      0.993493\n",
            "6144 2022-09-30  0.9748      0.992473\n",
            "6145 2022-10-03  0.9764      0.991683\n",
            "6146 2022-10-04  0.9891      0.991563\n"
          ]
        }
      ],
      "execution_count": null,
      "metadata": {
        "noteable": {},
        "ExecuteTime": {
          "start_time": "2023-06-05T20:02:07.547001+00:00",
          "end_time": "2023-06-05T20:02:07.731701+00:00"
        },
        "jupyter": {
          "source_hidden": false,
          "outputs_hidden": true
        }
      },
      "id": "5f06445f"
    },
    {
      "cell_type": "code",
      "source": [
        "import matplotlib.style as style\n",
        "style.use('fivethirtyeight')\n",
        "fig,ax = plt.subplots(figsize=(8,3))\n",
        "ax.plot(euro_to_dollar['Time'], euro_to_dollar['USD'],linewidth=1, color='#A6D785')\n",
        "ax.plot(UsdOverEur['Time'], UsdOverEur['USD'],linewidth=3, color='#e23d28')\n",
        "plt.axhline(y=1, color='r', linestyle='-')\n",
        "\n",
        "plt.title('EUR/USD dipped below 1 for the first time in 20 Years', loc='left',weight='bold',fontsize = '14')\n",
        "\n",
        "plt.ylabel('EUR/USD Rate',fontsize = '12')\n",
        " \n",
        "plt.show()\n",
        "\n",
        "\n"
      ],
      "outputs": [
        {
          "output_type": "display_data",
          "data": {
            "image/png": "[encoded data removed]"
          },
          "metadata": {}
        }
      ],
      "execution_count": null,
      "metadata": {
        "noteable": {},
        "ExecuteTime": {
          "start_time": "2023-06-05T20:02:14.441200+00:00",
          "end_time": "2023-06-05T20:02:14.911826+00:00"
        }
      },
      "id": "e7d2a180"
    },
    {
      "cell_type": "markdown",
      "source": [
        "Through this analysis, we've tracked the exchange rate between the Euro and the US dollar over the course of more than two decades. Our visualizations showed the fluctuations in exchange rates over time. We successfully identified the rare instances when the value of the USD exceeded the EUR for the first time in 20 years. The highlight of this analysis was plotting these instances on the graph, which provides a clear visualization of the times when the EUR/USD exchange rate dipped below 1. This notebook demonstrates a robust way of processing and visualizing time-series data, providing valuable insights into the dynamics of the foreign exchange market. Future work could extend this analysis to other currency pairs or delve into the causes behind major fluctuations.\n",
        "\n",
        "\n",
        "\n",
        "\n"
      ],
      "metadata": {},
      "id": "28ff23a5"
    }
  ],
  "metadata": {
    "kernelspec": {
      "display_name": "Python 3.10.7 64-bit",
      "language": "python",
      "name": "python3"
    },
    "language_info": {
      "codemirror_mode": {
        "name": "ipython",
        "version": 3
      },
      "file_extension": ".py",
      "mimetype": "text/x-python",
      "name": "python",
      "nbconvert_exporter": "python",
      "pygments_lexer": "ipython3",
      "version": "3.10.7"
    },
    "orig_nbformat": 4,
    "vscode": {
      "interpreter": {
        "hash": "b779c64434253547403a1304d541be882ffc75e313439a5af5f44d800f505b20"
      }
    },
    "noteable": {
      "last_delta_id": "939b415c-cccc-4ed3-b443-a47ef57e9653"
    },
    "selected_hardware_size": "small",
    "nteract": {
      "version": "noteable@2.9.0"
    }
  },
  "nbformat": 4,
  "nbformat_minor": 5
}