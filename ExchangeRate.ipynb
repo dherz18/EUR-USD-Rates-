{
 "cells": [
  {
   "attachments": {},
   "cell_type": "markdown",
   "metadata": {},
   "source": [
    "Dave Herzau "
   ]
  },
  {
   "attachments": {},
   "cell_type": "markdown",
   "metadata": {},
   "source": [
    "In this Jupyter notebook, we are conducting an exploratory analysis of the daily exchange rates between the Euro and the US dollar from 1999 to 2022. The primary objective of this analysis is to study the trend in the exchange rate over the years, especially focusing on instances when the value of the US dollar exceeded the Euro. We will be utilizing the Pandas library for data manipulation and analysis, and Matplotlib for data visualization."
   ]
  },
  {
   "cell_type": "code",
   "execution_count": null,
   "metadata": {},
   "outputs": [],
   "source": [
    "import pandas as pd\n",
    "\n",
    "df = pd.read_csv('euro-daily-hist_1999_2022.csv')\n",
    "df.head()"
   ]
  },
  {
   "cell_type": "code",
   "execution_count": null,
   "metadata": {},
   "outputs": [],
   "source": [
    "df.tail()"
   ]
  },
  {
   "cell_type": "code",
   "execution_count": null,
   "metadata": {},
   "outputs": [],
   "source": [
    "df.info()"
   ]
  },
  {
   "cell_type": "code",
   "execution_count": null,
   "metadata": {},
   "outputs": [],
   "source": [
    "df.rename(columns={'[US dollar ]': 'USD', 'Period\\\\Unit:': 'Time'},inplace=True)\n",
    "df.head()\n",
    "df['Time'] = pd.to_datetime(df['Time'])\n",
    "df.sort_values('Time',inplace = True)\n",
    "df.reset_index(drop=True,inplace=True)\n",
    "df.head()"
   ]
  },
  {
   "cell_type": "code",
   "execution_count": null,
   "metadata": {},
   "outputs": [],
   "source": [
    "euro_to_dollar = df[['Time','USD']].copy()\n",
    "df['USD'].value_counts() #62 '-' characters"
   ]
  },
  {
   "cell_type": "code",
   "execution_count": null,
   "metadata": {},
   "outputs": [],
   "source": [
    "euro_to_dollar = euro_to_dollar[euro_to_dollar['USD'] != '-']\n",
    "euro_to_dollar['USD'] = euro_to_dollar['USD'].astype(float)\n",
    "euro_to_dollar.info()"
   ]
  },
  {
   "cell_type": "code",
   "execution_count": null,
   "metadata": {},
   "outputs": [],
   "source": [
    "import matplotlib.pyplot as plt\n",
    "%matplotlib inline\n",
    "\n",
    "plt.plot(euro_to_dollar['Time'],euro_to_dollar['USD'])\n",
    "plt.show()"
   ]
  },
  {
   "cell_type": "code",
   "execution_count": null,
   "metadata": {},
   "outputs": [],
   "source": [
    "euro_to_dollar['rolling_mean'] = euro_to_dollar['USD'].rolling(30).mean()\n",
    "plt.plot(euro_to_dollar['Time'],euro_to_dollar['rolling_mean'])"
   ]
  },
  {
   "attachments": {},
   "cell_type": "markdown",
   "metadata": {},
   "source": [
    "USD worth more than EUR for the first time in 20 years "
   ]
  },
  {
   "cell_type": "code",
   "execution_count": null,
   "metadata": {},
   "outputs": [],
   "source": [
    "UsdOverEur = euro_to_dollar.copy()[euro_to_dollar['USD'] < 1]\n",
    "print(UsdOverEur)"
   ]
  },
  {
   "cell_type": "code",
   "execution_count": null,
   "metadata": {},
   "outputs": [],
   "source": [
    "import matplotlib.style as style\n",
    "style.use('fivethirtyeight')\n",
    "fig,ax = plt.subplots(figsize=(8,3))\n",
    "ax.plot(euro_to_dollar['Time'], euro_to_dollar['USD'],linewidth=1, color='#A6D785')\n",
    "ax.plot(UsdOverEur['Time'], UsdOverEur['USD'],linewidth=3, color='#e23d28')\n",
    "plt.axhline(y=1, color='r', linestyle='-')\n",
    "\n",
    "plt.title('EUR/USD dipped below 1 for the first time in 20 Years', loc='left',weight='bold',fontsize = '14')\n",
    "\n",
    "plt.ylabel('EUR/USD Rate',fontsize = '12')\n",
    " \n",
    "plt.show()\n",
    "\n",
    "\n"
   ]
  },
  {
   "attachments": {},
   "cell_type": "markdown",
   "metadata": {},
   "source": [
    "Through this analysis, we've tracked the exchange rate between the Euro and the US dollar over the course of more than two decades. Our visualizations showed the fluctuations in exchange rates over time. We successfully identified the rare instances when the value of the USD exceeded the EUR for the first time in 20 years. The highlight of this analysis was plotting these instances on the graph, which provides a clear visualization of the times when the EUR/USD exchange rate dipped below 1. This notebook demonstrates a robust way of processing and visualizing time-series data, providing valuable insights into the dynamics of the foreign exchange market. Future work could extend this analysis to other currency pairs or delve into the causes behind major fluctuations.\n",
    "\n",
    "\n",
    "\n",
    "\n"
   ]
  }
 ],
 "metadata": {
  "kernelspec": {
   "display_name": "Python 3.10.7 64-bit",
   "language": "python",
   "name": "python3"
  },
  "language_info": {
   "codemirror_mode": {
    "name": "ipython",
    "version": 3
   },
   "file_extension": ".py",
   "mimetype": "text/x-python",
   "name": "python",
   "nbconvert_exporter": "python",
   "pygments_lexer": "ipython3",
   "version": "3.10.7"
  },
  "orig_nbformat": 4,
  "vscode": {
   "interpreter": {
    "hash": "b779c64434253547403a1304d541be882ffc75e313439a5af5f44d800f505b20"
   }
  }
 },
 "nbformat": 4,
 "nbformat_minor": 2
}
